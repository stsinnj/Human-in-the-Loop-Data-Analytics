{
 "cells": [
  {
   "cell_type": "markdown",
   "id": "1c2e9804",
   "metadata": {},
   "source": [
    "Author: Audrey Ao"
   ]
  },
  {
   "cell_type": "markdown",
   "id": "41b8314d",
   "metadata": {},
   "source": [
    "## Introduction"
   ]
  },
  {
   "cell_type": "markdown",
   "id": "c026fff1",
   "metadata": {},
   "source": [
    "In this notebook, all explorations, anlysis and results of three datasets for the sub_question 'Do people have preferences about which week do more activities in a month?' will be shown.<br>(beginning date:2022/10/23, end date: 2022/10/23)"
   ]
  },
  {
   "cell_type": "markdown",
   "id": "b541a415",
   "metadata": {},
   "source": [
    "#### External libraries:"
   ]
  },
  {
   "cell_type": "code",
   "execution_count": 1,
   "id": "851c13d7",
   "metadata": {},
   "outputs": [],
   "source": [
    "import pandas as pd\n",
    "import matplotlib.pyplot as plt\n",
    "import math\n",
    "# import numpy as np\n",
    "import math\n",
    "#(beginning date:2022/10/24, end date: 2022/10/24)"
   ]
  },
  {
   "cell_type": "markdown",
   "id": "de661a93",
   "metadata": {},
   "source": [
    "#### Read data"
   ]
  },
  {
   "cell_type": "code",
   "execution_count": 2,
   "id": "1983bdb7",
   "metadata": {},
   "outputs": [],
   "source": [
    "p1 = pd.read_csv(\"D:/university/s2/3406/2022-DATA3406-RE06-Group04/src/resources/Participant-01-second-detail.csv\")\n",
    "p2 = pd.read_csv(\"D:/university/s2/3406/2022-DATA3406-RE06-Group04/src/resources/Participant-02-detail.csv\")\n",
    "p5 = pd.read_csv(\"D:/university/s2/3406/2022-DATA3406-RE06-Group04/src/resources/Participant-05-detail.csv\")\n",
    "#(beginning date:2022/10/11, end date: 2022/10/24)"
   ]
  },
  {
   "cell_type": "markdown",
   "id": "bbe74585",
   "metadata": {},
   "source": [
    "Participant1, participant2 and participant3 datasets have been saved in p1, p2 and p3 respectivly.<br>(beginning date:2022/10/24, end date: 2022/10/24)"
   ]
  },
  {
   "cell_type": "markdown",
   "id": "3e8607d3",
   "metadata": {},
   "source": [
    "##### Data cleaning"
   ]
  },
  {
   "cell_type": "markdown",
   "id": "f77b4235",
   "metadata": {},
   "source": [
    "In this section, I have checked null value for all three datasets, and only keep columns that I need for the further analysis. Besides, since the description on the canvas stated that only this year data are needed, all data that for 2022 will be delate.<br>(beginning date:2022/10/11, end date: 2022/10/24)"
   ]
  },
  {
   "cell_type": "markdown",
   "id": "adb49449",
   "metadata": {},
   "source": [
    "Firstly, checking whether there are null values contained in the datasets.<br>(beginning date:2022/10/11, end date: 2022/10/24)"
   ]
  },
  {
   "cell_type": "code",
   "execution_count": 3,
   "id": "a6398fa2",
   "metadata": {
    "scrolled": true
   },
   "outputs": [
    {
     "name": "stdout",
     "output_type": "stream",
     "text": [
      "0\n",
      "0\n",
      "0\n"
     ]
    }
   ],
   "source": [
    "print(p1.isnull().sum().sum())\n",
    "print(p2.isnull().sum().sum())\n",
    "print(p5.isnull().sum().sum())\n",
    "#(beginning date:2022/10/11, end date: 2022/10/24"
   ]
  },
  {
   "cell_type": "markdown",
   "id": "0367af40",
   "metadata": {},
   "source": [
    "As result above showed, there is no null value contained in the datasets.\n",
    "Now, I will only keep and save columns that I need to the new varibales.<br>(beginning date:2022/10/11, end date: 2022/10/24)"
   ]
  },
  {
   "cell_type": "code",
   "execution_count": 4,
   "id": "627879df",
   "metadata": {},
   "outputs": [],
   "source": [
    "def keep_column(df):\n",
    "    data = pd.DataFrame({\"Date\": df['Date'], \"Count\":df['Count']})\n",
    "    # convert type of 'Date' to Datetimes type\n",
    "    data['Date'] = pd.to_datetime(data['Date'])\n",
    "    # keep data in 2022\n",
    "    result = data[(data['Date'] >= '2022-01-01') & (data['Date'] <= '2022-12-31')]\n",
    "    \n",
    "    return result\n",
    "p1_cleaned = keep_column(p1)\n",
    "p2_cleaned = keep_column(p2)\n",
    "p5_cleaned = keep_column(p5)\n",
    "#     data['Date'] = pd.to_datetime(data['Date'])\n",
    "#     per_day_data =  data.groupby(['Date']).sum()\n",
    "#(beginning date:2022/10/11, end date: 2022/10/24"
   ]
  },
  {
   "cell_type": "markdown",
   "id": "081c6c80",
   "metadata": {},
   "source": [
    "Now, Lets check whether each datasets cleaned successfuly.<br>(beginning date:2022/10/11, end date: 2022/10/24)"
   ]
  },
  {
   "cell_type": "code",
   "execution_count": 5,
   "id": "dfa9be1f",
   "metadata": {},
   "outputs": [
    {
     "name": "stdout",
     "output_type": "stream",
     "text": [
      "            Date  Count\n",
      "0     2022-01-01     32\n",
      "1     2022-01-01     49\n",
      "2     2022-01-01     14\n",
      "3     2022-01-01     20\n",
      "4     2022-01-01     16\n",
      "...          ...    ...\n",
      "34471 2022-09-25    268\n",
      "34472 2022-09-25    135\n",
      "34473 2022-09-25     98\n",
      "34474 2022-09-25    189\n",
      "34475 2022-09-25     20\n",
      "\n",
      "[34476 rows x 2 columns]\n",
      "            Date  Count\n",
      "0     2022-01-01     31\n",
      "3     2022-01-01     29\n",
      "4     2022-01-01     13\n",
      "5     2022-01-01    103\n",
      "6     2022-01-01    553\n",
      "...          ...    ...\n",
      "31633 2022-09-01    498\n",
      "31634 2022-09-01     26\n",
      "31635 2022-09-01    110\n",
      "31636 2022-09-01     21\n",
      "31637 2022-09-01     76\n",
      "\n",
      "[31635 rows x 2 columns]\n",
      "            Date  Count\n",
      "0     2022-01-27      4\n",
      "1     2022-01-02     78\n",
      "2     2022-01-02     66\n",
      "3     2022-01-02     57\n",
      "4     2022-01-02     99\n",
      "...          ...    ...\n",
      "12132 2022-09-01     59\n",
      "12133 2022-09-01    102\n",
      "12134 2022-09-01     15\n",
      "12135 2022-09-01     35\n",
      "12136 2022-09-01     47\n",
      "\n",
      "[12137 rows x 2 columns]\n"
     ]
    }
   ],
   "source": [
    "print(p1_cleaned)\n",
    "print(p2_cleaned)\n",
    "print(p5_cleaned)"
   ]
  },
  {
   "cell_type": "markdown",
   "id": "38cdf85b",
   "metadata": {},
   "source": [
    "As results above showd, all datasets only contains columns that we need. Then,I will do data analysis and answer my sub_questions.<br>(beginning date:2022/10/11, end date: 2022/10/24)\n"
   ]
  },
  {
   "cell_type": "markdown",
   "id": "0189de31",
   "metadata": {},
   "source": [
    "#### Data analysis"
   ]
  },
  {
   "cell_type": "markdown",
   "id": "9041c893",
   "metadata": {},
   "source": [
    "I will answer sub_question assigned to me in this section. In order to know which week people prefer do more exercises in month, the datasets need to be grouped by each day, and aggreated data by week. Lastly, calculate the sum of steps per week, and filter the week that with max steps count per month.<br>(beginning date:2022/10/25, end date: 2022/10/25)"
   ]
  },
  {
   "cell_type": "code",
   "execution_count": 6,
   "id": "dbd4e80c",
   "metadata": {},
   "outputs": [],
   "source": [
    "def weekly_data(df):\n",
    "    df['Date'] = pd.to_datetime(df['Date'])\n",
    "    # group data by date\n",
    "    per_day_data =  df.groupby(['Date']).sum()\n",
    "    # convert data seriers index to data column\n",
    "    per_day_data.reset_index(inplace=True)\n",
    "    # group per_day data by week.\n",
    "    weekly_data = per_day_data.resample('W', on=\"Date\").sum()\n",
    "    #convert data seriers index to data column\n",
    "    weekly_data.reset_index(inplace=True)\n",
    "    # extract month from date and save 'month' into month column.\n",
    "    weekly_data['month'] = pd.DatetimeIndex(weekly_data['Date']).month\n",
    "    return weekly_data\n",
    "\n",
    "p1_weekly = weekly_data(p1_cleaned)\n",
    "p2_weekly = weekly_data(p2_cleaned)\n",
    "p5_weekly = weekly_data(p5_cleaned)\n",
    "#(beginning date:2022/10/25, end date: 2022/10/25"
   ]
  },
  {
   "cell_type": "markdown",
   "id": "1cde0f48",
   "metadata": {},
   "source": [
    "All datasets have been grouped by week, and total steps for each week has been calculated, the last column contained a month that the corresponded date belongs to. And I will check all grouped data by print them out.<br>(beginning date:2022/10/11, end date: 2022/10/24"
   ]
  },
  {
   "cell_type": "code",
   "execution_count": 7,
   "id": "84544bd3",
   "metadata": {},
   "outputs": [
    {
     "name": "stdout",
     "output_type": "stream",
     "text": [
      "         Date   Count  month\n",
      "0  2022-01-02   41551      1\n",
      "1  2022-01-09  127289      1\n",
      "2  2022-01-16  137307      1\n",
      "3  2022-01-23  134580      1\n",
      "4  2022-01-30  121104      1\n",
      "5  2022-02-06   96668      2\n",
      "6  2022-02-13  107738      2\n",
      "7  2022-02-20   90998      2\n",
      "8  2022-02-27   77026      2\n",
      "9  2022-03-06   67415      3\n",
      "10 2022-03-13   82315      3\n",
      "11 2022-03-20  120349      3\n",
      "12 2022-03-27   99082      3\n",
      "13 2022-04-03   92623      4\n",
      "14 2022-04-10   85668      4\n",
      "15 2022-04-17   92950      4\n",
      "16 2022-04-24   69616      4\n",
      "17 2022-05-01  117220      5\n",
      "18 2022-05-08  110720      5\n",
      "19 2022-05-15   62712      5\n",
      "20 2022-05-22   65807      5\n",
      "21 2022-05-29   53941      5\n",
      "22 2022-06-05  115544      6\n",
      "23 2022-06-12  149851      6\n",
      "24 2022-06-19  116797      6\n",
      "25 2022-06-26   92001      6\n",
      "26 2022-07-03   98782      7\n",
      "27 2022-07-10   84381      7\n",
      "28 2022-07-17  122183      7\n",
      "29 2022-07-24   89450      7\n",
      "30 2022-07-31   83902      7\n",
      "31 2022-08-07   94187      8\n",
      "32 2022-08-14   99441      8\n",
      "33 2022-08-21  130916      8\n",
      "34 2022-08-28   94853      8\n",
      "35 2022-09-04  114732      9\n",
      "36 2022-09-11  122983      9\n",
      "37 2022-09-18   96209      9\n",
      "38 2022-09-25   88425      9\n",
      "         Date   Count  month\n",
      "0  2022-01-02   45656      1\n",
      "1  2022-01-09  118019      1\n",
      "2  2022-01-16  115127      1\n",
      "3  2022-01-23  119082      1\n",
      "4  2022-01-30  100066      1\n",
      "5  2022-02-06   91408      2\n",
      "6  2022-02-13   76244      2\n",
      "7  2022-02-20   99547      2\n",
      "8  2022-02-27   82305      2\n",
      "9  2022-03-06   63805      3\n",
      "10 2022-03-13   92672      3\n",
      "11 2022-03-20  124428      3\n",
      "12 2022-03-27   96908      3\n",
      "13 2022-04-03  101214      4\n",
      "14 2022-04-10   87473      4\n",
      "15 2022-04-17   91694      4\n",
      "16 2022-04-24   76408      4\n",
      "17 2022-05-01  106251      5\n",
      "18 2022-05-08   99062      5\n",
      "19 2022-05-15   57473      5\n",
      "20 2022-05-22   99013      5\n",
      "21 2022-05-29   59514      5\n",
      "22 2022-06-05  101340      6\n",
      "23 2022-06-12  136940      6\n",
      "24 2022-06-19   96066      6\n",
      "25 2022-06-26   86026      6\n",
      "26 2022-07-03   88203      7\n",
      "27 2022-07-10   72366      7\n",
      "28 2022-07-17  105891      7\n",
      "29 2022-07-24   72369      7\n",
      "30 2022-07-31   96193      7\n",
      "31 2022-08-07   88347      8\n",
      "32 2022-08-14  103128      8\n",
      "33 2022-08-21   92510      8\n",
      "34 2022-08-28  116310      8\n",
      "35 2022-09-04   63897      9\n",
      "         Date   Count  month\n",
      "0  2022-01-02    8795      1\n",
      "1  2022-01-09   32533      1\n",
      "2  2022-01-16     347      1\n",
      "3  2022-01-23       0      1\n",
      "4  2022-01-30       4      1\n",
      "5  2022-02-06   24943      2\n",
      "6  2022-02-13   48152      2\n",
      "7  2022-02-20   35990      2\n",
      "8  2022-02-27   49512      2\n",
      "9  2022-03-06   50478      3\n",
      "10 2022-03-13   64540      3\n",
      "11 2022-03-20   61896      3\n",
      "12 2022-03-27   90738      3\n",
      "13 2022-04-03   77896      4\n",
      "14 2022-04-10  101373      4\n",
      "15 2022-04-17   89136      4\n",
      "16 2022-04-24   75666      4\n",
      "17 2022-05-01  131266      5\n",
      "18 2022-05-08   42361      5\n",
      "19 2022-05-15   50804      5\n",
      "20 2022-05-22   59493      5\n",
      "21 2022-05-29   55832      5\n",
      "22 2022-06-05   68574      6\n",
      "23 2022-06-12   82848      6\n",
      "24 2022-06-19  129374      6\n",
      "25 2022-06-26  118734      6\n",
      "26 2022-07-03   52928      7\n",
      "27 2022-07-10   50433      7\n",
      "28 2022-07-17   72322      7\n",
      "29 2022-07-24   47038      7\n",
      "30 2022-07-31   51515      7\n",
      "31 2022-08-07   53350      8\n",
      "32 2022-08-14   34241      8\n",
      "33 2022-08-21   66445      8\n",
      "34 2022-08-28   70121      8\n",
      "35 2022-09-04   33180      9\n"
     ]
    }
   ],
   "source": [
    "print(p1_weekly)\n",
    "print(p2_weekly)\n",
    "print(p5_weekly)\n",
    "#(beginning date:2022/10/25, end date: 2022/10/25)"
   ]
  },
  {
   "cell_type": "markdown",
   "id": "b10b1f5e",
   "metadata": {},
   "source": [
    "All data has been successfuly grouped by week as above showed. \n",
    "Then, since we would like to finger out which week in a month that participant perfer to do more exercises, I will indicate which week each date belongs to.<br>(beginning date:2022/10/25, end date: 2022/10/25)"
   ]
  },
  {
   "cell_type": "code",
   "execution_count": 28,
   "id": "11568ecd",
   "metadata": {},
   "outputs": [],
   "source": [
    "def find_week_with_max_steps(df):\n",
    "    # add_week_of_month\n",
    "    df['week_in_month'] = df['Date'].apply(lambda x : x.day)/7\n",
    "    df['week_in_month'] = df['week_in_month'].apply(lambda x: math.ceil(x))\n",
    "    return df\n",
    "\n",
    "p1_week = find_week_with_max_steps(p1_weekly)\n",
    "p2_week = find_week_with_max_steps(p2_weekly)\n",
    "p5_week = find_week_with_max_steps(p5_weekly)"
   ]
  },
  {
   "cell_type": "code",
   "execution_count": 29,
   "id": "13e510d1",
   "metadata": {},
   "outputs": [
    {
     "name": "stdout",
     "output_type": "stream",
     "text": [
      "               Date   Count  month  week_in_month\n",
      "month                                            \n",
      "1     2  2022-01-16  137307      1              3\n",
      "2     6  2022-02-13  107738      2              2\n",
      "3     11 2022-03-20  120349      3              3\n",
      "4     15 2022-04-17   92950      4              3\n",
      "5     17 2022-05-01  117220      5              1\n",
      "6     23 2022-06-12  149851      6              2\n",
      "7     28 2022-07-17  122183      7              3\n",
      "8     33 2022-08-21  130916      8              3\n",
      "9     36 2022-09-11  122983      9              2\n",
      "               Date   Count  month  week_in_month\n",
      "month                                            \n",
      "1     3  2022-01-23  119082      1              4\n",
      "2     7  2022-02-20   99547      2              3\n",
      "3     11 2022-03-20  124428      3              3\n",
      "4     13 2022-04-03  101214      4              1\n",
      "5     17 2022-05-01  106251      5              1\n",
      "6     23 2022-06-12  136940      6              2\n",
      "7     28 2022-07-17  105891      7              3\n",
      "8     34 2022-08-28  116310      8              4\n",
      "9     35 2022-09-04   63897      9              1\n",
      "               Date   Count  month  week_in_month\n",
      "month                                            \n",
      "1     1  2022-01-09   32533      1              2\n",
      "2     8  2022-02-27   49512      2              4\n",
      "3     12 2022-03-27   90738      3              4\n",
      "4     14 2022-04-10  101373      4              2\n",
      "5     17 2022-05-01  131266      5              1\n",
      "6     24 2022-06-19  129374      6              3\n",
      "7     28 2022-07-17   72322      7              3\n",
      "8     34 2022-08-28   70121      8              4\n",
      "9     35 2022-09-04   33180      9              1\n"
     ]
    }
   ],
   "source": [
    "\n",
    "# # df.groupby('reportno').apply(lambda t: t[t.gettime==t.gettime.max()])\n",
    "# a.apply(lambda t: t[t.Count==t.Count.max()])\n",
    "\n",
    "    \n",
    "# # groups = apprix_df.groupby(apprix_df.Qualification)\n",
    "# # ms_df = groups.get_group(\"MS\")\n",
    "# # mba_df=groups.get_group(\"MBA\")\n",
    "# # phd_df=groups.get_group(\"PhD\")\n",
    "\n",
    "p1_final = p1_week.groupby('month').apply(lambda t: t[t.Count==t.Count.max()])\n",
    "p2_final = p2_week.groupby('month').apply(lambda t: t[t.Count==t.Count.max()])\n",
    "p5_final = p5_week.groupby('month').apply(lambda t: t[t.Count==t.Count.max()])\n",
    "print(p1_final)\n",
    "print(p2_final)\n",
    "print(p5_final)\n"
   ]
  },
  {
   "cell_type": "markdown",
   "id": "f7b2a346",
   "metadata": {},
   "source": [
    "All date has been indicated which week they belongs to in a month, and the week with max steps account in a month over 9 months has been indicated.<br>(date:2022/10/25, end date: 2022/10/25)"
   ]
  },
  {
   "cell_type": "markdown",
   "id": "6141689a",
   "metadata": {},
   "source": [
    "##### Visualization"
   ]
  },
  {
   "cell_type": "markdown",
   "id": "269d52cc",
   "metadata": {},
   "source": [
    "I will visualize results of three participants.<br>(date:2022/10/25, end date: 2022/10/25)"
   ]
  },
  {
   "cell_type": "code",
   "execution_count": 30,
   "id": "138d9f9d",
   "metadata": {},
   "outputs": [
    {
     "data": {
      "text/plain": [
       "<matplotlib.legend.Legend at 0x28d9523ea90>"
      ]
     },
     "execution_count": 30,
     "metadata": {},
     "output_type": "execute_result"
    },
    {
     "data": {
      "image/png": "[encoded data removed]",
      "text/plain": [
       "<Figure size 480x320 with 1 Axes>"
      ]
     },
     "metadata": {
      "needs_background": "light"
     },
     "output_type": "display_data"
    }
   ],
   "source": [
    "plt.figure(dpi=80)\n",
    "plt.scatter(p1_final['week_in_month'], p1_final['Count'], marker='*', c ='gold')\n",
    "plt.scatter(p2_final['week_in_month'], p2_final['Count'], marker='o', c = 'deepskyblue')\n",
    "plt.scatter(p5_final['week_in_month'], p5_final['Count'], marker='^', c = 'green')\n",
    "plt.xlabel(\"week_in_month\")\n",
    "plt.ylabel(\"Steps counts\")\n",
    "x = [0,1, 2, 3, 4, 5]\n",
    "values = range(len(x))\n",
    "plt.xticks(values,x)\n",
    "plt.title(\"Week with the max steps per month over 9 months\")\n",
    "plt.legend([\"participant1\",\"participant2\", \"participant5\"])\n",
    "#(date:2022/10/25, end date: 2022/10/25)"
   ]
  },
  {
   "cell_type": "markdown",
   "id": "6e780b10",
   "metadata": {},
   "source": [
    "We can see from above, there is no certain trend of which weeks participants walks more. <br>(date:2022/10/25, end date: 2022/10/25)"
   ]
  },
  {
   "cell_type": "markdown",
   "id": "60a5d0ad",
   "metadata": {},
   "source": [
    "#### Conclusion"
   ]
  },
  {
   "cell_type": "markdown",
   "id": "dcad9017",
   "metadata": {},
   "source": [
    "Based on the analysis above, we can simply conclued that participants don't have perference of walking more in a certain week of a month.<br>(date:2022/10/25, end date: 2022/10/25)"
   ]
  },
  {
   "cell_type": "code",
   "execution_count": null,
   "id": "83827f26",
   "metadata": {},
   "outputs": [],
   "source": []
  }
 ],
 "metadata": {
  "kernelspec": {
   "display_name": "Python 3 (ipykernel)",
   "language": "python",
   "name": "python3"
  },
  "language_info": {
   "codemirror_mode": {
    "name": "ipython",
    "version": 3
   },
   "file_extension": ".py",
   "mimetype": "text/x-python",
   "name": "python",
   "nbconvert_exporter": "python",
   "pygments_lexer": "ipython3",
   "version": "3.9.7"
  }
 },
 "nbformat": 4,
 "nbformat_minor": 5
}
