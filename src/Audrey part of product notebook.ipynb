{
 "cells": [
  {
   "cell_type": "markdown",
   "id": "c57387ba",
   "metadata": {},
   "source": [
    "## Introduction"
   ]
  },
  {
   "cell_type": "code",
   "execution_count": null,
   "id": "80285cbe",
   "metadata": {},
   "outputs": [],
   "source": [
    "#........"
   ]
  },
  {
   "cell_type": "markdown",
   "id": "349f0368",
   "metadata": {},
   "source": [
    "##### External libraries:"
   ]
  },
  {
   "cell_type": "code",
   "execution_count": 30,
   "id": "6e7e11cc",
   "metadata": {},
   "outputs": [],
   "source": [
    "import csv\n",
    "import time\n",
    "import calendar\n",
    "import datetime\n",
    "import numpy as np\n",
    "import pandas as pd\n",
    "import seaborn as sns\n",
    "import scipy.stats as stats\n",
    "import matplotlib.pyplot as plt\n",
    "from pandas import DataFrame\n",
    "from datetime import date\n",
    "from datetime import datetime\n",
    "from pandas.core.frame import DataFrame\n",
    "from matplotlib.pyplot import MultipleLocator\n",
    "from sklearn.metrics import mean_squared_error\n",
    "from statsmodels.tsa.statespace.sarimax import SARIMAX\n",
    "from statsmodels.tsa.seasonal import seasonal_decompose"
   ]
  },
  {
   "cell_type": "markdown",
   "id": "225babd7",
   "metadata": {},
   "source": [
    "## Data read and cleaning"
   ]
  },
  {
   "cell_type": "markdown",
   "id": "6f81197f",
   "metadata": {},
   "source": [
    "##### Data read:"
   ]
  },
  {
   "cell_type": "code",
   "execution_count": 34,
   "id": "2a760063",
   "metadata": {},
   "outputs": [],
   "source": [
    "# Links of rawdata\n",
    "url1 = \"https://raw.github.sydney.edu.au/xguo0149/2022-DATA3406-RE06-Group04/main/src/resources/Participant-01.csv?token=GHSAT0AAAAAAAAAHGMUFHRNQTID6IAZACGEY3CHMUQ\"\n",
    "url1d = \"https://raw.github.sydney.edu.au/xguo0149/2022-DATA3406-RE06-Group04/main/src/resources/Participant-01-second-detail.csv?token=GHSAT0AAAAAAAAAHGMXOQ5D4CFS74PXT4HYY3CIIUA\"\n",
    "url2 = \"https://raw.github.sydney.edu.au/xguo0149/2022-DATA3406-RE06-Group04/main/src/resources/Participant-02-detail.csv?token=GHSAT0AAAAAAAAAHGMX6EUL3EU5AG7LLKUSY3CIBUA\"  \n",
    "# url3 = \"https://raw.github.sydney.edu.au/xguo0149/2022-DATA3406-RE06-Group04/main/src/resources/Participant-03.csv?token=GHSAT0AAAAAAAAAHGMU75XPZFWAQ3EUPRYMY3CHNRQ\"\n",
    "# url4 = \"https://github.sydney.edu.au/xguo0149/2022-DATA3406-RE06-Group04/blob/main/src/resources/Participant-04.csv\"\n",
    "url5 = \"https://raw.github.sydney.edu.au/xguo0149/2022-DATA3406-RE06-Group04/main/src/resources/Participant-05-detail.csv?token=GHSAT0AAAAAAAAAHGMUXE7OFOFHAG5DQMIWY3CHOFQ\"\n",
    "# url7 = \"https://raw.github.sydney.edu.au/xguo0149/2022-DATA3406-RE06-Group04/main/src/resources/Participant-07.csv?token=GHSAT0AAAAAAAAAHGMVZGNPORTPLEWWQGJEY3CHORA\"\n",
    "# url8 = \"https://raw.github.sydney.edu.au/xguo0149/2022-DATA3406-RE06-Group04/main/src/resources/Participant-08.csv?token=GHSAT0AAAAAAAAAHGMV2U5G6NYBIUDUQ63YY3CHO2Q\"\n",
    "\n",
    "# read data in:\n",
    "p1 = pd.read_csv(url1)\n",
    "p1d = pd.read_csv(url1d)\n",
    "p2d = pd.read_csv(url2)\n",
    "# p3 = pd.read_csv(url3)\n",
    "# p4 = pd.read_csv(url4)\n",
    "p5d = pd.read_csv(url5)\n",
    "# p7 = pd.read_csv(url7)\n",
    "# p8 = pd.read_csv(url8)"
   ]
  },
  {
   "cell_type": "markdown",
   "id": "13587cc8",
   "metadata": {},
   "source": [
    "##### Data cleaning"
   ]
  },
  {
   "cell_type": "code",
   "execution_count": 41,
   "id": "cda541ec",
   "metadata": {},
   "outputs": [],
   "source": [
    "## undetailed data:\n",
    "def clean_undetailed_data(df):\n",
    "    #change foramt to datetime\n",
    "    df['Start'] = pd.to_datetime(df['Start'])\n",
    "    #change the datetime format as yyyy-mm-dd\n",
    "    df['Start'] = df['Start'].dt.strftime('%Y/%m/%d')\n",
    "    #group by start time and count the steps\n",
    "    day_data1 = df.groupby(['Start']).sum()\n",
    "    # add index\n",
    "    day_data1 = day_data1.reset_index(drop=False)\n",
    "    #first change the data type to datetime\n",
    "    day_data1['Start'] = pd.to_datetime(day_data1['Start'])\n",
    "    #use resample to integrate the data into weekly\n",
    "    week_data1 = day_data1.resample('W', on=\"Start\").sum()\n",
    "    #added numbers to record each week\n",
    "    week_data1['weeks'] = range(len(week_data1))\n",
    "    return week_data1\n",
    "\n",
    "## Detailed data:\n",
    "def clean_detailed_data(df):\n",
    "    data = pd.DataFrame({\"Date\": df['Date'], \"Count\":df['Count']})\n",
    "    # convert type of 'Date' to Datetimes type\n",
    "    data['Date'] = pd.to_datetime(data['Date'])\n",
    "    # keep data in 2022\n",
    "    result = data[(data['Date'] >= '2022-01-01') & (data['Date'] <= '2022-12-31')]\n",
    "    return result\n",
    "\n",
    "## undetailed:\n",
    "data1 = clean_undetailed_data(p1)\n",
    "\n",
    "## Detailed:\n",
    "data1_detailed = clean_detailed_data(p1d)\n",
    "data2 = clean_detailed_data(p2d)\n",
    "data5 = clean_detailed_data(p5d)\n"
   ]
  },
  {
   "cell_type": "code",
   "execution_count": null,
   "id": "f9f73bd1",
   "metadata": {},
   "outputs": [],
   "source": []
  },
  {
   "cell_type": "markdown",
   "id": "0f5b25b8",
   "metadata": {},
   "source": [
    "## Subquestion:"
   ]
  },
  {
   "cell_type": "code",
   "execution_count": 44,
   "id": "7298304d",
   "metadata": {},
   "outputs": [
    {
     "data": {
      "text/plain": [
       "<matplotlib.legend.Legend at 0x1eeaabc2fd0>"
      ]
     },
     "execution_count": 44,
     "metadata": {},
     "output_type": "execute_result"
    },
    {
     "data": {
      "image/png": "[encoded data removed]",
      "text/plain": [
       "<Figure size 480x320 with 1 Axes>"
      ]
     },
     "metadata": {
      "needs_background": "light"
     },
     "output_type": "display_data"
    }
   ],
   "source": [
    "## Audrey:\n",
    "def weekly_data(df):\n",
    "    df['Date'] = pd.to_datetime(df['Date'])\n",
    "    # group data by date\n",
    "    per_day_data =  df.groupby(['Date']).sum()\n",
    "    # convert data seriers index to data column\n",
    "    per_day_data.reset_index(inplace=True)\n",
    "    # group per_day data by week.\n",
    "    weekly_data = per_day_data.resample('W', on=\"Date\").sum()\n",
    "    #convert data seriers index to data column\n",
    "    weekly_data.reset_index(inplace=True)\n",
    "    # extract month from date and save 'month' into month column.\n",
    "    weekly_data['month'] = pd.DatetimeIndex(weekly_data['Date']).month\n",
    "    return weekly_data\n",
    "\n",
    "\n",
    "def find_week_with_max_steps(df):\n",
    "    # add_week_of_month\n",
    "    df['week_in_month'] = df['Date'].apply(lambda x : x.day)/7\n",
    "    df['week_in_month'] = df['week_in_month'].apply(lambda x: math.ceil(x))\n",
    "    # find the week in month with max steps count \n",
    "    grouped = df.groupby(['month']).max(['Count'])\n",
    "    grouped.reset_index(inplace=True)\n",
    "    return grouped\n",
    "\n",
    "data1_detailed_weekly = weekly_data(data1_detailed)\n",
    "data2_weekly = weekly_data(data2)\n",
    "data5_weekly = weekly_data(data5)\n",
    "\n",
    "data1_detailed_final = find_week_with_max_steps(data1_detailed_weekly)\n",
    "data2_final =find_week_with_max_steps(data2_weekly)\n",
    "data5_final = find_week_with_max_steps(data5_weekly)\n",
    "\n",
    "## visualization:\n",
    "plt.figure(dpi=80)\n",
    "plt.scatter(data1_detailed_final['week_in_month'], data1_detailed_final['Count'], marker='*', c ='gold')\n",
    "plt.scatter(data2_final['week_in_month'], data2_final['Count'], marker='o', c = 'deepskyblue')\n",
    "plt.scatter(data5_final['week_in_month'], data5_final['Count'], marker='^', c = 'green')\n",
    "plt.xlabel(\"week_in_month\")\n",
    "plt.ylabel(\"Steps counts\")\n",
    "x = [0,1, 2, 3, 4, 5]\n",
    "values = range(len(x))\n",
    "plt.xticks(values,x)\n",
    "plt.title(\"Week with the max steps per month over 9 months\")\n",
    "plt.legend([\"participant1\",\"participant2\", \"participant5\"])"
   ]
  },
  {
   "cell_type": "code",
   "execution_count": null,
   "id": "fa41110d",
   "metadata": {},
   "outputs": [],
   "source": []
  }
 ],
 "metadata": {
  "kernelspec": {
   "display_name": "Python 3 (ipykernel)",
   "language": "python",
   "name": "python3"
  },
  "language_info": {
   "codemirror_mode": {
    "name": "ipython",
    "version": 3
   },
   "file_extension": ".py",
   "mimetype": "text/x-python",
   "name": "python",
   "nbconvert_exporter": "python",
   "pygments_lexer": "ipython3",
   "version": "3.9.7"
  }
 },
 "nbformat": 4,
 "nbformat_minor": 5
}
