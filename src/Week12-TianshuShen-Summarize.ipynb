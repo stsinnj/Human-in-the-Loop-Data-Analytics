{
 "cells": [
  {
   "cell_type": "code",
   "execution_count": 1,
   "metadata": {},
   "outputs": [],
   "source": [
    "# import Numpy, Pandas\n",
    "import time\n",
    "import calendar\n",
    "import numpy as np\n",
    "import pandas as pd\n",
    "import matplotlib.pyplot as plt\n",
    "\n",
    "from typing import Tuple\n",
    "from datetime import datetime\n",
    "from pandas.core.frame import DataFrame\n",
    "from matplotlib.pyplot import MultipleLocator"
   ]
  },
  {
   "cell_type": "code",
   "execution_count": 2,
   "metadata": {},
   "outputs": [],
   "source": [
    "# load the all data to a dictionary\n",
    "path = ('resources/Participant-01.csv')\n",
    "data_file = pd.read_csv(path)"
   ]
  },
  {
   "cell_type": "markdown",
   "metadata": {},
   "source": [
    "This step is to clean the data. My criterion for judging whether the data is valuable is that the data cannot be 0."
   ]
  },
  {
   "cell_type": "code",
   "execution_count": 3,
   "metadata": {},
   "outputs": [],
   "source": [
    "# Delete all rows where Steps (count) is 0\n",
    "data_file = data_file.drop(data_file[data_file['Steps (count)'] == 0].index)"
   ]
  },
  {
   "cell_type": "markdown",
   "metadata": {},
   "source": [
    "In the following cells, I extracted the middle point of each valid time period to facilitate the drawing of statistical graphs."
   ]
  },
  {
   "cell_type": "code",
   "execution_count": 4,
   "metadata": {},
   "outputs": [],
   "source": [
    "# A functions to define the midpoint of a date\n",
    "def get_time(DateTime: str) -> datetime:\n",
    "    DateTime = datetime.strptime(DateTime,'%Y-%m-%d')\n",
    "    return DateTime\n",
    "\n",
    "# For each time period, I select the midpoint of this time period for subsequent analysis\n",
    "def mid_point(start: datetime, finish: datetime) -> datetime:\n",
    "    start, finish = get_time(start), get_time(finish)"
   ]
  },
  {
   "cell_type": "code",
   "execution_count": 5,
   "metadata": {},
   "outputs": [],
   "source": [
    "# Process the Start and Finish columns\n",
    "count_list, count = [], 0\n",
    "for m in data_file['Start']:\n",
    "    count_list.append(m)\n",
    "for n in data_file['Finish']:\n",
    "    count_list[count] = count_list[count]+\"/\"+n\n",
    "    count+=1"
   ]
  },
  {
   "cell_type": "markdown",
   "metadata": {},
   "source": [
    "At this point, the middle point and the corresponding count() are all there, and they are made into a DataFrame."
   ]
  },
  {
   "cell_type": "code",
   "execution_count": 6,
   "metadata": {},
   "outputs": [],
   "source": [
    "# Make new DataFrame with mid and count\n",
    "mids, steps = [], []\n",
    "for i in count_list:\n",
    "    start, finish = i.split(\"/\")\n",
    "    mid = mid_point(start, finish)\n",
    "    mids.append(mid)\n",
    "for i in data_file['Steps (count)']:\n",
    "    steps.append(i)\n",
    "mid_step = {\n",
    "    \"mid\": mids,\n",
    "    \"steps\": steps\n",
    "}\n",
    "mid_step = DataFrame(mid_step)"
   ]
  },
  {
   "cell_type": "markdown",
   "metadata": {},
   "source": [
    "Next, get the day of the week this date is. Make a DateFrame for each day of the week."
   ]
  },
  {
   "cell_type": "code",
   "execution_count": 7,
   "metadata": {},
   "outputs": [],
   "source": [
    "# other dataframes from weekdays\n",
    "mid_weekday_all = []\n",
    "for m in mids:\n",
    "    n = m.weekday()\n",
    "    mid_weekday_all.append(n)\n",
    "\n",
    "mid_weekday_step = {\n",
    "    \"mid_weekday\" : mid_weekday_all,\n",
    "    \"steps\" : steps\n",
    "}\n",
    "\n",
    "mid_weekday_step = DataFrame(mid_weekday_step)"
   ]
  },
  {
   "cell_type": "code",
   "execution_count": 8,
   "metadata": {},
   "outputs": [],
   "source": [
    "# Separate the data according to the day of the week.\n",
    "names = locals()  # call dynamic variable name\n",
    "for i in range(1,8):\n",
    "    item = mid_weekday_step[mid_weekday_step.mid_weekday == i]\n",
    "    names['mid_' + str(i) ] = item"
   ]
  },
  {
   "cell_type": "markdown",
   "metadata": {},
   "source": [
    "First, with the help of two functions, I first determine the data spanning several weeks in time, and which week each date belongs to."
   ]
  },
  {
   "cell_type": "code",
   "execution_count": 9,
   "metadata": {},
   "outputs": [],
   "source": [
    "# This function lets me know which week of 2022 a certain time belongs to\n",
    "def week_num(week_start: datetime, week_end: datetime) -> int:\n",
    "    year_week_num = 52    # print(datetime.strftime(datetime(2020, 12, 31), \"%W\"))  # There are 52 weeks in 2022\n",
    "    week_end_year = week_end.year\n",
    "    week_start_year = week_start.year\n",
    "    week_end_num = int(datetime.strftime(week_end, \"%W\"))\n",
    "    week_start_num = int(datetime.strftime(week_start, \"%W\"))\n",
    "\n",
    "    return (week_end_year - week_start_year) * year_week_num + week_end_num - week_start_num"
   ]
  },
  {
   "cell_type": "code",
   "execution_count": 11,
   "metadata": {},
   "outputs": [],
   "source": [
    "week_count_list = []\n",
    "for i in mids:\n",
    "    week_count = week_num(mids[0], i)\n",
    "    week_count_list.append(week_count)"
   ]
  },
  {
   "cell_type": "code",
   "execution_count": 12,
   "metadata": {},
   "outputs": [],
   "source": [
    "mid_day_weekday_step = {\n",
    "    \"date\" : mids,\n",
    "    \"week\" : week_count_list,\n",
    "    \"weekday\" : mid_weekday_all,\n",
    "    \"steps\" : steps\n",
    "}\n",
    "mid_day_weekday_step = DataFrame(mid_day_weekday_step)"
   ]
  },
  {
   "cell_type": "markdown",
   "metadata": {},
   "source": [
    "Next, I used Group By to group the DataFrame by week. Group By in Pandas has the same usage as Group By in Sql."
   ]
  },
  {
   "cell_type": "code",
   "execution_count": 13,
   "metadata": {},
   "outputs": [],
   "source": [
    "step_groupby_week = mid_day_weekday_step.groupby(\"week\").agg('sum')  # if no agg, returns memory address."
   ]
  },
  {
   "cell_type": "markdown",
   "metadata": {},
   "source": [
    "I will complete my Sub-Question research in this TPP. My Sub-Question is: Is there a correlation between the number of steps per week in the volunteer I studied and the percentage of public rest days in the week?"
   ]
  },
  {
   "cell_type": "markdown",
   "metadata": {},
   "source": [
    "To research this Sub-Question, I first downloaded a csv file of all holidays for 2022 from the Australian Government website."
   ]
  },
  {
   "cell_type": "code",
   "execution_count": 14,
   "metadata": {},
   "outputs": [],
   "source": [
    "# load the sub_question data to a dictionary\n",
    "sub_path = ('resources/australian-public-holidays-combined-2022.csv')\n",
    "sub_data_file = pd.read_csv(sub_path)"
   ]
  },
  {
   "cell_type": "code",
   "execution_count": 15,
   "metadata": {},
   "outputs": [],
   "source": [
    "# Refine data, remove unnecessary columns.\n",
    "sub_data_file_clean = sub_data_file.drop('_id', axis = 1).\\\n",
    "                                    drop('Information', axis = 1).\\\n",
    "                                    drop('More Information', axis = 1)\n",
    "# Deletion of data outside of New South Wales\n",
    "sub_data_file_nsw = sub_data_file_clean.drop(sub_data_file_clean[sub_data_file_clean['Jurisdiction'] != 'nsw'].index)"
   ]
  },
  {
   "cell_type": "markdown",
   "metadata": {},
   "source": [
    "After data cleaning, I got a DataFrame as below."
   ]
  },
  {
   "cell_type": "code",
   "execution_count": 16,
   "metadata": {},
   "outputs": [],
   "source": [
    "# Another function to define the midpoint of a date\n",
    "def get_sub_time(DateTime: str) -> datetime:\n",
    "    DateTime = datetime.strptime(DateTime,'%Y%m%d')\n",
    "    return DateTime"
   ]
  },
  {
   "cell_type": "code",
   "execution_count": 17,
   "metadata": {},
   "outputs": [],
   "source": [
    "holidays = []\n",
    "for i in sub_data_file_nsw['Date']:\n",
    "    sub_date = get_sub_time(str(i))\n",
    "    sub_week_count = week_num(mids[0], sub_date)\n",
    "    if int(sub_week_count) <=36:  # Delete data from days that have not yet come\n",
    "        holidays.append(sub_week_count)"
   ]
  },
  {
   "cell_type": "code",
   "execution_count": 18,
   "metadata": {},
   "outputs": [],
   "source": [
    "sub_week = [i for i in range(0,36)]"
   ]
  },
  {
   "cell_type": "code",
   "execution_count": 19,
   "metadata": {},
   "outputs": [],
   "source": [
    "sub_prop, week_count = [], 0\n",
    "while week_count < 36:\n",
    "    if week_count in holidays:\n",
    "        sub_prop.append(float(3/7))\n",
    "    else:\n",
    "        sub_prop.append(float(2/7))\n",
    "    week_count += 1"
   ]
  },
  {
   "cell_type": "code",
   "execution_count": 20,
   "metadata": {},
   "outputs": [],
   "source": [
    "holiday_data = {\n",
    "    \"week\" : sub_week,\n",
    "    \"Proportion\" : sub_prop\n",
    "}\n",
    "holiday_data = DataFrame(holiday_data)"
   ]
  },
  {
   "cell_type": "markdown",
   "metadata": {},
   "source": [
    "Next I will introduce the data of a participant other than participant 1 and visualize it to see if it fits my previous sub-question's conclusion."
   ]
  },
  {
   "cell_type": "markdown",
   "metadata": {},
   "source": [
    "I chose the steps of the 7th participant as additional data for my sub-question."
   ]
  },
  {
   "cell_type": "code",
   "execution_count": 21,
   "metadata": {},
   "outputs": [],
   "source": [
    "# load the additional data to a dictionary\n",
    "path_add = ('resources/Participant-07.csv')\n",
    "data_file_add = pd.read_csv(path_add)"
   ]
  },
  {
   "cell_type": "markdown",
   "metadata": {},
   "source": [
    "The next step was to take everything I had done with the first dataset in the previous weeks and do it again with this new dataset. So there's not much to explain."
   ]
  },
  {
   "cell_type": "code",
   "execution_count": 22,
   "metadata": {},
   "outputs": [],
   "source": [
    "# Delete all rows where Steps (count) is 0\n",
    "data_file_add = data_file_add.drop(data_file_add[data_file_add['Steps (count)'] == 0.0].index)"
   ]
  },
  {
   "cell_type": "code",
   "execution_count": 23,
   "metadata": {},
   "outputs": [],
   "source": [
    "# Process the Start and Finish columns\n",
    "count_list_add, count_add = [], 0\n",
    "for m in data_file_add['Start']:\n",
    "    count_list_add.append(m)\n",
    "for n in data_file_add['Finish']:\n",
    "    count_list_add[count_add] = count_list_add[count_add]+\"/\"+n\n",
    "    count_add+=1"
   ]
  },
  {
   "cell_type": "code",
   "execution_count": 24,
   "metadata": {},
   "outputs": [],
   "source": [
    "# Make new DataFrame with mid and count\n",
    "mids_list_add, steps_add = [], []\n",
    "for i in count_list_add:\n",
    "    start, finish = i.split(\"/\")\n",
    "    mid_add = mid_point(start, finish)\n",
    "    mids_list_add.append(mid_add)\n",
    "for i in data_file_add['Steps (count)']:\n",
    "    steps_add.append(i)\n",
    "mid_step_add = {\n",
    "    \"mid\": mids_list_add,\n",
    "    \"steps\": steps_add\n",
    "}\n",
    "mid_step_add = DataFrame(mid_step_add)"
   ]
  },
  {
   "cell_type": "code",
   "execution_count": 25,
   "metadata": {},
   "outputs": [],
   "source": [
    "week_count_list_add = []\n",
    "for i in mids_list_add:\n",
    "    week_count_add = week_num(mids_list_add[0], i)\n",
    "    week_count_list_add.append(week_count_add)"
   ]
  },
  {
   "cell_type": "code",
   "execution_count": 26,
   "metadata": {},
   "outputs": [],
   "source": [
    "# other dataframes from weekdays\n",
    "mid_weekday_all_add = []\n",
    "for m in mids_list_add:\n",
    "    n = m.weekday()\n",
    "    mid_weekday_all_add.append(n)"
   ]
  },
  {
   "cell_type": "code",
   "execution_count": 27,
   "metadata": {},
   "outputs": [],
   "source": [
    "mid_day_weekday_step_add = {\n",
    "    \"date\" : mids_list_add,\n",
    "    \"week\" : week_count_list_add,\n",
    "    \"weekday\" : mid_weekday_all_add,\n",
    "    \"steps\" : steps_add\n",
    "}\n",
    "mid_day_weekday_step_add = DataFrame(mid_day_weekday_step_add)"
   ]
  },
  {
   "cell_type": "code",
   "execution_count": 28,
   "metadata": {},
   "outputs": [],
   "source": [
    "step_groupby_week_add = mid_day_weekday_step_add.groupby(\"week\").agg('sum')"
   ]
  },
  {
   "cell_type": "markdown",
   "metadata": {},
   "source": [
    "Next, I would like to put the three charts in one chart. This will make it a little bit clearer to see."
   ]
  },
  {
   "cell_type": "code",
   "execution_count": 54,
   "metadata": {},
   "outputs": [
    {
     "data": {
      "image/png": "[encoded data removed]",
      "text/plain": [
       "<Figure size 1296x360 with 2 Axes>"
      ]
     },
     "metadata": {
      "needs_background": "light"
     },
     "output_type": "display_data"
    }
   ],
   "source": [
    "# create figure and axis objects with subplots()\n",
    "fig,ax = plt.subplots(figsize=(18,5))\n",
    "# make a plot\n",
    "lns1=ax.plot(step_groupby_week.index, \n",
    "        step_groupby_week['steps'],\n",
    "        color=\"orange\", \n",
    "        marker=\"o\",\n",
    "        label='Participant 1')\n",
    "lns2=ax.plot(step_groupby_week_add.index, \n",
    "        step_groupby_week_add['steps'],\n",
    "        color=\"purple\", \n",
    "        marker=\"o\",\n",
    "        label='Participant 7')\n",
    "# set x-axis label\n",
    "ax.set_xlabel(\"Weeks in 2022\", fontsize = 14)\n",
    "# set y-axis label\n",
    "ax.set_ylabel(\"Steps Count\",\n",
    "              color=\"yellow\",\n",
    "              fontsize=14)\n",
    "\n",
    "# twin object for two different y-axis on the sample plot\n",
    "ax2=ax.twinx()\n",
    "# make a plot with different y-axis using second axis object\n",
    "lns3=ax2.plot(holiday_data['week'],\n",
    "         holiday_data['Proportion'],\n",
    "         color=\"green\",\n",
    "         marker=\"o\",\n",
    "         label='Statutory Holidays')\n",
    "\n",
    "ax2.set_ylabel(\"holiday Proportion\",color=\"green\",fontsize=14)\n",
    "plt.ylim((0, 1))  # Set the interval of the second y coordinate between 0-1\n",
    "\n",
    "x_major_locator=MultipleLocator(2)\n",
    "ax=plt.gca()\n",
    "ax.xaxis.set_major_locator(x_major_locator)\n",
    "\n",
    "plt.title(\"Connection between participants' weekly steps and number of holidays in a week\",\n",
    "          fontsize='large',\n",
    "          fontweight='bold',\n",
    "          color='black') \n",
    "\n",
    "# added these three lines\n",
    "lns = lns1+lns2+lns3\n",
    "labs = [l.get_label() for l in lns]\n",
    "ax.legend(lns, labs, loc=0)\n",
    "\n",
    "plt.grid()  # Display Grid\n",
    "plt.show()  # Show the plot"
   ]
  },
  {
   "cell_type": "markdown",
   "metadata": {},
   "source": [
    "## Conclusion:\n",
    "Now, according to the above chart, I can finally be sure: the number of steps per week and the days off this week really have nothing to do with each other. "
   ]
  }
 ],
 "metadata": {
  "kernelspec": {
   "display_name": "Python 3",
   "language": "python",
   "name": "python3"
  },
  "language_info": {
   "codemirror_mode": {
    "name": "ipython",
    "version": 3
   },
   "file_extension": ".py",
   "mimetype": "text/x-python",
   "name": "python",
   "nbconvert_exporter": "python",
   "pygments_lexer": "ipython3",
   "version": "3.8.5"
  }
 },
 "nbformat": 4,
 "nbformat_minor": 4
}
