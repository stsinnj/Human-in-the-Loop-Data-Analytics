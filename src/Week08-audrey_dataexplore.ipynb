{
 "cells": [
  {
   "cell_type": "markdown",
   "id": "4fdf9a68",
   "metadata": {},
   "source": [
    "Author: Audrey"
   ]
  },
  {
   "cell_type": "markdown",
   "id": "8b432f88",
   "metadata": {},
   "source": [
    "### Introduction"
   ]
  },
  {
   "cell_type": "markdown",
   "id": "d9588279",
   "metadata": {},
   "source": [
    "In this notebook, the 5th dataset will be explored. The exploration including cleaning, simply review dataset and simple plot to show the data."
   ]
  },
  {
   "cell_type": "markdown",
   "id": "6770aaf3",
   "metadata": {},
   "source": [
    "Before doing data cleaning and anlysis, the external library should be import first."
   ]
  },
  {
   "cell_type": "code",
   "execution_count": 9,
   "id": "f7cde1f4",
   "metadata": {},
   "outputs": [],
   "source": [
    "import pandas as pd\n",
    "import matplotlib.pyplot as plt\n",
    "import numpy as np"
   ]
  },
  {
   "cell_type": "markdown",
   "id": "d3c1d183",
   "metadata": {},
   "source": [
    "### Read data and simply look the dataset"
   ]
  },
  {
   "cell_type": "markdown",
   "id": "fbdb599b",
   "metadata": {},
   "source": [
    "After importing the required library, the next step is reading data in."
   ]
  },
  {
   "cell_type": "code",
   "execution_count": 5,
   "id": "715181dd",
   "metadata": {},
   "outputs": [
    {
     "data": {
      "text/html": [
       "<div>\n",
       "<style scoped>\n",
       "    .dataframe tbody tr th:only-of-type {\n",
       "        vertical-align: middle;\n",
       "    }\n",
       "\n",
       "    .dataframe tbody tr th {\n",
       "        vertical-align: top;\n",
       "    }\n",
       "\n",
       "    .dataframe thead th {\n",
       "        text-align: right;\n",
       "    }\n",
       "</style>\n",
       "<table border=\"1\" class=\"dataframe\">\n",
       "  <thead>\n",
       "    <tr style=\"text-align: right;\">\n",
       "      <th></th>\n",
       "      <th>Source</th>\n",
       "      <th>Date</th>\n",
       "      <th>Hour</th>\n",
       "      <th>Count</th>\n",
       "    </tr>\n",
       "  </thead>\n",
       "  <tbody>\n",
       "    <tr>\n",
       "      <th>0</th>\n",
       "      <td>person5</td>\n",
       "      <td>2022-01-27</td>\n",
       "      <td>8</td>\n",
       "      <td>4</td>\n",
       "    </tr>\n",
       "    <tr>\n",
       "      <th>1</th>\n",
       "      <td>person5</td>\n",
       "      <td>2022-01-02</td>\n",
       "      <td>13</td>\n",
       "      <td>78</td>\n",
       "    </tr>\n",
       "    <tr>\n",
       "      <th>2</th>\n",
       "      <td>person5</td>\n",
       "      <td>2022-01-02</td>\n",
       "      <td>12</td>\n",
       "      <td>66</td>\n",
       "    </tr>\n",
       "    <tr>\n",
       "      <th>3</th>\n",
       "      <td>person5</td>\n",
       "      <td>2022-01-02</td>\n",
       "      <td>12</td>\n",
       "      <td>57</td>\n",
       "    </tr>\n",
       "    <tr>\n",
       "      <th>4</th>\n",
       "      <td>person5</td>\n",
       "      <td>2022-01-02</td>\n",
       "      <td>12</td>\n",
       "      <td>99</td>\n",
       "    </tr>\n",
       "    <tr>\n",
       "      <th>...</th>\n",
       "      <td>...</td>\n",
       "      <td>...</td>\n",
       "      <td>...</td>\n",
       "      <td>...</td>\n",
       "    </tr>\n",
       "    <tr>\n",
       "      <th>12132</th>\n",
       "      <td>person5</td>\n",
       "      <td>2022-09-01</td>\n",
       "      <td>19</td>\n",
       "      <td>59</td>\n",
       "    </tr>\n",
       "    <tr>\n",
       "      <th>12133</th>\n",
       "      <td>person5</td>\n",
       "      <td>2022-09-01</td>\n",
       "      <td>19</td>\n",
       "      <td>102</td>\n",
       "    </tr>\n",
       "    <tr>\n",
       "      <th>12134</th>\n",
       "      <td>person5</td>\n",
       "      <td>2022-09-01</td>\n",
       "      <td>19</td>\n",
       "      <td>15</td>\n",
       "    </tr>\n",
       "    <tr>\n",
       "      <th>12135</th>\n",
       "      <td>person5</td>\n",
       "      <td>2022-09-01</td>\n",
       "      <td>21</td>\n",
       "      <td>35</td>\n",
       "    </tr>\n",
       "    <tr>\n",
       "      <th>12136</th>\n",
       "      <td>person5</td>\n",
       "      <td>2022-09-01</td>\n",
       "      <td>21</td>\n",
       "      <td>47</td>\n",
       "    </tr>\n",
       "  </tbody>\n",
       "</table>\n",
       "<p>12137 rows × 4 columns</p>\n",
       "</div>"
      ],
      "text/plain": [
       "        Source        Date  Hour  Count\n",
       "0      person5  2022-01-27     8      4\n",
       "1      person5  2022-01-02    13     78\n",
       "2      person5  2022-01-02    12     66\n",
       "3      person5  2022-01-02    12     57\n",
       "4      person5  2022-01-02    12     99\n",
       "...        ...         ...   ...    ...\n",
       "12132  person5  2022-09-01    19     59\n",
       "12133  person5  2022-09-01    19    102\n",
       "12134  person5  2022-09-01    19     15\n",
       "12135  person5  2022-09-01    21     35\n",
       "12136  person5  2022-09-01    21     47\n",
       "\n",
       "[12137 rows x 4 columns]"
      ]
     },
     "execution_count": 5,
     "metadata": {},
     "output_type": "execute_result"
    }
   ],
   "source": [
    "p5 = pd.read_csv(\"resources/Participant-05-detail.csv\")\n",
    "p5"
   ]
  },
  {
   "cell_type": "markdown",
   "id": "3f3708f5",
   "metadata": {},
   "source": [
    "The .csv file has been stored in varible \"p5\". Also, we can see there are 4 attributes and 12137 rows contained in the dataset. The, we gonna check whether NA value contained,we need to solve NA value if there is a NA value exit."
   ]
  },
  {
   "cell_type": "code",
   "execution_count": 7,
   "id": "4db8931b",
   "metadata": {},
   "outputs": [
    {
     "data": {
      "text/plain": [
       "0"
      ]
     },
     "execution_count": 7,
     "metadata": {},
     "output_type": "execute_result"
    }
   ],
   "source": [
    "# count how many none value in the datafrma\n",
    "p5.isnull().sum().sum()"
   ]
  },
  {
   "cell_type": "markdown",
   "id": "33b8c040",
   "metadata": {},
   "source": [
    "Since there is no NA value, we do not have to solve the NA value."
   ]
  },
  {
   "cell_type": "markdown",
   "id": "3e634582",
   "metadata": {},
   "source": [
    "### Plot to show data"
   ]
  },
  {
   "cell_type": "markdown",
   "id": "4b73c40e",
   "metadata": {},
   "source": [
    "In this section, we would like to know the average steps per day of participant5."
   ]
  },
  {
   "cell_type": "code",
   "execution_count": 12,
   "id": "799e82dc",
   "metadata": {},
   "outputs": [
    {
     "data": {
      "text/html": [
       "<div>\n",
       "<style scoped>\n",
       "    .dataframe tbody tr th:only-of-type {\n",
       "        vertical-align: middle;\n",
       "    }\n",
       "\n",
       "    .dataframe tbody tr th {\n",
       "        vertical-align: top;\n",
       "    }\n",
       "\n",
       "    .dataframe thead th {\n",
       "        text-align: right;\n",
       "    }\n",
       "</style>\n",
       "<table border=\"1\" class=\"dataframe\">\n",
       "  <thead>\n",
       "    <tr style=\"text-align: right;\">\n",
       "      <th></th>\n",
       "      <th>Hour</th>\n",
       "      <th>Count</th>\n",
       "    </tr>\n",
       "    <tr>\n",
       "      <th>Date</th>\n",
       "      <th></th>\n",
       "      <th></th>\n",
       "    </tr>\n",
       "  </thead>\n",
       "  <tbody>\n",
       "    <tr>\n",
       "      <th>2022-01-01</th>\n",
       "      <td>23.000000</td>\n",
       "      <td>38.000000</td>\n",
       "    </tr>\n",
       "    <tr>\n",
       "      <th>2022-01-02</th>\n",
       "      <td>5.897959</td>\n",
       "      <td>177.163265</td>\n",
       "    </tr>\n",
       "    <tr>\n",
       "      <th>2022-01-03</th>\n",
       "      <td>6.959184</td>\n",
       "      <td>104.163265</td>\n",
       "    </tr>\n",
       "    <tr>\n",
       "      <th>2022-01-04</th>\n",
       "      <td>7.350000</td>\n",
       "      <td>200.775000</td>\n",
       "    </tr>\n",
       "    <tr>\n",
       "      <th>2022-01-05</th>\n",
       "      <td>7.200000</td>\n",
       "      <td>172.066667</td>\n",
       "    </tr>\n",
       "    <tr>\n",
       "      <th>...</th>\n",
       "      <td>...</td>\n",
       "      <td>...</td>\n",
       "    </tr>\n",
       "    <tr>\n",
       "      <th>2022-08-28</th>\n",
       "      <td>12.655738</td>\n",
       "      <td>211.278689</td>\n",
       "    </tr>\n",
       "    <tr>\n",
       "      <th>2022-08-29</th>\n",
       "      <td>13.220000</td>\n",
       "      <td>120.720000</td>\n",
       "    </tr>\n",
       "    <tr>\n",
       "      <th>2022-08-30</th>\n",
       "      <td>13.511111</td>\n",
       "      <td>218.222222</td>\n",
       "    </tr>\n",
       "    <tr>\n",
       "      <th>2022-08-31</th>\n",
       "      <td>12.830189</td>\n",
       "      <td>198.547170</td>\n",
       "    </tr>\n",
       "    <tr>\n",
       "      <th>2022-09-01</th>\n",
       "      <td>13.743590</td>\n",
       "      <td>174.384615</td>\n",
       "    </tr>\n",
       "  </tbody>\n",
       "</table>\n",
       "<p>222 rows × 2 columns</p>\n",
       "</div>"
      ],
      "text/plain": [
       "                 Hour       Count\n",
       "Date                             \n",
       "2022-01-01  23.000000   38.000000\n",
       "2022-01-02   5.897959  177.163265\n",
       "2022-01-03   6.959184  104.163265\n",
       "2022-01-04   7.350000  200.775000\n",
       "2022-01-05   7.200000  172.066667\n",
       "...               ...         ...\n",
       "2022-08-28  12.655738  211.278689\n",
       "2022-08-29  13.220000  120.720000\n",
       "2022-08-30  13.511111  218.222222\n",
       "2022-08-31  12.830189  198.547170\n",
       "2022-09-01  13.743590  174.384615\n",
       "\n",
       "[222 rows x 2 columns]"
      ]
     },
     "execution_count": 12,
     "metadata": {},
     "output_type": "execute_result"
    }
   ],
   "source": [
    "# since mutiple data recorded per day, we group per day data first\n",
    "per_day_data =  p5.groupby(['Date']).mean()\n",
    "# visulize the data\n",
    "per_day_data"
   ]
  },
  {
   "cell_type": "markdown",
   "id": "eb95cc25",
   "metadata": {},
   "source": [
    "We can see the data list by each day, and the average steps have been counted. Then, we will visulize the data"
   ]
  },
  {
   "cell_type": "code",
   "execution_count": 22,
   "id": "5a922e5a",
   "metadata": {},
   "outputs": [
    {
     "data": {
      "image/png": "[encoded data removed]",
      "text/plain": [
       "<Figure size 432x288 with 1 Axes>"
      ]
     },
     "metadata": {
      "needs_background": "light"
     },
     "output_type": "display_data"
    }
   ],
   "source": [
    "y= per_day_data['Count']\n",
    "x = per_day_data.index\n",
    "plt.bar(x, y, label=\"Blue Bar\", color='b')\n",
    "# plt.bar(x2, y2, label=\"Green Bar\", color='g')\n",
    "plt.plot()\n",
    "\n",
    "plt.xlabel(\"Date\")\n",
    "plt.ylabel(\"Count\")\n",
    "plt.title(\"Average steps per day\")\n",
    "plt.legend()\n",
    "plt.show()"
   ]
  },
  {
   "cell_type": "markdown",
   "id": "4e1f0ee3",
   "metadata": {},
   "source": [
    "The above is the visuliazation, the y-aes is average number of steps count,and the x-ase is the date."
   ]
  },
  {
   "cell_type": "code",
   "execution_count": null,
   "id": "ffb43b79",
   "metadata": {},
   "outputs": [],
   "source": []
  }
 ],
 "metadata": {
  "kernelspec": {
   "display_name": "Python 3 (ipykernel)",
   "language": "python",
   "name": "python3"
  },
  "language_info": {
   "codemirror_mode": {
    "name": "ipython",
    "version": 3
   },
   "file_extension": ".py",
   "mimetype": "text/x-python",
   "name": "python",
   "nbconvert_exporter": "python",
   "pygments_lexer": "ipython3",
   "version": "3.9.7"
  }
 },
 "nbformat": 4,
 "nbformat_minor": 5
}
