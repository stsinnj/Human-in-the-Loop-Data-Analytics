{
 "cells": [
  {
   "cell_type": "markdown",
   "metadata": {},
   "source": [
    "# Introduction"
   ]
  },
  {
   "cell_type": "markdown",
   "metadata": {},
   "source": [
    "Begin date: 2022-10-09 \\\n",
    "End date: 2022-10-11 \\\n",
    "Author: Xin Guo\n",
    "\n",
    "Sub-question: Was there a significant difference in the amount of exercise participants did in summer and winter, and if so, how should we describe this difference?\n",
    "\n",
    "This is the code that test on the other two datasets: participant 4, participant7"
   ]
  },
  {
   "cell_type": "markdown",
   "metadata": {},
   "source": [
    "Below is the modules that are required in analysing. \n",
    "pandas is for loading data from csv to jupyter; \n",
    "matplotlib is for visualizing the result; \n",
    "datetime is for processing date and time format. "
   ]
  },
  {
   "cell_type": "code",
   "execution_count": 25,
   "metadata": {},
   "outputs": [],
   "source": [
    "import pandas as pd\n",
    "import matplotlib.pyplot as plt\n",
    "import datetime\n",
    "import seaborn as sns\n",
    "from statsmodels.tsa.statespace.sarimax import SARIMAX\n",
    "import numpy as np\n",
    "from sklearn.metrics import mean_squared_error\n",
    "from statsmodels.tsa.seasonal import seasonal_decompose"
   ]
  },
  {
   "cell_type": "markdown",
   "metadata": {},
   "source": [
    "# Data clean and aggregation"
   ]
  },
  {
   "cell_type": "markdown",
   "metadata": {},
   "source": [
    "Below is the read data from folders"
   ]
  },
  {
   "cell_type": "code",
   "execution_count": 26,
   "metadata": {},
   "outputs": [],
   "source": [
    "# dataset: Participant-04\n",
    "raw_data = pd.read_csv(\"https://raw.github.sydney.edu.au/xguo0149/2022-DATA3406-RE06-Group04/main/src/resources/Participant-04.csv?token=GHSAT0AAAAAAAAAHGMSLS5R4FVB62OCDOBUY3J2HYA\")\n",
    "\n",
    "# second method\n",
    "# raw_data = pd.read_csv(\"resources/Participant-04.csv\")\n",
    "\n",
    "\n",
    "\n",
    "# dataset: Participant-07\n",
    "# raw_data = pd.read_csv(\"https://raw.github.sydney.edu.au/xguo0149/2022-DATA3406-RE06-Group04/main/src/resources/Participant-07.csv?token=GHSAT0AAAAAAAAAHGMTNSM2ZW5TQU5Z3XLYY3J2IHA\")\n",
    "\n",
    "# second method\n",
    "# raw_data = pd.read_csv(\"resources/Participant-07.csv\")"
   ]
  },
  {
   "cell_type": "markdown",
   "metadata": {},
   "source": [
    "Below is converting the format: \n",
    "- convert date into standard format: YYYY-MM-DD HH:MM:SS\n",
    "- modify the variables' name which are only including lower case letters, digits and underscore "
   ]
  },
  {
   "cell_type": "code",
   "execution_count": 27,
   "metadata": {},
   "outputs": [
    {
     "data": {
      "text/html": [
       "<div>\n",
       "<style scoped>\n",
       "    .dataframe tbody tr th:only-of-type {\n",
       "        vertical-align: middle;\n",
       "    }\n",
       "\n",
       "    .dataframe tbody tr th {\n",
       "        vertical-align: top;\n",
       "    }\n",
       "\n",
       "    .dataframe thead th {\n",
       "        text-align: right;\n",
       "    }\n",
       "</style>\n",
       "<table border=\"1\" class=\"dataframe\">\n",
       "  <thead>\n",
       "    <tr style=\"text-align: right;\">\n",
       "      <th></th>\n",
       "      <th>start</th>\n",
       "      <th>finish</th>\n",
       "      <th>steps_count</th>\n",
       "    </tr>\n",
       "  </thead>\n",
       "  <tbody>\n",
       "    <tr>\n",
       "      <th>0</th>\n",
       "      <td>2022-01-01 00:00:00</td>\n",
       "      <td>2022-01-01 01:00:00</td>\n",
       "      <td>0.0</td>\n",
       "    </tr>\n",
       "    <tr>\n",
       "      <th>1</th>\n",
       "      <td>2022-01-01 01:00:00</td>\n",
       "      <td>2022-01-01 02:00:00</td>\n",
       "      <td>0.0</td>\n",
       "    </tr>\n",
       "    <tr>\n",
       "      <th>2</th>\n",
       "      <td>2022-01-01 02:00:00</td>\n",
       "      <td>2022-01-01 03:00:00</td>\n",
       "      <td>0.0</td>\n",
       "    </tr>\n",
       "    <tr>\n",
       "      <th>3</th>\n",
       "      <td>2022-01-01 03:00:00</td>\n",
       "      <td>2022-01-01 04:00:00</td>\n",
       "      <td>0.0</td>\n",
       "    </tr>\n",
       "    <tr>\n",
       "      <th>4</th>\n",
       "      <td>2022-01-01 04:00:00</td>\n",
       "      <td>2022-01-01 05:00:00</td>\n",
       "      <td>0.0</td>\n",
       "    </tr>\n",
       "    <tr>\n",
       "      <th>...</th>\n",
       "      <td>...</td>\n",
       "      <td>...</td>\n",
       "      <td>...</td>\n",
       "    </tr>\n",
       "    <tr>\n",
       "      <th>6018</th>\n",
       "      <td>2022-09-08 17:00:00</td>\n",
       "      <td>2022-09-08 18:00:00</td>\n",
       "      <td>537.0</td>\n",
       "    </tr>\n",
       "    <tr>\n",
       "      <th>6019</th>\n",
       "      <td>2022-09-08 18:00:00</td>\n",
       "      <td>2022-09-08 19:00:00</td>\n",
       "      <td>188.0</td>\n",
       "    </tr>\n",
       "    <tr>\n",
       "      <th>6020</th>\n",
       "      <td>2022-09-08 19:00:00</td>\n",
       "      <td>2022-09-08 20:00:00</td>\n",
       "      <td>215.0</td>\n",
       "    </tr>\n",
       "    <tr>\n",
       "      <th>6021</th>\n",
       "      <td>2022-09-08 20:00:00</td>\n",
       "      <td>2022-09-08 21:00:00</td>\n",
       "      <td>727.0</td>\n",
       "    </tr>\n",
       "    <tr>\n",
       "      <th>6022</th>\n",
       "      <td>2022-09-08 21:00:00</td>\n",
       "      <td>2022-09-08 22:00:00</td>\n",
       "      <td>0.0</td>\n",
       "    </tr>\n",
       "  </tbody>\n",
       "</table>\n",
       "<p>6023 rows × 3 columns</p>\n",
       "</div>"
      ],
      "text/plain": [
       "                   start              finish  steps_count\n",
       "0    2022-01-01 00:00:00 2022-01-01 01:00:00          0.0\n",
       "1    2022-01-01 01:00:00 2022-01-01 02:00:00          0.0\n",
       "2    2022-01-01 02:00:00 2022-01-01 03:00:00          0.0\n",
       "3    2022-01-01 03:00:00 2022-01-01 04:00:00          0.0\n",
       "4    2022-01-01 04:00:00 2022-01-01 05:00:00          0.0\n",
       "...                  ...                 ...          ...\n",
       "6018 2022-09-08 17:00:00 2022-09-08 18:00:00        537.0\n",
       "6019 2022-09-08 18:00:00 2022-09-08 19:00:00        188.0\n",
       "6020 2022-09-08 19:00:00 2022-09-08 20:00:00        215.0\n",
       "6021 2022-09-08 20:00:00 2022-09-08 21:00:00        727.0\n",
       "6022 2022-09-08 21:00:00 2022-09-08 22:00:00          0.0\n",
       "\n",
       "[6023 rows x 3 columns]"
      ]
     },
     "execution_count": 27,
     "metadata": {},
     "output_type": "execute_result"
    }
   ],
   "source": [
    "raw_data['Start']=pd.to_datetime(raw_data['Start'])\n",
    "raw_data['Finish']=pd.to_datetime(raw_data['Finish'])\n",
    "\n",
    "raw_data.rename(columns = {'Start': 'start', 'Finish': 'finish', 'Steps (count)':'steps_count'}, inplace = True)\n",
    "raw_data"
   ]
  },
  {
   "cell_type": "markdown",
   "metadata": {},
   "source": [
    "Result: the two columns `start` and `finish` has been converted to the standard format, the columns' names are all lower case."
   ]
  },
  {
   "cell_type": "markdown",
   "metadata": {},
   "source": [
    "Below is converting float in the variable `steps_count` into integer"
   ]
  },
  {
   "cell_type": "code",
   "execution_count": 28,
   "metadata": {},
   "outputs": [],
   "source": [
    "raw_data['steps_count'] = raw_data['steps_count'].astype(int)"
   ]
  },
  {
   "cell_type": "markdown",
   "metadata": {},
   "source": [
    "Below is aggregating data by day: I use the `groupby` funtion via the start date to aggregate all the data in one day. Variable `steps_count` is the sum of steps. "
   ]
  },
  {
   "cell_type": "code",
   "execution_count": 29,
   "metadata": {},
   "outputs": [
    {
     "data": {
      "text/html": [
       "<div>\n",
       "<style scoped>\n",
       "    .dataframe tbody tr th:only-of-type {\n",
       "        vertical-align: middle;\n",
       "    }\n",
       "\n",
       "    .dataframe tbody tr th {\n",
       "        vertical-align: top;\n",
       "    }\n",
       "\n",
       "    .dataframe thead th {\n",
       "        text-align: right;\n",
       "    }\n",
       "</style>\n",
       "<table border=\"1\" class=\"dataframe\">\n",
       "  <thead>\n",
       "    <tr style=\"text-align: right;\">\n",
       "      <th></th>\n",
       "      <th>start</th>\n",
       "      <th>steps_count</th>\n",
       "    </tr>\n",
       "  </thead>\n",
       "  <tbody>\n",
       "    <tr>\n",
       "      <th>0</th>\n",
       "      <td>2022-01-01</td>\n",
       "      <td>6290</td>\n",
       "    </tr>\n",
       "    <tr>\n",
       "      <th>1</th>\n",
       "      <td>2022-01-02</td>\n",
       "      <td>17810</td>\n",
       "    </tr>\n",
       "    <tr>\n",
       "      <th>2</th>\n",
       "      <td>2022-01-03</td>\n",
       "      <td>8168</td>\n",
       "    </tr>\n",
       "    <tr>\n",
       "      <th>3</th>\n",
       "      <td>2022-01-04</td>\n",
       "      <td>8840</td>\n",
       "    </tr>\n",
       "    <tr>\n",
       "      <th>4</th>\n",
       "      <td>2022-01-05</td>\n",
       "      <td>8338</td>\n",
       "    </tr>\n",
       "    <tr>\n",
       "      <th>...</th>\n",
       "      <td>...</td>\n",
       "      <td>...</td>\n",
       "    </tr>\n",
       "    <tr>\n",
       "      <th>246</th>\n",
       "      <td>2022-09-04</td>\n",
       "      <td>6270</td>\n",
       "    </tr>\n",
       "    <tr>\n",
       "      <th>247</th>\n",
       "      <td>2022-09-05</td>\n",
       "      <td>8596</td>\n",
       "    </tr>\n",
       "    <tr>\n",
       "      <th>248</th>\n",
       "      <td>2022-09-06</td>\n",
       "      <td>13997</td>\n",
       "    </tr>\n",
       "    <tr>\n",
       "      <th>249</th>\n",
       "      <td>2022-09-07</td>\n",
       "      <td>10513</td>\n",
       "    </tr>\n",
       "    <tr>\n",
       "      <th>250</th>\n",
       "      <td>2022-09-08</td>\n",
       "      <td>14315</td>\n",
       "    </tr>\n",
       "  </tbody>\n",
       "</table>\n",
       "<p>251 rows × 2 columns</p>\n",
       "</div>"
      ],
      "text/plain": [
       "          start  steps_count\n",
       "0    2022-01-01         6290\n",
       "1    2022-01-02        17810\n",
       "2    2022-01-03         8168\n",
       "3    2022-01-04         8840\n",
       "4    2022-01-05         8338\n",
       "..          ...          ...\n",
       "246  2022-09-04         6270\n",
       "247  2022-09-05         8596\n",
       "248  2022-09-06        13997\n",
       "249  2022-09-07        10513\n",
       "250  2022-09-08        14315\n",
       "\n",
       "[251 rows x 2 columns]"
      ]
     },
     "execution_count": 29,
     "metadata": {},
     "output_type": "execute_result"
    }
   ],
   "source": [
    "raw_data_by_day =  raw_data.groupby(by = raw_data['start'].dt.date).sum().reset_index()\n",
    "raw_data_by_day['steps_count'] = raw_data_by_day['steps_count'].astype(int)\n",
    "\n",
    "raw_data_by_day"
   ]
  },
  {
   "cell_type": "markdown",
   "metadata": {},
   "source": [
    "Result: the aggregated dataframe includes two columns `start` the date and `steps_count` steps in the day. "
   ]
  },
  {
   "cell_type": "markdown",
   "metadata": {},
   "source": [
    "Below is spliting winter's steps data, we use the data in January and February. "
   ]
  },
  {
   "cell_type": "code",
   "execution_count": 30,
   "metadata": {},
   "outputs": [
    {
     "data": {
      "text/html": [
       "<div>\n",
       "<style scoped>\n",
       "    .dataframe tbody tr th:only-of-type {\n",
       "        vertical-align: middle;\n",
       "    }\n",
       "\n",
       "    .dataframe tbody tr th {\n",
       "        vertical-align: top;\n",
       "    }\n",
       "\n",
       "    .dataframe thead th {\n",
       "        text-align: right;\n",
       "    }\n",
       "</style>\n",
       "<table border=\"1\" class=\"dataframe\">\n",
       "  <thead>\n",
       "    <tr style=\"text-align: right;\">\n",
       "      <th></th>\n",
       "      <th>steps_count</th>\n",
       "    </tr>\n",
       "    <tr>\n",
       "      <th>start</th>\n",
       "      <th></th>\n",
       "    </tr>\n",
       "  </thead>\n",
       "  <tbody>\n",
       "    <tr>\n",
       "      <th>2022-01-01</th>\n",
       "      <td>6290</td>\n",
       "    </tr>\n",
       "    <tr>\n",
       "      <th>2022-01-02</th>\n",
       "      <td>17810</td>\n",
       "    </tr>\n",
       "    <tr>\n",
       "      <th>2022-01-03</th>\n",
       "      <td>8168</td>\n",
       "    </tr>\n",
       "    <tr>\n",
       "      <th>2022-01-04</th>\n",
       "      <td>8840</td>\n",
       "    </tr>\n",
       "    <tr>\n",
       "      <th>2022-01-05</th>\n",
       "      <td>8338</td>\n",
       "    </tr>\n",
       "    <tr>\n",
       "      <th>...</th>\n",
       "      <td>...</td>\n",
       "    </tr>\n",
       "    <tr>\n",
       "      <th>2022-03-27</th>\n",
       "      <td>7568</td>\n",
       "    </tr>\n",
       "    <tr>\n",
       "      <th>2022-03-28</th>\n",
       "      <td>6790</td>\n",
       "    </tr>\n",
       "    <tr>\n",
       "      <th>2022-03-29</th>\n",
       "      <td>17980</td>\n",
       "    </tr>\n",
       "    <tr>\n",
       "      <th>2022-03-30</th>\n",
       "      <td>11809</td>\n",
       "    </tr>\n",
       "    <tr>\n",
       "      <th>2022-03-31</th>\n",
       "      <td>13885</td>\n",
       "    </tr>\n",
       "  </tbody>\n",
       "</table>\n",
       "<p>90 rows × 1 columns</p>\n",
       "</div>"
      ],
      "text/plain": [
       "            steps_count\n",
       "start                  \n",
       "2022-01-01         6290\n",
       "2022-01-02        17810\n",
       "2022-01-03         8168\n",
       "2022-01-04         8840\n",
       "2022-01-05         8338\n",
       "...                 ...\n",
       "2022-03-27         7568\n",
       "2022-03-28         6790\n",
       "2022-03-29        17980\n",
       "2022-03-30        11809\n",
       "2022-03-31        13885\n",
       "\n",
       "[90 rows x 1 columns]"
      ]
     },
     "execution_count": 30,
     "metadata": {},
     "output_type": "execute_result"
    }
   ],
   "source": [
    "df1 = raw_data[raw_data['start'].dt.month == 1 ].groupby(by = raw_data['start'].dt.date).sum()\n",
    "\n",
    "df2 = raw_data[raw_data['start'].dt.month == 2 ].groupby(by = raw_data['start'].dt.date).sum()\n",
    "\n",
    "df3 = raw_data[raw_data['start'].dt.month == 3 ].groupby(by = raw_data['start'].dt.date).sum()\n",
    "\n",
    "raw_data_winter = pd.concat([df1, df2, df3])\n",
    "raw_data_winter"
   ]
  },
  {
   "cell_type": "markdown",
   "metadata": {},
   "source": [
    "**Result**: Daily steps data of participant-8 in winter is stored in `raw_data_winter`"
   ]
  },
  {
   "cell_type": "markdown",
   "metadata": {},
   "source": [
    "Below is spliting summar's daily steps data, we use the data in June and July. "
   ]
  },
  {
   "cell_type": "code",
   "execution_count": 31,
   "metadata": {},
   "outputs": [
    {
     "data": {
      "text/html": [
       "<div>\n",
       "<style scoped>\n",
       "    .dataframe tbody tr th:only-of-type {\n",
       "        vertical-align: middle;\n",
       "    }\n",
       "\n",
       "    .dataframe tbody tr th {\n",
       "        vertical-align: top;\n",
       "    }\n",
       "\n",
       "    .dataframe thead th {\n",
       "        text-align: right;\n",
       "    }\n",
       "</style>\n",
       "<table border=\"1\" class=\"dataframe\">\n",
       "  <thead>\n",
       "    <tr style=\"text-align: right;\">\n",
       "      <th></th>\n",
       "      <th>steps_count</th>\n",
       "    </tr>\n",
       "    <tr>\n",
       "      <th>start</th>\n",
       "      <th></th>\n",
       "    </tr>\n",
       "  </thead>\n",
       "  <tbody>\n",
       "    <tr>\n",
       "      <th>2022-06-01</th>\n",
       "      <td>11708</td>\n",
       "    </tr>\n",
       "    <tr>\n",
       "      <th>2022-06-02</th>\n",
       "      <td>16548</td>\n",
       "    </tr>\n",
       "    <tr>\n",
       "      <th>2022-06-03</th>\n",
       "      <td>4480</td>\n",
       "    </tr>\n",
       "    <tr>\n",
       "      <th>2022-06-04</th>\n",
       "      <td>27160</td>\n",
       "    </tr>\n",
       "    <tr>\n",
       "      <th>2022-06-05</th>\n",
       "      <td>3396</td>\n",
       "    </tr>\n",
       "    <tr>\n",
       "      <th>...</th>\n",
       "      <td>...</td>\n",
       "    </tr>\n",
       "    <tr>\n",
       "      <th>2022-08-27</th>\n",
       "      <td>11366</td>\n",
       "    </tr>\n",
       "    <tr>\n",
       "      <th>2022-08-28</th>\n",
       "      <td>5170</td>\n",
       "    </tr>\n",
       "    <tr>\n",
       "      <th>2022-08-29</th>\n",
       "      <td>14682</td>\n",
       "    </tr>\n",
       "    <tr>\n",
       "      <th>2022-08-30</th>\n",
       "      <td>9184</td>\n",
       "    </tr>\n",
       "    <tr>\n",
       "      <th>2022-08-31</th>\n",
       "      <td>10949</td>\n",
       "    </tr>\n",
       "  </tbody>\n",
       "</table>\n",
       "<p>92 rows × 1 columns</p>\n",
       "</div>"
      ],
      "text/plain": [
       "            steps_count\n",
       "start                  \n",
       "2022-06-01        11708\n",
       "2022-06-02        16548\n",
       "2022-06-03         4480\n",
       "2022-06-04        27160\n",
       "2022-06-05         3396\n",
       "...                 ...\n",
       "2022-08-27        11366\n",
       "2022-08-28         5170\n",
       "2022-08-29        14682\n",
       "2022-08-30         9184\n",
       "2022-08-31        10949\n",
       "\n",
       "[92 rows x 1 columns]"
      ]
     },
     "execution_count": 31,
     "metadata": {},
     "output_type": "execute_result"
    }
   ],
   "source": [
    "df1 = raw_data[raw_data['start'].dt.month == 6 ].groupby(by = raw_data['start'].dt.date).sum()\n",
    "\n",
    "df2 = raw_data[raw_data['start'].dt.month == 7 ].groupby(by = raw_data['start'].dt.date).sum()\n",
    "\n",
    "df3 = raw_data[raw_data['start'].dt.month == 8 ].groupby(by = raw_data['start'].dt.date).sum()\n",
    "\n",
    "raw_data_summar = pd.concat([df1, df2, df3])\n",
    "raw_data_summar"
   ]
  },
  {
   "cell_type": "markdown",
   "metadata": {},
   "source": [
    "**Result**: Daily steps data of participant-8 in winter is stored in `raw_data_summar`"
   ]
  },
  {
   "cell_type": "markdown",
   "metadata": {},
   "source": [
    "Below is plot of steps in each day. x-axis is the date, y-axis is count of steps in the day. "
   ]
  },
  {
   "cell_type": "code",
   "execution_count": 32,
   "metadata": {},
   "outputs": [
    {
     "data": {
      "image/png": "[encoded data removed]",
      "text/plain": [
       "<Figure size 720x504 with 1 Axes>"
      ]
     },
     "metadata": {
      "needs_background": "light"
     },
     "output_type": "display_data"
    }
   ],
   "source": [
    "\n",
    "start = raw_data_by_day['start']\n",
    "steps = raw_data_by_day['steps_count']\n",
    " \n",
    "# Figure Size\n",
    "fig = plt.figure(figsize =(10, 7))\n",
    " \n",
    "#  line Plot\n",
    "plt.plot(start, steps)\n",
    "\n",
    "plt.xlabel(\"Date\")\n",
    "plt.ylabel(\"Steps in one day\")\n",
    "plt.title(\"Line Plot of Steps from 2022-01-01 to 2022-09-12\")\n",
    "\n",
    "plt.xticks(rotation=45)\n",
    "\n",
    "# Show Plot\n",
    "plt.show()"
   ]
  },
  {
   "cell_type": "markdown",
   "metadata": {},
   "source": [
    "Result:\n",
    "As can be seen from the graphs, the amount of daily exercise varied considerably among the participants. The maximum amount of exercise per day was over 20,000 steps and the minimum amount was around 2,000 steps. There was a significant decrease in the participant's exercise in June and July, and given that it was winter in Sydney in June and July, we suspect that the weather may have influenced the participant's exercise level.\n",
    "\n",
    "Therefore, further analysis is needed, i.e. to look at the total weekly exercise."
   ]
  },
  {
   "cell_type": "markdown",
   "metadata": {},
   "source": [
    "Below is aggregate daily data into weekly data using the `resample` function. We set Monday as the first day of a week. \n",
    "We keep the step count is an interger in each row, a float of steps does not make sense."
   ]
  },
  {
   "cell_type": "code",
   "execution_count": 33,
   "metadata": {},
   "outputs": [
    {
     "data": {
      "text/html": [
       "<div>\n",
       "<style scoped>\n",
       "    .dataframe tbody tr th:only-of-type {\n",
       "        vertical-align: middle;\n",
       "    }\n",
       "\n",
       "    .dataframe tbody tr th {\n",
       "        vertical-align: top;\n",
       "    }\n",
       "\n",
       "    .dataframe thead th {\n",
       "        text-align: right;\n",
       "    }\n",
       "</style>\n",
       "<table border=\"1\" class=\"dataframe\">\n",
       "  <thead>\n",
       "    <tr style=\"text-align: right;\">\n",
       "      <th></th>\n",
       "      <th>start</th>\n",
       "      <th>steps_count</th>\n",
       "    </tr>\n",
       "  </thead>\n",
       "  <tbody>\n",
       "    <tr>\n",
       "      <th>0</th>\n",
       "      <td>2022-01-03</td>\n",
       "      <td>32268</td>\n",
       "    </tr>\n",
       "    <tr>\n",
       "      <th>1</th>\n",
       "      <td>2022-01-10</td>\n",
       "      <td>70286</td>\n",
       "    </tr>\n",
       "    <tr>\n",
       "      <th>2</th>\n",
       "      <td>2022-01-17</td>\n",
       "      <td>75247</td>\n",
       "    </tr>\n",
       "    <tr>\n",
       "      <th>3</th>\n",
       "      <td>2022-01-24</td>\n",
       "      <td>73738</td>\n",
       "    </tr>\n",
       "    <tr>\n",
       "      <th>4</th>\n",
       "      <td>2022-01-31</td>\n",
       "      <td>80114</td>\n",
       "    </tr>\n",
       "    <tr>\n",
       "      <th>5</th>\n",
       "      <td>2022-02-07</td>\n",
       "      <td>72440</td>\n",
       "    </tr>\n",
       "    <tr>\n",
       "      <th>6</th>\n",
       "      <td>2022-02-14</td>\n",
       "      <td>91653</td>\n",
       "    </tr>\n",
       "    <tr>\n",
       "      <th>7</th>\n",
       "      <td>2022-02-21</td>\n",
       "      <td>81120</td>\n",
       "    </tr>\n",
       "    <tr>\n",
       "      <th>8</th>\n",
       "      <td>2022-02-28</td>\n",
       "      <td>71356</td>\n",
       "    </tr>\n",
       "    <tr>\n",
       "      <th>9</th>\n",
       "      <td>2022-03-07</td>\n",
       "      <td>74020</td>\n",
       "    </tr>\n",
       "    <tr>\n",
       "      <th>10</th>\n",
       "      <td>2022-03-14</td>\n",
       "      <td>85872</td>\n",
       "    </tr>\n",
       "    <tr>\n",
       "      <th>11</th>\n",
       "      <td>2022-03-21</td>\n",
       "      <td>79514</td>\n",
       "    </tr>\n",
       "    <tr>\n",
       "      <th>12</th>\n",
       "      <td>2022-03-28</td>\n",
       "      <td>75344</td>\n",
       "    </tr>\n",
       "    <tr>\n",
       "      <th>13</th>\n",
       "      <td>2022-04-04</td>\n",
       "      <td>89792</td>\n",
       "    </tr>\n",
       "    <tr>\n",
       "      <th>14</th>\n",
       "      <td>2022-04-11</td>\n",
       "      <td>101833</td>\n",
       "    </tr>\n",
       "    <tr>\n",
       "      <th>15</th>\n",
       "      <td>2022-04-18</td>\n",
       "      <td>89236</td>\n",
       "    </tr>\n",
       "    <tr>\n",
       "      <th>16</th>\n",
       "      <td>2022-04-25</td>\n",
       "      <td>80019</td>\n",
       "    </tr>\n",
       "    <tr>\n",
       "      <th>17</th>\n",
       "      <td>2022-05-02</td>\n",
       "      <td>83887</td>\n",
       "    </tr>\n",
       "    <tr>\n",
       "      <th>18</th>\n",
       "      <td>2022-05-09</td>\n",
       "      <td>89664</td>\n",
       "    </tr>\n",
       "    <tr>\n",
       "      <th>19</th>\n",
       "      <td>2022-05-16</td>\n",
       "      <td>91075</td>\n",
       "    </tr>\n",
       "    <tr>\n",
       "      <th>20</th>\n",
       "      <td>2022-05-23</td>\n",
       "      <td>100623</td>\n",
       "    </tr>\n",
       "    <tr>\n",
       "      <th>21</th>\n",
       "      <td>2022-05-30</td>\n",
       "      <td>80056</td>\n",
       "    </tr>\n",
       "    <tr>\n",
       "      <th>22</th>\n",
       "      <td>2022-06-06</td>\n",
       "      <td>70544</td>\n",
       "    </tr>\n",
       "    <tr>\n",
       "      <th>23</th>\n",
       "      <td>2022-06-13</td>\n",
       "      <td>67608</td>\n",
       "    </tr>\n",
       "    <tr>\n",
       "      <th>24</th>\n",
       "      <td>2022-06-20</td>\n",
       "      <td>75390</td>\n",
       "    </tr>\n",
       "    <tr>\n",
       "      <th>25</th>\n",
       "      <td>2022-06-27</td>\n",
       "      <td>69126</td>\n",
       "    </tr>\n",
       "    <tr>\n",
       "      <th>26</th>\n",
       "      <td>2022-07-04</td>\n",
       "      <td>91790</td>\n",
       "    </tr>\n",
       "    <tr>\n",
       "      <th>27</th>\n",
       "      <td>2022-07-11</td>\n",
       "      <td>70541</td>\n",
       "    </tr>\n",
       "    <tr>\n",
       "      <th>28</th>\n",
       "      <td>2022-07-18</td>\n",
       "      <td>79002</td>\n",
       "    </tr>\n",
       "    <tr>\n",
       "      <th>29</th>\n",
       "      <td>2022-07-25</td>\n",
       "      <td>91593</td>\n",
       "    </tr>\n",
       "    <tr>\n",
       "      <th>30</th>\n",
       "      <td>2022-08-01</td>\n",
       "      <td>87346</td>\n",
       "    </tr>\n",
       "    <tr>\n",
       "      <th>31</th>\n",
       "      <td>2022-08-08</td>\n",
       "      <td>77698</td>\n",
       "    </tr>\n",
       "    <tr>\n",
       "      <th>32</th>\n",
       "      <td>2022-08-15</td>\n",
       "      <td>70966</td>\n",
       "    </tr>\n",
       "    <tr>\n",
       "      <th>33</th>\n",
       "      <td>2022-08-22</td>\n",
       "      <td>79461</td>\n",
       "    </tr>\n",
       "    <tr>\n",
       "      <th>34</th>\n",
       "      <td>2022-08-29</td>\n",
       "      <td>75418</td>\n",
       "    </tr>\n",
       "    <tr>\n",
       "      <th>35</th>\n",
       "      <td>2022-09-05</td>\n",
       "      <td>74393</td>\n",
       "    </tr>\n",
       "    <tr>\n",
       "      <th>36</th>\n",
       "      <td>2022-09-12</td>\n",
       "      <td>38825</td>\n",
       "    </tr>\n",
       "  </tbody>\n",
       "</table>\n",
       "</div>"
      ],
      "text/plain": [
       "        start  steps_count\n",
       "0  2022-01-03        32268\n",
       "1  2022-01-10        70286\n",
       "2  2022-01-17        75247\n",
       "3  2022-01-24        73738\n",
       "4  2022-01-31        80114\n",
       "5  2022-02-07        72440\n",
       "6  2022-02-14        91653\n",
       "7  2022-02-21        81120\n",
       "8  2022-02-28        71356\n",
       "9  2022-03-07        74020\n",
       "10 2022-03-14        85872\n",
       "11 2022-03-21        79514\n",
       "12 2022-03-28        75344\n",
       "13 2022-04-04        89792\n",
       "14 2022-04-11       101833\n",
       "15 2022-04-18        89236\n",
       "16 2022-04-25        80019\n",
       "17 2022-05-02        83887\n",
       "18 2022-05-09        89664\n",
       "19 2022-05-16        91075\n",
       "20 2022-05-23       100623\n",
       "21 2022-05-30        80056\n",
       "22 2022-06-06        70544\n",
       "23 2022-06-13        67608\n",
       "24 2022-06-20        75390\n",
       "25 2022-06-27        69126\n",
       "26 2022-07-04        91790\n",
       "27 2022-07-11        70541\n",
       "28 2022-07-18        79002\n",
       "29 2022-07-25        91593\n",
       "30 2022-08-01        87346\n",
       "31 2022-08-08        77698\n",
       "32 2022-08-15        70966\n",
       "33 2022-08-22        79461\n",
       "34 2022-08-29        75418\n",
       "35 2022-09-05        74393\n",
       "36 2022-09-12        38825"
      ]
     },
     "execution_count": 33,
     "metadata": {},
     "output_type": "execute_result"
    }
   ],
   "source": [
    "raw_data_by_week = pd.DataFrame(raw_data.resample('W-MON', on='start').steps_count.sum()).reset_index()\n",
    "raw_data_by_week['steps_count'] = raw_data_by_week['steps_count'].astype(int)\n",
    "\n",
    "raw_data_by_week"
   ]
  },
  {
   "cell_type": "markdown",
   "metadata": {},
   "source": [
    "Result:\n",
    "The aggregated dataframe includes two columns: `start` date of Monday in a week and `steps_count`the steps in the week. "
   ]
  },
  {
   "cell_type": "markdown",
   "metadata": {},
   "source": [
    "Below is the bar plot of weekly total steps. X-axis is date of a week, y-axis is the steps in the week. "
   ]
  },
  {
   "cell_type": "code",
   "execution_count": 34,
   "metadata": {},
   "outputs": [
    {
     "data": {
      "image/png": "[encoded data removed]",
      "text/plain": [
       "<Figure size 720x504 with 1 Axes>"
      ]
     },
     "metadata": {
      "needs_background": "light"
     },
     "output_type": "display_data"
    }
   ],
   "source": [
    "start = raw_data_by_week['start']\n",
    "steps = raw_data_by_week['steps_count']\n",
    " \n",
    "# Figure Size\n",
    "fig = plt.figure(figsize =(10, 7))\n",
    " \n",
    "#  bar Plot\n",
    "plt.bar(start, steps)\n",
    "\n",
    "plt.title(\"Barplot of Weekly Sum of Steps of Participant-8\")\n",
    "plt.xlabel(\"Week\")\n",
    "plt.ylabel(\"Steps in A Week\")\n",
    " \n",
    "# Show Plot\n",
    "plt.show()"
   ]
  },
  {
   "cell_type": "markdown",
   "metadata": {},
   "source": [
    "The bar chart above shows a gradual increase in exercise for this participant from January to May, with a sudden decrease in June; this is consistent with the results we observed from the daily exercise. Then there was a gradual increase in exercise from June to September."
   ]
  },
  {
   "cell_type": "markdown",
   "metadata": {},
   "source": [
    "# Model Prediction: ARMA\n",
    "\n"
   ]
  },
  {
   "cell_type": "markdown",
   "metadata": {},
   "source": [
    "Autoregressive Moving Average (ARMA) is a theoretical statistical model that uses past data to predict future data. This method is mostly used to predict the future of weather, stocks, etc. It is a type of self-regression model."
   ]
  },
  {
   "cell_type": "markdown",
   "metadata": {},
   "source": [
    "The following sets the index of each row to a date instead of a number. This is done because using the ARMA model requires the data type to be an integer or floating point number."
   ]
  },
  {
   "cell_type": "code",
   "execution_count": 35,
   "metadata": {},
   "outputs": [
    {
     "data": {
      "text/html": [
       "<div>\n",
       "<style scoped>\n",
       "    .dataframe tbody tr th:only-of-type {\n",
       "        vertical-align: middle;\n",
       "    }\n",
       "\n",
       "    .dataframe tbody tr th {\n",
       "        vertical-align: top;\n",
       "    }\n",
       "\n",
       "    .dataframe thead th {\n",
       "        text-align: right;\n",
       "    }\n",
       "</style>\n",
       "<table border=\"1\" class=\"dataframe\">\n",
       "  <thead>\n",
       "    <tr style=\"text-align: right;\">\n",
       "      <th></th>\n",
       "      <th>start</th>\n",
       "      <th>steps_count</th>\n",
       "    </tr>\n",
       "    <tr>\n",
       "      <th>start</th>\n",
       "      <th></th>\n",
       "      <th></th>\n",
       "    </tr>\n",
       "  </thead>\n",
       "  <tbody>\n",
       "    <tr>\n",
       "      <th>2022-01-01</th>\n",
       "      <td>2022-01-01</td>\n",
       "      <td>6290</td>\n",
       "    </tr>\n",
       "    <tr>\n",
       "      <th>2022-01-02</th>\n",
       "      <td>2022-01-02</td>\n",
       "      <td>17810</td>\n",
       "    </tr>\n",
       "    <tr>\n",
       "      <th>2022-01-03</th>\n",
       "      <td>2022-01-03</td>\n",
       "      <td>8168</td>\n",
       "    </tr>\n",
       "    <tr>\n",
       "      <th>2022-01-04</th>\n",
       "      <td>2022-01-04</td>\n",
       "      <td>8840</td>\n",
       "    </tr>\n",
       "    <tr>\n",
       "      <th>2022-01-05</th>\n",
       "      <td>2022-01-05</td>\n",
       "      <td>8338</td>\n",
       "    </tr>\n",
       "    <tr>\n",
       "      <th>...</th>\n",
       "      <td>...</td>\n",
       "      <td>...</td>\n",
       "    </tr>\n",
       "    <tr>\n",
       "      <th>2022-09-04</th>\n",
       "      <td>2022-09-04</td>\n",
       "      <td>6270</td>\n",
       "    </tr>\n",
       "    <tr>\n",
       "      <th>2022-09-05</th>\n",
       "      <td>2022-09-05</td>\n",
       "      <td>8596</td>\n",
       "    </tr>\n",
       "    <tr>\n",
       "      <th>2022-09-06</th>\n",
       "      <td>2022-09-06</td>\n",
       "      <td>13997</td>\n",
       "    </tr>\n",
       "    <tr>\n",
       "      <th>2022-09-07</th>\n",
       "      <td>2022-09-07</td>\n",
       "      <td>10513</td>\n",
       "    </tr>\n",
       "    <tr>\n",
       "      <th>2022-09-08</th>\n",
       "      <td>2022-09-08</td>\n",
       "      <td>14315</td>\n",
       "    </tr>\n",
       "  </tbody>\n",
       "</table>\n",
       "<p>251 rows × 2 columns</p>\n",
       "</div>"
      ],
      "text/plain": [
       "                 start  steps_count\n",
       "start                              \n",
       "2022-01-01  2022-01-01         6290\n",
       "2022-01-02  2022-01-02        17810\n",
       "2022-01-03  2022-01-03         8168\n",
       "2022-01-04  2022-01-04         8840\n",
       "2022-01-05  2022-01-05         8338\n",
       "...                ...          ...\n",
       "2022-09-04  2022-09-04         6270\n",
       "2022-09-05  2022-09-05         8596\n",
       "2022-09-06  2022-09-06        13997\n",
       "2022-09-07  2022-09-07        10513\n",
       "2022-09-08  2022-09-08        14315\n",
       "\n",
       "[251 rows x 2 columns]"
      ]
     },
     "execution_count": 35,
     "metadata": {},
     "output_type": "execute_result"
    }
   ],
   "source": [
    "raw_data_by_day.index = raw_data_by_day[\"start\"]\n",
    "raw_data_by_day"
   ]
  },
  {
   "cell_type": "markdown",
   "metadata": {},
   "source": [
    "The variable `date` has been set as the index, and the data frame still contains two variables. \\\n",
    "So we need to remove the date column to ensure that the data frame only contains data of integer and floating point types:"
   ]
  },
  {
   "cell_type": "code",
   "execution_count": 36,
   "metadata": {},
   "outputs": [
    {
     "data": {
      "text/html": [
       "<div>\n",
       "<style scoped>\n",
       "    .dataframe tbody tr th:only-of-type {\n",
       "        vertical-align: middle;\n",
       "    }\n",
       "\n",
       "    .dataframe tbody tr th {\n",
       "        vertical-align: top;\n",
       "    }\n",
       "\n",
       "    .dataframe thead th {\n",
       "        text-align: right;\n",
       "    }\n",
       "</style>\n",
       "<table border=\"1\" class=\"dataframe\">\n",
       "  <thead>\n",
       "    <tr style=\"text-align: right;\">\n",
       "      <th></th>\n",
       "      <th>steps_count</th>\n",
       "    </tr>\n",
       "    <tr>\n",
       "      <th>start</th>\n",
       "      <th></th>\n",
       "    </tr>\n",
       "  </thead>\n",
       "  <tbody>\n",
       "    <tr>\n",
       "      <th>2022-01-01</th>\n",
       "      <td>6290</td>\n",
       "    </tr>\n",
       "    <tr>\n",
       "      <th>2022-01-02</th>\n",
       "      <td>17810</td>\n",
       "    </tr>\n",
       "    <tr>\n",
       "      <th>2022-01-03</th>\n",
       "      <td>8168</td>\n",
       "    </tr>\n",
       "    <tr>\n",
       "      <th>2022-01-04</th>\n",
       "      <td>8840</td>\n",
       "    </tr>\n",
       "    <tr>\n",
       "      <th>2022-01-05</th>\n",
       "      <td>8338</td>\n",
       "    </tr>\n",
       "    <tr>\n",
       "      <th>...</th>\n",
       "      <td>...</td>\n",
       "    </tr>\n",
       "    <tr>\n",
       "      <th>2022-09-04</th>\n",
       "      <td>6270</td>\n",
       "    </tr>\n",
       "    <tr>\n",
       "      <th>2022-09-05</th>\n",
       "      <td>8596</td>\n",
       "    </tr>\n",
       "    <tr>\n",
       "      <th>2022-09-06</th>\n",
       "      <td>13997</td>\n",
       "    </tr>\n",
       "    <tr>\n",
       "      <th>2022-09-07</th>\n",
       "      <td>10513</td>\n",
       "    </tr>\n",
       "    <tr>\n",
       "      <th>2022-09-08</th>\n",
       "      <td>14315</td>\n",
       "    </tr>\n",
       "  </tbody>\n",
       "</table>\n",
       "<p>251 rows × 1 columns</p>\n",
       "</div>"
      ],
      "text/plain": [
       "            steps_count\n",
       "start                  \n",
       "2022-01-01         6290\n",
       "2022-01-02        17810\n",
       "2022-01-03         8168\n",
       "2022-01-04         8840\n",
       "2022-01-05         8338\n",
       "...                 ...\n",
       "2022-09-04         6270\n",
       "2022-09-05         8596\n",
       "2022-09-06        13997\n",
       "2022-09-07        10513\n",
       "2022-09-08        14315\n",
       "\n",
       "[251 rows x 1 columns]"
      ]
     },
     "execution_count": 36,
     "metadata": {},
     "output_type": "execute_result"
    }
   ],
   "source": [
    "del raw_data_by_day[\"start\"]\n",
    "raw_data_by_day"
   ]
  },
  {
   "cell_type": "markdown",
   "metadata": {},
   "source": [
    "We have removed the date column. By now we have finished preparing the data format."
   ]
  },
  {
   "cell_type": "markdown",
   "metadata": {},
   "source": [
    "In order to train the prediction model, we need to separate the training set from the test set to avoid overfitting the model. The training set is used to generate the model and the test set is used to check the accuracy of the model. \\\n",
    "\n",
    "We choose the last 30 days of the training set as the test set"
   ]
  },
  {
   "cell_type": "code",
   "execution_count": 37,
   "metadata": {},
   "outputs": [
    {
     "data": {
      "text/html": [
       "<div>\n",
       "<style scoped>\n",
       "    .dataframe tbody tr th:only-of-type {\n",
       "        vertical-align: middle;\n",
       "    }\n",
       "\n",
       "    .dataframe tbody tr th {\n",
       "        vertical-align: top;\n",
       "    }\n",
       "\n",
       "    .dataframe thead th {\n",
       "        text-align: right;\n",
       "    }\n",
       "</style>\n",
       "<table border=\"1\" class=\"dataframe\">\n",
       "  <thead>\n",
       "    <tr style=\"text-align: right;\">\n",
       "      <th></th>\n",
       "      <th>steps_count</th>\n",
       "    </tr>\n",
       "    <tr>\n",
       "      <th>start</th>\n",
       "      <th></th>\n",
       "    </tr>\n",
       "  </thead>\n",
       "  <tbody>\n",
       "    <tr>\n",
       "      <th>2022-08-10</th>\n",
       "      <td>9464</td>\n",
       "    </tr>\n",
       "    <tr>\n",
       "      <th>2022-08-11</th>\n",
       "      <td>9403</td>\n",
       "    </tr>\n",
       "    <tr>\n",
       "      <th>2022-08-12</th>\n",
       "      <td>3838</td>\n",
       "    </tr>\n",
       "    <tr>\n",
       "      <th>2022-08-13</th>\n",
       "      <td>25085</td>\n",
       "    </tr>\n",
       "    <tr>\n",
       "      <th>2022-08-14</th>\n",
       "      <td>9102</td>\n",
       "    </tr>\n",
       "    <tr>\n",
       "      <th>2022-08-15</th>\n",
       "      <td>11649</td>\n",
       "    </tr>\n",
       "    <tr>\n",
       "      <th>2022-08-16</th>\n",
       "      <td>4141</td>\n",
       "    </tr>\n",
       "    <tr>\n",
       "      <th>2022-08-17</th>\n",
       "      <td>7883</td>\n",
       "    </tr>\n",
       "    <tr>\n",
       "      <th>2022-08-18</th>\n",
       "      <td>16582</td>\n",
       "    </tr>\n",
       "    <tr>\n",
       "      <th>2022-08-19</th>\n",
       "      <td>9433</td>\n",
       "    </tr>\n",
       "    <tr>\n",
       "      <th>2022-08-20</th>\n",
       "      <td>21344</td>\n",
       "    </tr>\n",
       "    <tr>\n",
       "      <th>2022-08-21</th>\n",
       "      <td>12763</td>\n",
       "    </tr>\n",
       "    <tr>\n",
       "      <th>2022-08-22</th>\n",
       "      <td>7315</td>\n",
       "    </tr>\n",
       "    <tr>\n",
       "      <th>2022-08-23</th>\n",
       "      <td>12760</td>\n",
       "    </tr>\n",
       "    <tr>\n",
       "      <th>2022-08-24</th>\n",
       "      <td>11436</td>\n",
       "    </tr>\n",
       "    <tr>\n",
       "      <th>2022-08-25</th>\n",
       "      <td>11855</td>\n",
       "    </tr>\n",
       "    <tr>\n",
       "      <th>2022-08-26</th>\n",
       "      <td>8149</td>\n",
       "    </tr>\n",
       "    <tr>\n",
       "      <th>2022-08-27</th>\n",
       "      <td>11366</td>\n",
       "    </tr>\n",
       "    <tr>\n",
       "      <th>2022-08-28</th>\n",
       "      <td>5170</td>\n",
       "    </tr>\n",
       "    <tr>\n",
       "      <th>2022-08-29</th>\n",
       "      <td>14682</td>\n",
       "    </tr>\n",
       "    <tr>\n",
       "      <th>2022-08-30</th>\n",
       "      <td>9184</td>\n",
       "    </tr>\n",
       "    <tr>\n",
       "      <th>2022-08-31</th>\n",
       "      <td>10949</td>\n",
       "    </tr>\n",
       "    <tr>\n",
       "      <th>2022-09-01</th>\n",
       "      <td>15257</td>\n",
       "    </tr>\n",
       "    <tr>\n",
       "      <th>2022-09-02</th>\n",
       "      <td>6059</td>\n",
       "    </tr>\n",
       "    <tr>\n",
       "      <th>2022-09-03</th>\n",
       "      <td>18078</td>\n",
       "    </tr>\n",
       "    <tr>\n",
       "      <th>2022-09-04</th>\n",
       "      <td>6270</td>\n",
       "    </tr>\n",
       "    <tr>\n",
       "      <th>2022-09-05</th>\n",
       "      <td>8596</td>\n",
       "    </tr>\n",
       "    <tr>\n",
       "      <th>2022-09-06</th>\n",
       "      <td>13997</td>\n",
       "    </tr>\n",
       "    <tr>\n",
       "      <th>2022-09-07</th>\n",
       "      <td>10513</td>\n",
       "    </tr>\n",
       "    <tr>\n",
       "      <th>2022-09-08</th>\n",
       "      <td>14315</td>\n",
       "    </tr>\n",
       "  </tbody>\n",
       "</table>\n",
       "</div>"
      ],
      "text/plain": [
       "            steps_count\n",
       "start                  \n",
       "2022-08-10         9464\n",
       "2022-08-11         9403\n",
       "2022-08-12         3838\n",
       "2022-08-13        25085\n",
       "2022-08-14         9102\n",
       "2022-08-15        11649\n",
       "2022-08-16         4141\n",
       "2022-08-17         7883\n",
       "2022-08-18        16582\n",
       "2022-08-19         9433\n",
       "2022-08-20        21344\n",
       "2022-08-21        12763\n",
       "2022-08-22         7315\n",
       "2022-08-23        12760\n",
       "2022-08-24        11436\n",
       "2022-08-25        11855\n",
       "2022-08-26         8149\n",
       "2022-08-27        11366\n",
       "2022-08-28         5170\n",
       "2022-08-29        14682\n",
       "2022-08-30         9184\n",
       "2022-08-31        10949\n",
       "2022-09-01        15257\n",
       "2022-09-02         6059\n",
       "2022-09-03        18078\n",
       "2022-09-04         6270\n",
       "2022-09-05         8596\n",
       "2022-09-06        13997\n",
       "2022-09-07        10513\n",
       "2022-09-08        14315"
      ]
     },
     "execution_count": 37,
     "metadata": {},
     "output_type": "execute_result"
    }
   ],
   "source": [
    "raw_data_by_day.tail(30)"
   ]
  },
  {
   "cell_type": "markdown",
   "metadata": {},
   "source": [
    "The data from August 14, 2022 to September 12, 2022 is the test set"
   ]
  },
  {
   "cell_type": "markdown",
   "metadata": {},
   "source": [
    "The following is the separation of the test set and training set, August 14 is the bound of spltting."
   ]
  },
  {
   "cell_type": "code",
   "execution_count": 38,
   "metadata": {},
   "outputs": [
    {
     "name": "stderr",
     "output_type": "stream",
     "text": [
      "D:\\anaconda3\\lib\\site-packages\\pandas\\core\\ops\\array_ops.py:73: FutureWarning: Comparison of Timestamp with datetime.date is deprecated in order to match the standard library behavior.  In a future version these will be considered non-comparable.Use 'ts == pd.Timestamp(date)' or 'ts.date() == date' instead.\n",
      "  result = libops.scalar_compare(x.ravel(), y, op)\n"
     ]
    }
   ],
   "source": [
    "train_set = raw_data_by_day[raw_data_by_day.index < pd.to_datetime(\"2022-08-14\", format='%Y-%m-%d')]\n",
    "test_set = raw_data_by_day[raw_data_by_day.index >= pd.to_datetime(\"2022-08-14\", format='%Y-%m-%d')]"
   ]
  },
  {
   "cell_type": "markdown",
   "metadata": {},
   "source": [
    "Here is the process of training the model and using it to predict the number of steps per day: "
   ]
  },
  {
   "cell_type": "code",
   "execution_count": 39,
   "metadata": {},
   "outputs": [
    {
     "name": "stderr",
     "output_type": "stream",
     "text": [
      "D:\\anaconda3\\lib\\site-packages\\statsmodels\\tsa\\base\\tsa_model.py:471: ValueWarning: No frequency information was provided, so inferred frequency D will be used.\n",
      "  self._init_dates(dates, freq)\n",
      "D:\\anaconda3\\lib\\site-packages\\statsmodels\\tsa\\base\\tsa_model.py:471: ValueWarning: No frequency information was provided, so inferred frequency D will be used.\n",
      "  self._init_dates(dates, freq)\n",
      "D:\\anaconda3\\lib\\site-packages\\statsmodels\\tsa\\statespace\\sarimax.py:966: UserWarning: Non-stationary starting autoregressive parameters found. Using zeros as starting parameters.\n",
      "  warn('Non-stationary starting autoregressive parameters'\n"
     ]
    }
   ],
   "source": [
    "# using the data in training set genrarating the ARMA model\n",
    "y = train_set['steps_count']\n",
    "ARMAmodel = SARIMAX(y, order = (1, 0, 1))\n",
    "ARMAmodel = ARMAmodel.fit()\n",
    "\n",
    "# using the ARMA model predicting the test set\n",
    "y_pred = ARMAmodel.get_forecast(len(test_set.index))\n",
    "\n",
    "# the confident level is set to 0.05\n",
    "y_pred_df = y_pred.conf_int(alpha = 0.05) \n",
    "y_pred_df[\"Predictions\"] = ARMAmodel.predict(start = y_pred_df.index[0], end = y_pred_df.index[-1])\n",
    "y_pred_df.index = test_set.index\n",
    "y_pred_out = y_pred_df[\"Predictions\"] "
   ]
  },
  {
   "cell_type": "code",
   "execution_count": 40,
   "metadata": {},
   "outputs": [
    {
     "data": {
      "text/plain": [
       "start\n",
       "2022-08-14    11539.613079\n",
       "2022-08-15    11539.605033\n",
       "2022-08-16    11539.596986\n",
       "2022-08-17    11539.588940\n",
       "2022-08-18    11539.580894\n",
       "Name: Predictions, dtype: float64"
      ]
     },
     "execution_count": 40,
     "metadata": {},
     "output_type": "execute_result"
    }
   ],
   "source": [
    "y_pred_out.head(5)"
   ]
  },
  {
   "cell_type": "markdown",
   "metadata": {},
   "source": [
    "Above is the predicted number of steps from August 14 to September 12, which shows the decreasing number of steps. \\\n",
    "\n",
    "We visualise the predicted results and the actual results and check the accuracy: "
   ]
  },
  {
   "cell_type": "code",
   "execution_count": 41,
   "metadata": {},
   "outputs": [
    {
     "data": {
      "text/plain": [
       "<matplotlib.legend.Legend at 0x22148534b80>"
      ]
     },
     "execution_count": 41,
     "metadata": {},
     "output_type": "execute_result"
    },
    {
     "data": {
      "image/png": "[encoded data removed]",
      "text/plain": [
       "<Figure size 432x288 with 1 Axes>"
      ]
     },
     "metadata": {
      "needs_background": "light"
     },
     "output_type": "display_data"
    }
   ],
   "source": [
    "plt.plot(y_pred_out, color='green', label = 'Predictions')\n",
    "plt.plot(test_set, color='black', label = 'Actual')\n",
    "\n",
    "plt.xticks(rotation=45)\n",
    "plt.xlabel(\"Date\")\n",
    "plt.ylabel(\"Steps\")\n",
    "plt.title(\"ARMA Model for predicting steps from 2022-08-14 to 2022-09-12\")\n",
    "\n",
    "plt.legend()"
   ]
  },
  {
   "cell_type": "markdown",
   "metadata": {},
   "source": [
    "As you can see from the graph above, the trend of the ARMA model is correct, i.e. the number of steps per day for the participant decreases from August 14th. The disadvantage of the ARMA model is that it does not capture the periodicity in the data, which is the reason for the linear decrease in the predicted results. Therefore, in order to capture the periodicity of the data, we will use a time series data decomposition method to isolate the periodic variation."
   ]
  },
  {
   "cell_type": "markdown",
   "metadata": {},
   "source": [
    "The following is the RMSE of the ARMA model: "
   ]
  },
  {
   "cell_type": "code",
   "execution_count": 42,
   "metadata": {},
   "outputs": [
    {
     "name": "stdout",
     "output_type": "stream",
     "text": [
      "The root mean squared error of ARMA model is 4051.13\n"
     ]
    }
   ],
   "source": [
    "arma_rmse = np.sqrt(mean_squared_error(test_set[\"steps_count\"].values, y_pred_df[\"Predictions\"]))\n",
    "\n",
    "print(\"The root mean squared error of ARMA model is {:.2f}\".format(arma_rmse))"
   ]
  },
  {
   "cell_type": "markdown",
   "metadata": {},
   "source": [
    "# Compare steps between Summar and Winter: Decomposition of Time Series"
   ]
  },
  {
   "cell_type": "markdown",
   "metadata": {},
   "source": [
    "The decomposition of the time series data is as follows: \n",
    "\n",
    "$$\n",
    "X_k = a_k + b_k + r_k\n",
    "$$\n",
    "\n",
    "$k$: $k^{th}$ observation $\\newline$\n",
    "$X_k$ denotes observations $\\newline$\n",
    "$a_k$ denotes the trend component, it represents the long-term trend of the data, usually one of up, down or constant $\\newline$\n",
    "$b_k$ denotes the period component, it represents the cyclical behaviour in the data. For example, in the case of the ARMA model, the participant has a large fluctuation every once in a while. $\\newline$\n",
    "$r_k$ denotes the residual component, it is usually the remainder of the trend and cyclicality that is removed"
   ]
  },
  {
   "cell_type": "markdown",
   "metadata": {},
   "source": [
    "Below is the decomposition process, where we focus on the trend and seasonality components of the data: \n",
    "\n",
    "In the decomposition process above, we have chosen a periodicity of 35, as this data set contains approximately 35 weeks of steps"
   ]
  },
  {
   "cell_type": "markdown",
   "metadata": {},
   "source": [
    "Below is the analysis of data in winter, which we choose data in January, February and March. We analyse the trend and seasonality in the chosen data "
   ]
  },
  {
   "cell_type": "code",
   "execution_count": 43,
   "metadata": {},
   "outputs": [],
   "source": [
    "decomposition_add = seasonal_decompose(raw_data_winter, model='additive', period=35)\n",
    "\n",
    "\n",
    "\n",
    "trend = decomposition_add.trend\n",
    "season = decomposition_add.seasonal\n",
    "# residual = decomposition_add.resid\n"
   ]
  },
  {
   "cell_type": "markdown",
   "metadata": {},
   "source": [
    "Below is the visualisation of the components of trend and seasonality."
   ]
  },
  {
   "cell_type": "code",
   "execution_count": 44,
   "metadata": {},
   "outputs": [
    {
     "data": {
      "text/plain": [
       "Text(0, 0.5, 'Step Count')"
      ]
     },
     "execution_count": 44,
     "metadata": {},
     "output_type": "execute_result"
    },
    {
     "data": {
      "image/png": "[encoded data removed]",
      "text/plain": [
       "<Figure size 720x360 with 1 Axes>"
      ]
     },
     "metadata": {
      "needs_background": "light"
     },
     "output_type": "display_data"
    }
   ],
   "source": [
    "# Plotting the time series and it's components together\n",
    "\n",
    "fig, axes = plt.subplots(1, 1, sharex=True, sharey=False)\n",
    "fig.set_figheight(5)\n",
    "fig.set_figwidth(10)\n",
    "\n",
    "# First plot to the Original time series\n",
    "# axes[0].plot(raw_data_by_day[\"steps_count\"], label='Original', color = \"black\") \n",
    "# axes[0].legend(loc='upper left')\n",
    "\n",
    "# first plot to be for trend\n",
    "axes.plot(trend, label='Trend', color = \"blue\")\n",
    "axes.legend(loc='upper left')\n",
    "axes.title.set_text('Trend of Steps in Winter')\n",
    "axes.set_xlabel('Week Number')\n",
    "axes.set_ylabel('Step Count')\n",
    "\n",
    "\n",
    "# Second plot to be Seasonality component\n",
    "# axes[1].plot(season, label='Seasonality', color = \"green\")\n",
    "# axes[1].legend(loc='upper left')\n",
    "\n",
    "# last last plot to be Residual component\n",
    "# axes[3].plot(residual, label='Residuals')\n",
    "# axes[3].legend(loc='upper left')"
   ]
  },
  {
   "cell_type": "markdown",
   "metadata": {},
   "source": [
    "As can be seen from the images in the trend section(Red line): \n",
    "\n",
    "- The number of steps taken by the participant increases gradually from 2022-01-15 to 2022-02-10, with the total number of steps reaching a maximum on 2022-02-10. \n",
    "- From 2022-02-10 to 2022-03-01, the number of steps decreases.\n",
    "- From 2022-03-01, the number of steps increased. \\\n",
    "  \n",
    "The trend for these three time periods is the same as the trend we made above for the weekly step totals, which suggests that the trend we isolated is partially correct."
   ]
  },
  {
   "cell_type": "markdown",
   "metadata": {},
   "source": [
    "As can be seen from the cyclical component(Green line):  \n",
    "- The length of each cycle is approximately one month\n",
    "- Each cycle has 4 to 5 heavy movements, with a peak of 4000 steps"
   ]
  },
  {
   "cell_type": "code",
   "execution_count": 45,
   "metadata": {},
   "outputs": [],
   "source": [
    "decomposition_add = seasonal_decompose(raw_data_summar, model='additive', period=35)\n",
    "\n",
    "\n",
    "\n",
    "trend = decomposition_add.trend\n",
    "season = decomposition_add.seasonal\n",
    "residual = decomposition_add.resid"
   ]
  },
  {
   "cell_type": "markdown",
   "metadata": {},
   "source": [
    "Below is the visualisation of the components of trend and seasonality."
   ]
  },
  {
   "cell_type": "code",
   "execution_count": 46,
   "metadata": {},
   "outputs": [
    {
     "data": {
      "text/plain": [
       "Text(0, 0.5, 'Step Count')"
      ]
     },
     "execution_count": 46,
     "metadata": {},
     "output_type": "execute_result"
    },
    {
     "data": {
      "image/png": "[encoded data removed]",
      "text/plain": [
       "<Figure size 720x360 with 1 Axes>"
      ]
     },
     "metadata": {
      "needs_background": "light"
     },
     "output_type": "display_data"
    }
   ],
   "source": [
    "# Plotting the time series and it's components together\n",
    "\n",
    "fig, axes = plt.subplots(1, 1, sharex=True, sharey=False)\n",
    "fig.set_figheight(5)\n",
    "fig.set_figwidth(10)\n",
    "\n",
    "# First plot to the Original time series\n",
    "# axes[0].plot(raw_data_by_day[\"steps_count\"], label='Original', color = \"black\") \n",
    "# axes[0].legend(loc='upper left')\n",
    "\n",
    "# second plot to be for trend\n",
    "axes.plot(trend, label='Trend', color = \"red\")\n",
    "axes.legend(loc='upper left')\n",
    "axes.title.set_text('Trend of Steps in Summar')\n",
    "axes.set_xlabel('Week Number')\n",
    "axes.set_ylabel('Step Count')\n",
    "\n",
    "\n",
    "# third plot to be Seasonality component\n",
    "# axes[1].plot(season, label='Seasonality', color = \"green\")\n",
    "# axes[1].legend(loc='upper left')\n",
    "\n",
    "# last last plot to be Residual component\n",
    "# axes[3].plot(residual, label='Residuals')\n",
    "# axes[3].legend(loc='upper left')"
   ]
  },
  {
   "cell_type": "markdown",
   "metadata": {},
   "source": [
    "As can be seen from above trend plot(red line):\n",
    "\n",
    "- Steps increased from 7700 to 9500 from 2022-06-15 to 2022-08-15\n",
    "\n",
    "As can be seen from above seasonality plot(green line):\n",
    "\n",
    "- The length of a cycle is approximately 40 days. \n",
    "\n",
    "- Wide range of fluctuations within a cycle。 "
   ]
  },
  {
   "cell_type": "code",
   "execution_count": 47,
   "metadata": {},
   "outputs": [
    {
     "data": {
      "text/html": [
       "<div>\n",
       "<style scoped>\n",
       "    .dataframe tbody tr th:only-of-type {\n",
       "        vertical-align: middle;\n",
       "    }\n",
       "\n",
       "    .dataframe tbody tr th {\n",
       "        vertical-align: top;\n",
       "    }\n",
       "\n",
       "    .dataframe thead th {\n",
       "        text-align: right;\n",
       "    }\n",
       "</style>\n",
       "<table border=\"1\" class=\"dataframe\">\n",
       "  <thead>\n",
       "    <tr style=\"text-align: right;\">\n",
       "      <th></th>\n",
       "      <th>start</th>\n",
       "      <th>steps_count</th>\n",
       "    </tr>\n",
       "  </thead>\n",
       "  <tbody>\n",
       "    <tr>\n",
       "      <th>0</th>\n",
       "      <td>2022-01-03</td>\n",
       "      <td>32268</td>\n",
       "    </tr>\n",
       "    <tr>\n",
       "      <th>0</th>\n",
       "      <td>2022-01-03</td>\n",
       "      <td>32268</td>\n",
       "    </tr>\n",
       "    <tr>\n",
       "      <th>1</th>\n",
       "      <td>2022-01-10</td>\n",
       "      <td>70286</td>\n",
       "    </tr>\n",
       "    <tr>\n",
       "      <th>1</th>\n",
       "      <td>2022-01-10</td>\n",
       "      <td>70286</td>\n",
       "    </tr>\n",
       "    <tr>\n",
       "      <th>2</th>\n",
       "      <td>2022-01-17</td>\n",
       "      <td>75247</td>\n",
       "    </tr>\n",
       "    <tr>\n",
       "      <th>...</th>\n",
       "      <td>...</td>\n",
       "      <td>...</td>\n",
       "    </tr>\n",
       "    <tr>\n",
       "      <th>34</th>\n",
       "      <td>2022-08-29</td>\n",
       "      <td>75418</td>\n",
       "    </tr>\n",
       "    <tr>\n",
       "      <th>35</th>\n",
       "      <td>2022-09-05</td>\n",
       "      <td>74393</td>\n",
       "    </tr>\n",
       "    <tr>\n",
       "      <th>35</th>\n",
       "      <td>2022-09-05</td>\n",
       "      <td>74393</td>\n",
       "    </tr>\n",
       "    <tr>\n",
       "      <th>36</th>\n",
       "      <td>2022-09-12</td>\n",
       "      <td>38825</td>\n",
       "    </tr>\n",
       "    <tr>\n",
       "      <th>36</th>\n",
       "      <td>2022-09-12</td>\n",
       "      <td>38825</td>\n",
       "    </tr>\n",
       "  </tbody>\n",
       "</table>\n",
       "<p>74 rows × 2 columns</p>\n",
       "</div>"
      ],
      "text/plain": [
       "        start  steps_count\n",
       "0  2022-01-03        32268\n",
       "0  2022-01-03        32268\n",
       "1  2022-01-10        70286\n",
       "1  2022-01-10        70286\n",
       "2  2022-01-17        75247\n",
       "..        ...          ...\n",
       "34 2022-08-29        75418\n",
       "35 2022-09-05        74393\n",
       "35 2022-09-05        74393\n",
       "36 2022-09-12        38825\n",
       "36 2022-09-12        38825\n",
       "\n",
       "[74 rows x 2 columns]"
      ]
     },
     "execution_count": 47,
     "metadata": {},
     "output_type": "execute_result"
    }
   ],
   "source": [
    "raw_data_by_week\n",
    "\n",
    "pd.concat([raw_data_by_week, raw_data_by_week]).sort_values(\"start\")"
   ]
  },
  {
   "cell_type": "markdown",
   "metadata": {},
   "source": [
    "Below is putting the summar and winter trend into one plot. "
   ]
  },
  {
   "cell_type": "code",
   "execution_count": 48,
   "metadata": {},
   "outputs": [
    {
     "data": {
      "text/plain": [
       "Text(0, 0.5, 'Step Count')"
      ]
     },
     "execution_count": 48,
     "metadata": {},
     "output_type": "execute_result"
    },
    {
     "data": {
      "image/png": "[encoded data removed]",
      "text/plain": [
       "<Figure size 720x360 with 1 Axes>"
      ]
     },
     "metadata": {
      "needs_background": "light"
     },
     "output_type": "display_data"
    }
   ],
   "source": [
    "data1 = pd.concat([raw_data_by_week, raw_data_by_week]).sort_values(\"start\")\n",
    "\n",
    "# data1[\"Steps (count)\"] = data1[\"Steps (count)\"].astype(int)\n",
    "\n",
    "# generate seasonality decomposition additive analysis\n",
    "decomposition_add = seasonal_decompose(data1[\"steps_count\"], model='additive', period=4)\n",
    "\n",
    "# the analysis includes two part: trend and seasonality\n",
    "trend = decomposition_add.trend\n",
    "season = decomposition_add.seasonal\n",
    "\n",
    "# plot: set the legnth and width of plot\n",
    "fig, axes = plt.subplots(1, 1, sharex=True, sharey=False)\n",
    "fig.set_figheight(5)\n",
    "fig.set_figwidth(10)\n",
    "\n",
    "# plot: line plot; set legend, legend location,, x label, ylabel, title\n",
    "axes.plot(trend, label='Trend', color = \"blue\")\n",
    "axes.legend(loc='upper left')\n",
    "axes.title.set_text('Trend of Weekly Steps of Participant')\n",
    "axes.set_xlabel('Week Number')\n",
    "axes.set_ylabel('Step Count')"
   ]
  },
  {
   "cell_type": "markdown",
   "metadata": {},
   "source": []
  },
  {
   "cell_type": "markdown",
   "metadata": {},
   "source": [
    "# Reflection"
   ]
  },
  {
   "cell_type": "markdown",
   "metadata": {},
   "source": [
    "### How could we predict the steps in one day(or week)?"
   ]
  },
  {
   "cell_type": "markdown",
   "metadata": {},
   "source": [
    "- First we need to determine the baseline activity level of the participant, i.e. how many steps are normally taken in a week\n",
    "\n",
    "- Then we need to look at the trend over the predicted time period, i.e. whether it will increase or decrease over the predicted time period compared to the data already given\n",
    "\n",
    "- Finally, we need to see what day of the month (week) we are predicting, and add the corresponding period amount"
   ]
  },
  {
   "cell_type": "markdown",
   "metadata": {},
   "source": [
    "### What could be done better in the future?"
   ]
  },
  {
   "cell_type": "markdown",
   "metadata": {},
   "source": [
    "- Use cross-validation for the decompose model and calculate the accuracy of the model\n",
    "\n",
    "- The amount of data is not large enough, the aggregated data is only about two hundred days.\n",
    "\n",
    "- The ARMA model and the decomposition model are combined to produce a more accurate forecast model"
   ]
  },
  {
   "cell_type": "markdown",
   "metadata": {},
   "source": [
    "# Reference"
   ]
  },
  {
   "cell_type": "markdown",
   "metadata": {},
   "source": [
    "- A Guide to Time Series Forecasting in Python | Built In. (n.d.). Builtin.com. https://builtin.com/data-science/time-series-forecasting-python\n",
    "\n",
    "- admin. (n.d.). 10. Decomposition of Time-Series in Python: Trend and Seasonal (Periodic) Components | Fusion of Engineering, Control, Coding, Machine Learning, and Science. Retrieved October 12, 2022, from https://aleksandarhaber.com/decomposition-of-time-series-in-python-trend-and-seasonal-periodic-components/\n",
    "\n",
    "- How to decompose a time series? -. (n.d.). ProjectPro. Retrieved October 12, 2022, from https://www.projectpro.io/recipes/decompose-time-series\n",
    "\n",
    "- Getting started with Time Series Decomposition in Python. (n.d.). Engineering Education (EngEd) Program | Section. https://www.section.io/engineering-education/time-series-decomposition-in-python/"
   ]
  }
 ],
 "metadata": {
  "kernelspec": {
   "display_name": "Python 3 (ipykernel)",
   "language": "python",
   "name": "python3"
  },
  "language_info": {
   "codemirror_mode": {
    "name": "ipython",
    "version": 3
   },
   "file_extension": ".py",
   "mimetype": "text/x-python",
   "name": "python",
   "nbconvert_exporter": "python",
   "pygments_lexer": "ipython3",
   "version": "3.9.7"
  },
  "vscode": {
   "interpreter": {
    "hash": "49cb93f377a7abe7414b7b0f21fb3017538004a126cf690fb524202736b7fb92"
   }
  }
 },
 "nbformat": 4,
 "nbformat_minor": 2
}
