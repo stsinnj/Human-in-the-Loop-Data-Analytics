{
 "cells": [
  {
   "cell_type": "markdown",
   "id": "7185b554",
   "metadata": {},
   "source": [
    "# Final personal code"
   ]
  },
  {
   "cell_type": "markdown",
   "id": "370bce93",
   "metadata": {},
   "source": [
    "Author: Shangfei Wang | Date: 28/10/2022\n",
    "\n",
    "In this TPP, I will replace the other two datasets for testing on my subproblem. My sub-question is \"Is weekly steps predictable?\"."
   ]
  },
  {
   "cell_type": "markdown",
   "id": "5b391c23",
   "metadata": {},
   "source": [
    "## Import packages and Read Data"
   ]
  },
  {
   "cell_type": "markdown",
   "id": "670ae868",
   "metadata": {},
   "source": [
    "Below are the packages that need to be used. 'datetime' is used to aid in the analysis of time data."
   ]
  },
  {
   "cell_type": "code",
   "execution_count": 1,
   "id": "7724c76b",
   "metadata": {},
   "outputs": [],
   "source": [
    "# Date started: 10/10/2022\n",
    "\n",
    "import pandas as pd\n",
    "import numpy as np\n",
    "import matplotlib.pyplot as plt\n",
    "import datetime\n",
    "from statsmodels.tsa.arima.model import ARIMA   #Add new packages that need to be used\n"
   ]
  },
  {
   "cell_type": "markdown",
   "id": "2bc42b48",
   "metadata": {},
   "source": [
    "Read the data, here will read the data of three participants 4, 7, and 8 for analysis."
   ]
  },
  {
   "cell_type": "code",
   "execution_count": 2,
   "id": "81342d8e",
   "metadata": {},
   "outputs": [],
   "source": [
    "# Date started: 02/10/2022\n",
    "# Modified Date: 17/10/2022\n",
    "\n",
    "# df = pd.read_csv(\"resources/Participant-07.csv\")\n",
    "\n",
    "# Participant-07\n",
    "df7 = pd.read_csv(\"resources/Participant-07.csv\")\n",
    "\n",
    "# # Participant-08\n",
    "df8 = pd.read_csv(\"resources/Participant-08.csv\")\n",
    "\n",
    "# # Participant-04\n",
    "df4 = pd.read_csv(\"resources/Participant-04.csv\")\n"
   ]
  },
  {
   "cell_type": "markdown",
   "id": "7de2f674",
   "metadata": {},
   "source": [
    "## Data clean"
   ]
  },
  {
   "cell_type": "markdown",
   "id": "79636465",
   "metadata": {},
   "source": [
    "First, split the date and time to facilitate subsequent analysis of the date."
   ]
  },
  {
   "cell_type": "code",
   "execution_count": 3,
   "id": "ed554326",
   "metadata": {},
   "outputs": [
    {
     "data": {
      "text/html": [
       "<div>\n",
       "<style scoped>\n",
       "    .dataframe tbody tr th:only-of-type {\n",
       "        vertical-align: middle;\n",
       "    }\n",
       "\n",
       "    .dataframe tbody tr th {\n",
       "        vertical-align: top;\n",
       "    }\n",
       "\n",
       "    .dataframe thead th {\n",
       "        text-align: right;\n",
       "    }\n",
       "</style>\n",
       "<table border=\"1\" class=\"dataframe\">\n",
       "  <thead>\n",
       "    <tr style=\"text-align: right;\">\n",
       "      <th></th>\n",
       "      <th>Start</th>\n",
       "      <th>Finish</th>\n",
       "      <th>Steps (count)</th>\n",
       "      <th>Date</th>\n",
       "      <th>Time</th>\n",
       "    </tr>\n",
       "  </thead>\n",
       "  <tbody>\n",
       "    <tr>\n",
       "      <th>0</th>\n",
       "      <td>01-Jan-2022 00:00</td>\n",
       "      <td>01-Jan-2022 01:00</td>\n",
       "      <td>0.0</td>\n",
       "      <td>01-Jan-2022</td>\n",
       "      <td>00:00</td>\n",
       "    </tr>\n",
       "    <tr>\n",
       "      <th>1</th>\n",
       "      <td>01-Jan-2022 01:00</td>\n",
       "      <td>01-Jan-2022 02:00</td>\n",
       "      <td>0.0</td>\n",
       "      <td>01-Jan-2022</td>\n",
       "      <td>01:00</td>\n",
       "    </tr>\n",
       "    <tr>\n",
       "      <th>2</th>\n",
       "      <td>01-Jan-2022 02:00</td>\n",
       "      <td>01-Jan-2022 03:00</td>\n",
       "      <td>0.0</td>\n",
       "      <td>01-Jan-2022</td>\n",
       "      <td>02:00</td>\n",
       "    </tr>\n",
       "    <tr>\n",
       "      <th>3</th>\n",
       "      <td>01-Jan-2022 03:00</td>\n",
       "      <td>01-Jan-2022 04:00</td>\n",
       "      <td>0.0</td>\n",
       "      <td>01-Jan-2022</td>\n",
       "      <td>03:00</td>\n",
       "    </tr>\n",
       "    <tr>\n",
       "      <th>4</th>\n",
       "      <td>01-Jan-2022 04:00</td>\n",
       "      <td>01-Jan-2022 05:00</td>\n",
       "      <td>0.0</td>\n",
       "      <td>01-Jan-2022</td>\n",
       "      <td>04:00</td>\n",
       "    </tr>\n",
       "    <tr>\n",
       "      <th>...</th>\n",
       "      <td>...</td>\n",
       "      <td>...</td>\n",
       "      <td>...</td>\n",
       "      <td>...</td>\n",
       "      <td>...</td>\n",
       "    </tr>\n",
       "    <tr>\n",
       "      <th>6018</th>\n",
       "      <td>08-Sep-2022 17:00</td>\n",
       "      <td>08-Sep-2022 18:00</td>\n",
       "      <td>537.0</td>\n",
       "      <td>08-Sep-2022</td>\n",
       "      <td>17:00</td>\n",
       "    </tr>\n",
       "    <tr>\n",
       "      <th>6019</th>\n",
       "      <td>08-Sep-2022 18:00</td>\n",
       "      <td>08-Sep-2022 19:00</td>\n",
       "      <td>188.0</td>\n",
       "      <td>08-Sep-2022</td>\n",
       "      <td>18:00</td>\n",
       "    </tr>\n",
       "    <tr>\n",
       "      <th>6020</th>\n",
       "      <td>08-Sep-2022 19:00</td>\n",
       "      <td>08-Sep-2022 20:00</td>\n",
       "      <td>215.0</td>\n",
       "      <td>08-Sep-2022</td>\n",
       "      <td>19:00</td>\n",
       "    </tr>\n",
       "    <tr>\n",
       "      <th>6021</th>\n",
       "      <td>08-Sep-2022 20:00</td>\n",
       "      <td>08-Sep-2022 21:00</td>\n",
       "      <td>727.0</td>\n",
       "      <td>08-Sep-2022</td>\n",
       "      <td>20:00</td>\n",
       "    </tr>\n",
       "    <tr>\n",
       "      <th>6022</th>\n",
       "      <td>08-Sep-2022 21:00</td>\n",
       "      <td>08-Sep-2022 22:00</td>\n",
       "      <td>0.0</td>\n",
       "      <td>08-Sep-2022</td>\n",
       "      <td>21:00</td>\n",
       "    </tr>\n",
       "  </tbody>\n",
       "</table>\n",
       "<p>6023 rows × 5 columns</p>\n",
       "</div>"
      ],
      "text/plain": [
       "                  Start             Finish  Steps (count)         Date   Time\n",
       "0     01-Jan-2022 00:00  01-Jan-2022 01:00            0.0  01-Jan-2022  00:00\n",
       "1     01-Jan-2022 01:00  01-Jan-2022 02:00            0.0  01-Jan-2022  01:00\n",
       "2     01-Jan-2022 02:00  01-Jan-2022 03:00            0.0  01-Jan-2022  02:00\n",
       "3     01-Jan-2022 03:00  01-Jan-2022 04:00            0.0  01-Jan-2022  03:00\n",
       "4     01-Jan-2022 04:00  01-Jan-2022 05:00            0.0  01-Jan-2022  04:00\n",
       "...                 ...                ...            ...          ...    ...\n",
       "6018  08-Sep-2022 17:00  08-Sep-2022 18:00          537.0  08-Sep-2022  17:00\n",
       "6019  08-Sep-2022 18:00  08-Sep-2022 19:00          188.0  08-Sep-2022  18:00\n",
       "6020  08-Sep-2022 19:00  08-Sep-2022 20:00          215.0  08-Sep-2022  19:00\n",
       "6021  08-Sep-2022 20:00  08-Sep-2022 21:00          727.0  08-Sep-2022  20:00\n",
       "6022  08-Sep-2022 21:00  08-Sep-2022 22:00            0.0  08-Sep-2022  21:00\n",
       "\n",
       "[6023 rows x 5 columns]"
      ]
     },
     "execution_count": 3,
     "metadata": {},
     "output_type": "execute_result"
    }
   ],
   "source": [
    "# Date started: 10/10/2022\n",
    "def split_start(df):\n",
    "    df['Date'] = df['Start'].map(lambda x:x.split(' ')[0])  # Split to get 'Date' column\n",
    "    df['Time'] = df['Start'].map(lambda x:x.split(' ')[1])  # Split to get 'Time' column\n",
    "    return\n",
    "\n",
    "split_start(df4)\n",
    "split_start(df7)\n",
    "split_start(df8)\n",
    "df4"
   ]
  },
  {
   "cell_type": "markdown",
   "id": "be6d2ac7",
   "metadata": {},
   "source": [
    "## Data analysis"
   ]
  },
  {
   "cell_type": "markdown",
   "id": "9f901e7d",
   "metadata": {},
   "source": [
    "Replace index and set date as index."
   ]
  },
  {
   "cell_type": "code",
   "execution_count": 4,
   "id": "775e51c3",
   "metadata": {},
   "outputs": [],
   "source": [
    "# Date started: 10/10/2022\n",
    "def index_data(df):\n",
    "    df['date'] = pd.to_datetime(df['Date'])\n",
    "    df.set_index(\"date\", inplace=True) # change index\n",
    "    df.resample('w').sum()\n",
    "    return\n",
    "\n",
    "index_data(df4)\n",
    "index_data(df7)\n",
    "index_data(df8)\n"
   ]
  },
  {
   "cell_type": "markdown",
   "id": "88e552b8",
   "metadata": {},
   "source": [
    "Setting the date as index is to consolidate the data for a week. This matches the time frequency of advanced driving problems."
   ]
  },
  {
   "cell_type": "markdown",
   "id": "39e31d3a",
   "metadata": {},
   "source": [
    "The data is aggregated by running resample('w').sum() . The data is consolidated from daily recorded steps into weekly steps.\n",
    "\n",
    "Resample in Pandas, resampling, is a method of reprocessing the original sample, and it is a convenient method for resampling and frequency conversion of regular time series data."
   ]
  },
  {
   "cell_type": "code",
   "execution_count": 5,
   "id": "630027f0",
   "metadata": {},
   "outputs": [
    {
     "name": "stdout",
     "output_type": "stream",
     "text": [
      "            Steps (count)\n",
      "date                     \n",
      "2022-01-02   24106.000000\n",
      "2022-01-09   71137.008341\n",
      "2022-01-16   72000.345535\n",
      "2022-01-23   76708.552968\n",
      "2022-01-30   82691.949753\n",
      "2022-02-06   72231.710790\n",
      "2022-02-13   86187.376206\n",
      "2022-02-20   83411.319657\n",
      "2022-02-27   74467.556502\n",
      "2022-03-06   74257.261975\n",
      "2022-03-13   76971.907148\n",
      "2022-03-20   88086.022544\n",
      "2022-03-27   74296.550627\n",
      "2022-04-03   87735.013219\n",
      "2022-04-10  102352.334092\n",
      "2022-04-17   91624.177476\n",
      "2022-04-24   67799.814020\n",
      "2022-05-01   95130.818086\n",
      "2022-05-08   90964.585994\n",
      "2022-05-15   91499.702645\n",
      "2022-05-22  101551.263522\n",
      "2022-05-29   79357.656704\n",
      "2022-06-05   72173.444264\n",
      "2022-06-12   67030.005687\n",
      "2022-06-19   72099.640858\n",
      "2022-06-26   74815.000000\n",
      "2022-07-03   64281.430580\n",
      "2022-07-10   91374.176529\n",
      "2022-07-17   77650.116865\n",
      "2022-07-24   91945.011896\n",
      "2022-07-31   89171.191956\n",
      "2022-08-07   64927.173432\n",
      "2022-08-14   80031.000000\n",
      "2022-08-21   83811.108866\n",
      "2022-08-28   68071.257631\n",
      "2022-09-04   80499.382549\n",
      "2022-09-11   47434.000000\n",
      "            Steps (count)\n",
      "date                     \n",
      "2022-01-02   14793.000000\n",
      "2022-01-09   48008.000000\n",
      "2022-01-16   45772.000000\n",
      "2022-01-23   64605.000000\n",
      "2022-01-30   52127.000000\n",
      "2022-02-06   52774.000000\n",
      "2022-02-13   57186.000000\n",
      "2022-02-20   66588.000000\n",
      "2022-02-27   47431.000000\n",
      "2022-03-06   51290.000000\n",
      "2022-03-13   53692.000000\n",
      "2022-03-20   56876.000000\n",
      "2022-03-27   67035.000000\n",
      "2022-04-03   54921.000000\n",
      "2022-04-10   59287.000000\n",
      "2022-04-17   61964.000000\n",
      "2022-04-24   57233.000000\n",
      "2022-05-01   27315.000000\n",
      "2022-05-08   52958.000000\n",
      "2022-05-15   55363.000000\n",
      "2022-05-22   49862.000000\n",
      "2022-05-29   57916.000000\n",
      "2022-06-05   52693.000000\n",
      "2022-06-12   52088.000000\n",
      "2022-06-19   46413.000000\n",
      "2022-06-26   44977.000000\n",
      "2022-07-03   59186.000000\n",
      "2022-07-10   42272.000000\n",
      "2022-07-17   54614.000000\n",
      "2022-07-24   52900.000000\n",
      "2022-07-31   61342.000000\n",
      "2022-08-07   62321.035842\n",
      "2022-08-14   56904.619988\n",
      "2022-08-21   59816.314867\n",
      "2022-08-28   54708.578491\n",
      "2022-09-04   50079.131636\n",
      "2022-09-11   65206.684003\n",
      "2022-09-18   13084.366488\n",
      "            Steps (count)\n",
      "date                     \n",
      "2022-01-02        14973.0\n",
      "2022-01-09        51120.0\n",
      "2022-01-16        48034.0\n",
      "2022-01-23        43866.0\n",
      "2022-01-30        52397.0\n",
      "2022-02-06        50535.0\n",
      "2022-02-13        73614.0\n",
      "2022-02-20        51934.0\n",
      "2022-02-27        65813.0\n",
      "2022-03-06        24575.0\n",
      "2022-03-13        54882.0\n",
      "2022-03-20        70807.0\n",
      "2022-03-27        75102.0\n",
      "2022-04-03        64158.0\n",
      "2022-04-10        31202.0\n",
      "2022-04-17        68882.0\n",
      "2022-04-24        82426.0\n",
      "2022-05-01        74663.0\n",
      "2022-05-08        72412.0\n",
      "2022-05-15        83372.0\n",
      "2022-05-22        72488.0\n",
      "2022-05-29        46161.0\n",
      "2022-06-05        46354.0\n",
      "2022-06-12        40617.0\n",
      "2022-06-19        63485.0\n",
      "2022-06-26        58329.0\n",
      "2022-07-03        54286.0\n",
      "2022-07-10        64436.0\n",
      "2022-07-17        41494.0\n",
      "2022-07-24        58219.0\n",
      "2022-07-31        76015.0\n",
      "2022-08-07        73545.0\n",
      "2022-08-14        58354.0\n",
      "2022-08-21        64107.0\n",
      "2022-08-28        61963.0\n",
      "2022-09-04        72736.0\n",
      "2022-09-11       100094.0\n",
      "2022-09-18          228.0\n"
     ]
    }
   ],
   "source": [
    "# Date started: 10/10/2022\n",
    "def time_week(df):\n",
    "    print(df.resample('w').sum()) # 'w' stands for weeks.\n",
    "    return\n",
    "\n",
    "time_week(df4)\n",
    "time_week(df7)\n",
    "time_week(df8)\n"
   ]
  },
  {
   "cell_type": "markdown",
   "id": "2b3acb74",
   "metadata": {},
   "source": [
    "Forecasting in days is more accurate. So I will temporarily convert the time unit in weeks to the time unit in days."
   ]
  },
  {
   "cell_type": "code",
   "execution_count": 6,
   "id": "b64b3191",
   "metadata": {
    "scrolled": true
   },
   "outputs": [],
   "source": [
    "# Date started: 10/10/2022\n",
    "def time_day(df):\n",
    "    new_df = df.resample('d').sum()\n",
    "    # new_df.rename({'Steps (count)': 'StepCount'}, axis=1, inplace=True)\n",
    "    return new_df\n",
    "\n"
   ]
  },
  {
   "cell_type": "code",
   "execution_count": 7,
   "id": "230e8d21",
   "metadata": {},
   "outputs": [],
   "source": [
    "new_df4 = time_day(df4)\n",
    "new_df7 = time_day(df7)\n",
    "new_df8 = time_day(df8)"
   ]
  },
  {
   "cell_type": "markdown",
   "id": "e7906d58",
   "metadata": {},
   "source": [
    "It will make predictions on the participant's step count through an ARIMA model. I want to predict the data for June to September by taking the data for the first 5 months. And judge whether it is the same as the actual number of steps from June to September. Clean up and draw the image through the data. If there is a relatively obvious difference, it proves that the change in the number of steps may be affected by many factors, and it cannot be accurately predicted."
   ]
  },
  {
   "cell_type": "code",
   "execution_count": 8,
   "id": "3bb57798",
   "metadata": {},
   "outputs": [],
   "source": [
    "def predict(new_df):\n",
    "    new_day_data1 = new_df\n",
    "    # Create a rolling average using pandas.datafframe.rolling with a window size of 10.\n",
    "    new_day_data1['rolling_av'] = new_day_data1['Steps (count)'].rolling(10).mean()\n",
    "    \n",
    "    # Using the ARIMA model\n",
    "    ARIMA_model = ARIMA(endog=new_day_data1['Steps (count)'], order=(0, 0, 10))\n",
    "    results = ARIMA_model.fit()\n",
    "    \n",
    "    # Determine the time period for the forecast.\n",
    "    start_date = '2022-06-01'\n",
    "    end_date   = '2022-09-01'\n",
    "    new_day_data1['forecast'] = results.predict(start=start_date, end=end_date)  # Forecast for the selected date range.\n",
    "    \n",
    "    # Collate a new temp table\n",
    "    a = new_day_data1[['Steps (count)','rolling_av','forecast']]\n",
    "    pre_df = a.resample('w').sum()\n",
    "    \n",
    "    # Draw the image\n",
    "    pre_df[['Steps (count)','forecast']].plot(lw=2);\n",
    "    plt.title('Comparison of predicted steps and actual steps')\n",
    "\n",
    "    return"
   ]
  },
  {
   "cell_type": "markdown",
   "id": "64945581",
   "metadata": {},
   "source": [
    "The blue line is the trend of actual weekly steps. The yellow line is the trend of predicted steps. The prediction range can modify the code as needed. Because the forecast time I selected is June to September, the yellow line will show 0 until June. June to September is the forecast step count trend."
   ]
  },
  {
   "cell_type": "markdown",
   "id": "8f7d28fb",
   "metadata": {},
   "source": [
    "The image below is a plot of the participant 4 data. Comparing the actual number of steps and the predicted number of steps from June to September, it can be found that there is almost no overlap between the two discounts. This shows that there is a significant difference between the actual number of steps and the predicted number of steps."
   ]
  },
  {
   "cell_type": "code",
   "execution_count": 9,
   "id": "041903de",
   "metadata": {},
   "outputs": [
    {
     "name": "stderr",
     "output_type": "stream",
     "text": [
      "E:\\Anaconda\\lib\\site-packages\\statsmodels\\tsa\\base\\tsa_model.py:132: FutureWarning: The 'freq' argument in Timestamp is deprecated and will be removed in a future version.\n",
      "  date_key = Timestamp(key, freq=base_index.freq)\n"
     ]
    },
    {
     "data": {
      "image/png": "[encoded data removed]",
      "text/plain": [
       "<Figure size 432x288 with 1 Axes>"
      ]
     },
     "metadata": {
      "needs_background": "light"
     },
     "output_type": "display_data"
    }
   ],
   "source": [
    "predict(new_df4)"
   ]
  },
  {
   "cell_type": "markdown",
   "id": "426964ee",
   "metadata": {},
   "source": [
    "The image below is a plot of the participant 7 data. Comparing the actual number of steps and the predicted number of steps from June to September, it can be found that there is almost no overlap between the two discounts. This shows that there is a significant difference between the actual number of steps and the predicted number of steps."
   ]
  },
  {
   "cell_type": "code",
   "execution_count": 10,
   "id": "2bf007c9",
   "metadata": {},
   "outputs": [
    {
     "name": "stderr",
     "output_type": "stream",
     "text": [
      "E:\\Anaconda\\lib\\site-packages\\statsmodels\\base\\model.py:566: ConvergenceWarning: Maximum Likelihood optimization failed to converge. Check mle_retvals\n",
      "  warnings.warn(\"Maximum Likelihood optimization failed to \"\n",
      "E:\\Anaconda\\lib\\site-packages\\statsmodels\\tsa\\base\\tsa_model.py:132: FutureWarning: The 'freq' argument in Timestamp is deprecated and will be removed in a future version.\n",
      "  date_key = Timestamp(key, freq=base_index.freq)\n"
     ]
    },
    {
     "data": {
      "image/png": "[encoded data removed]",
      "text/plain": [
       "<Figure size 432x288 with 1 Axes>"
      ]
     },
     "metadata": {
      "needs_background": "light"
     },
     "output_type": "display_data"
    }
   ],
   "source": [
    "predict(new_df7)"
   ]
  },
  {
   "cell_type": "markdown",
   "id": "5b822b11",
   "metadata": {},
   "source": [
    "The image below is a plot of the participant 8 data. Comparing the actual number of steps and the predicted number of steps from June to September, it can be found that there is almost no overlap between the two discounts. This shows that there is a significant difference between the actual number of steps and the predicted number of steps."
   ]
  },
  {
   "cell_type": "code",
   "execution_count": 11,
   "id": "22333298",
   "metadata": {},
   "outputs": [
    {
     "name": "stderr",
     "output_type": "stream",
     "text": [
      "E:\\Anaconda\\lib\\site-packages\\statsmodels\\tsa\\base\\tsa_model.py:132: FutureWarning: The 'freq' argument in Timestamp is deprecated and will be removed in a future version.\n",
      "  date_key = Timestamp(key, freq=base_index.freq)\n"
     ]
    },
    {
     "data": {
      "image/png": "[encoded data removed]",
      "text/plain": [
       "<Figure size 432x288 with 1 Axes>"
      ]
     },
     "metadata": {
      "needs_background": "light"
     },
     "output_type": "display_data"
    }
   ],
   "source": [
    "predict(new_df8)"
   ]
  },
  {
   "cell_type": "markdown",
   "id": "f74b820d",
   "metadata": {},
   "source": [
    "## Conclusion"
   ]
  },
  {
   "cell_type": "markdown",
   "id": "a45aeeea",
   "metadata": {},
   "source": [
    "Through the analysis of the three graphs, the common conclusion is that there is a big difference between the actual number of steps and the predicted number of steps. This shows that the trend of human step count is unpredictable and it may be affected by many factors."
   ]
  }
 ],
 "metadata": {
  "kernelspec": {
   "display_name": "Python 3 (ipykernel)",
   "language": "python",
   "name": "python3"
  },
  "language_info": {
   "codemirror_mode": {
    "name": "ipython",
    "version": 3
   },
   "file_extension": ".py",
   "mimetype": "text/x-python",
   "name": "python",
   "nbconvert_exporter": "python",
   "pygments_lexer": "ipython3",
   "version": "3.9.7"
  }
 },
 "nbformat": 4,
 "nbformat_minor": 5
}
