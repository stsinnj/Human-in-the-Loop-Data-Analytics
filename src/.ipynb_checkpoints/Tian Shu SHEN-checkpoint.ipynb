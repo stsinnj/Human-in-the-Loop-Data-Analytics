{
 "cells": [
  {
   "cell_type": "code",
   "execution_count": 145,
   "metadata": {},
   "outputs": [],
   "source": [
    "# import Numpy, Pandas\n",
    "import time\n",
    "import calendar\n",
    "import numpy as np\n",
    "import pandas as pd\n",
    "import matplotlib.pyplot as plt\n",
    "\n",
    "from datetime import datetime\n",
    "from pandas.core.frame import DataFrame"
   ]
  },
  {
   "cell_type": "code",
   "execution_count": 32,
   "metadata": {},
   "outputs": [],
   "source": [
    "# load the all data to a dictionary\n",
    "path = ('resources/Participant-01.csv')\n",
    "data_file = pd.read_csv(path)"
   ]
  },
  {
   "cell_type": "code",
   "execution_count": 33,
   "metadata": {},
   "outputs": [
    {
     "name": "stdout",
     "output_type": "stream",
     "text": [
      "<class 'pandas.core.frame.DataFrame'>\n",
      "RangeIndex: 5867 entries, 0 to 5866\n",
      "Data columns (total 3 columns):\n",
      " #   Column         Non-Null Count  Dtype  \n",
      "---  ------         --------------  -----  \n",
      " 0   Start          5867 non-null   object \n",
      " 1   Finish         5867 non-null   object \n",
      " 2   Steps (count)  5867 non-null   float64\n",
      "dtypes: float64(1), object(2)\n",
      "memory usage: 137.6+ KB\n"
     ]
    }
   ],
   "source": [
    "# show brief information of dataframe\n",
    "data_file.info()"
   ]
  },
  {
   "cell_type": "code",
   "execution_count": 34,
   "metadata": {},
   "outputs": [
    {
     "name": "stdout",
     "output_type": "stream",
     "text": [
      "                  Start             Finish  Steps (count)\n",
      "0     31-Dec-2021 23:00  01-Jan-2022 00:00       0.000000\n",
      "1     01-Jan-2022 00:00  01-Jan-2022 01:00       0.000000\n",
      "2     01-Jan-2022 01:00  01-Jan-2022 02:00       0.000000\n",
      "3     01-Jan-2022 02:00  01-Jan-2022 03:00       0.000000\n",
      "4     01-Jan-2022 03:00  01-Jan-2022 04:00       0.000000\n",
      "...                 ...                ...            ...\n",
      "5862  02-Sep-2022 04:00  02-Sep-2022 05:00       9.000000\n",
      "5863  02-Sep-2022 05:00  02-Sep-2022 06:00       0.000000\n",
      "5864  02-Sep-2022 06:00  02-Sep-2022 07:00     410.584935\n",
      "5865  02-Sep-2022 07:00  02-Sep-2022 08:00    1153.415065\n",
      "5866  02-Sep-2022 08:00  02-Sep-2022 09:00       1.000000\n",
      "\n",
      "[5867 rows x 3 columns]\n"
     ]
    }
   ],
   "source": [
    "# display the complete imported data\n",
    "print(data_file)"
   ]
  },
  {
   "cell_type": "code",
   "execution_count": 59,
   "metadata": {},
   "outputs": [],
   "source": [
    "# Delete all rows where Steps (count) is 0\n",
    "data_file = data_file.drop(data_file[data_file['Steps (count)'] == 0].index)"
   ]
  },
  {
   "cell_type": "code",
   "execution_count": 134,
   "metadata": {},
   "outputs": [],
   "source": [
    "# Two functions to define the midpoint of a date\n",
    "def get_time(DateTime):\n",
    "    DateTime = datetime.strptime(DateTime,'%d-%b-%Y %H:%M')\n",
    "    return DateTime\n",
    "\n",
    "def mid_point(start, finish):\n",
    "    start, finish = get_time(start), get_time(finish)\n",
    "    return start+(finish-start)/2"
   ]
  },
  {
   "cell_type": "code",
   "execution_count": 137,
   "metadata": {},
   "outputs": [],
   "source": [
    "list, count = [], 0\n",
    "for m in data_file['Start']:\n",
    "    list.append(m)\n",
    "for n in data_file['Finish']:\n",
    "    list[count] = list[count]+\"/\"+n\n",
    "    count+=1"
   ]
  },
  {
   "cell_type": "code",
   "execution_count": 146,
   "metadata": {},
   "outputs": [],
   "source": [
    "mids, steps = [], []\n",
    "for i in list:\n",
    "    start, finish = i.split(\"/\")\n",
    "    mid = mid_point(start, finish)\n",
    "    mids.append(mid)\n",
    "for i in data_file['Steps (count)']:\n",
    "    steps.append(i)\n",
    "mid_step = {\n",
    "    \"mid\": mids,\n",
    "    \"steps\": steps\n",
    "}\n",
    "mid_step = DataFrame(mid_step)"
   ]
  },
  {
   "cell_type": "code",
   "execution_count": 156,
   "metadata": {},
   "outputs": [
    {
     "data": {
      "text/plain": [
       "<AxesSubplot:xlabel='mid,mid'>"
      ]
     },
     "execution_count": 156,
     "metadata": {},
     "output_type": "execute_result"
    },
    {
     "data": {
      "image/png": "[encoded data removed]",
      "text/plain": [
       "<Figure size 432x288 with 1 Axes>"
      ]
     },
     "metadata": {
      "needs_background": "light"
     },
     "output_type": "display_data"
    }
   ],
   "source": [
    "mid_step.groupby([mid_step[\"mid\"].dt.year, mid_step[\"mid\"].dt.month]).count().plot(kind=\"bar\")"
   ]
  }
 ],
 "metadata": {
  "kernelspec": {
   "display_name": "Python 3",
   "language": "python",
   "name": "python3"
  },
  "language_info": {
   "codemirror_mode": {
    "name": "ipython",
    "version": 3
   },
   "file_extension": ".py",
   "mimetype": "text/x-python",
   "name": "python",
   "nbconvert_exporter": "python",
   "pygments_lexer": "ipython3",
   "version": "3.8.5"
  }
 },
 "nbformat": 4,
 "nbformat_minor": 4
}
