{
 "cells": [
  {
   "cell_type": "markdown",
   "metadata": {},
   "source": [
    "# Introduction\n",
    "I am in charge of the 3rd dataset in this week's panel discussion, here is my exploration of this dataset. In this week we need to explor different of datasets of each group members."
   ]
  },
  {
   "cell_type": "markdown",
   "metadata": {},
   "source": [
    "## Importing external packages  \n",
    "in this notebook, we need to import numpy, csv, pandas and matplotlib.pyplot package"
   ]
  },
  {
   "cell_type": "code",
   "execution_count": 10,
   "metadata": {},
   "outputs": [],
   "source": [
    "import csv\n",
    "import numpy as np\n",
    "import pandas as pd\n",
    "import matplotlib.pyplot as plt\n",
    "from pandas import DataFrame"
   ]
  },
  {
   "cell_type": "markdown",
   "metadata": {},
   "source": [
    "## First look at the data and clean the data\n",
    "This data set 3 belongs to raw data, so we need to clean up this raw data. I found that there are a lot of \"0\" data in this data set. The test taker really didn't walk that day, so I don't think these \"0\" data can be removed directly."
   ]
  },
  {
   "cell_type": "code",
   "execution_count": 11,
   "metadata": {},
   "outputs": [
    {
     "data": {
      "text/html": [
       "<div>\n",
       "<style scoped>\n",
       "    .dataframe tbody tr th:only-of-type {\n",
       "        vertical-align: middle;\n",
       "    }\n",
       "\n",
       "    .dataframe tbody tr th {\n",
       "        vertical-align: top;\n",
       "    }\n",
       "\n",
       "    .dataframe thead th {\n",
       "        text-align: right;\n",
       "    }\n",
       "</style>\n",
       "<table border=\"1\" class=\"dataframe\">\n",
       "  <thead>\n",
       "    <tr style=\"text-align: right;\">\n",
       "      <th></th>\n",
       "      <th>Start</th>\n",
       "      <th>Finish</th>\n",
       "      <th>Steps (count)</th>\n",
       "    </tr>\n",
       "  </thead>\n",
       "  <tbody>\n",
       "    <tr>\n",
       "      <th>0</th>\n",
       "      <td>31/12/2021 23:00</td>\n",
       "      <td>01/01/2022 0:00</td>\n",
       "      <td>0.000000</td>\n",
       "    </tr>\n",
       "    <tr>\n",
       "      <th>1</th>\n",
       "      <td>01/01/2022 0:00</td>\n",
       "      <td>01/01/2022 1:00</td>\n",
       "      <td>14.000000</td>\n",
       "    </tr>\n",
       "    <tr>\n",
       "      <th>2</th>\n",
       "      <td>01/01/2022 1:00</td>\n",
       "      <td>01/01/2022 2:00</td>\n",
       "      <td>0.000000</td>\n",
       "    </tr>\n",
       "    <tr>\n",
       "      <th>3</th>\n",
       "      <td>01/01/2022 2:00</td>\n",
       "      <td>01/01/2022 3:00</td>\n",
       "      <td>0.000000</td>\n",
       "    </tr>\n",
       "    <tr>\n",
       "      <th>4</th>\n",
       "      <td>01/01/2022 3:00</td>\n",
       "      <td>01/01/2022 4:00</td>\n",
       "      <td>0.000000</td>\n",
       "    </tr>\n",
       "    <tr>\n",
       "      <th>...</th>\n",
       "      <td>...</td>\n",
       "      <td>...</td>\n",
       "      <td>...</td>\n",
       "    </tr>\n",
       "    <tr>\n",
       "      <th>6015</th>\n",
       "      <td>08/09/2022 13:00</td>\n",
       "      <td>08/09/2022 14:00</td>\n",
       "      <td>0.000000</td>\n",
       "    </tr>\n",
       "    <tr>\n",
       "      <th>6016</th>\n",
       "      <td>08/09/2022 14:00</td>\n",
       "      <td>08/09/2022 15:00</td>\n",
       "      <td>893.959035</td>\n",
       "    </tr>\n",
       "    <tr>\n",
       "      <th>6017</th>\n",
       "      <td>08/09/2022 15:00</td>\n",
       "      <td>08/09/2022 16:00</td>\n",
       "      <td>534.040965</td>\n",
       "    </tr>\n",
       "    <tr>\n",
       "      <th>6018</th>\n",
       "      <td>08/09/2022 16:00</td>\n",
       "      <td>08/09/2022 17:00</td>\n",
       "      <td>390.020268</td>\n",
       "    </tr>\n",
       "    <tr>\n",
       "      <th>6019</th>\n",
       "      <td>08/09/2022 17:00</td>\n",
       "      <td>08/09/2022 18:00</td>\n",
       "      <td>1191.979732</td>\n",
       "    </tr>\n",
       "  </tbody>\n",
       "</table>\n",
       "<p>6020 rows × 3 columns</p>\n",
       "</div>"
      ],
      "text/plain": [
       "                 Start            Finish  Steps (count)\n",
       "0     31/12/2021 23:00   01/01/2022 0:00       0.000000\n",
       "1      01/01/2022 0:00   01/01/2022 1:00      14.000000\n",
       "2      01/01/2022 1:00   01/01/2022 2:00       0.000000\n",
       "3      01/01/2022 2:00   01/01/2022 3:00       0.000000\n",
       "4      01/01/2022 3:00   01/01/2022 4:00       0.000000\n",
       "...                ...               ...            ...\n",
       "6015  08/09/2022 13:00  08/09/2022 14:00       0.000000\n",
       "6016  08/09/2022 14:00  08/09/2022 15:00     893.959035\n",
       "6017  08/09/2022 15:00  08/09/2022 16:00     534.040965\n",
       "6018  08/09/2022 16:00  08/09/2022 17:00     390.020268\n",
       "6019  08/09/2022 17:00  08/09/2022 18:00    1191.979732\n",
       "\n",
       "[6020 rows x 3 columns]"
      ]
     },
     "execution_count": 11,
     "metadata": {},
     "output_type": "execute_result"
    }
   ],
   "source": [
    "#get the raw data from the github\n",
    "url = \"resources/Participant-03.csv\"\n",
    "# use panda to read this csv\n",
    "data = pd.read_csv(url)\n",
    "#show the data\n",
    "data"
   ]
  },
  {
   "cell_type": "markdown",
   "metadata": {},
   "source": [
    "## one day steps  \n",
    "We can first look at the change in the number of steps in a day and make a histogram.It can be seen that the number of steps is the most at 6 o'clock in the evening"
   ]
  },
  {
   "cell_type": "code",
   "execution_count": 12,
   "metadata": {},
   "outputs": [
    {
     "data": {
      "image/png": "[encoded data removed]",
      "text/plain": [
       "<Figure size 432x288 with 1 Axes>"
      ]
     },
     "metadata": {
      "needs_background": "light"
     },
     "output_type": "display_data"
    }
   ],
   "source": [
    "#choose the first day data\n",
    "df = data[1:25]\n",
    "x = df['Start']\n",
    "y = df['Steps (count)']\n",
    "plt.bar(x,y)\n",
    "#x-axis text\n",
    "plt.xlabel('strat_time')\n",
    "#y-axis text\n",
    "plt.ylabel('Steps')\n",
    "\n",
    "#change degrees of x-axis\n",
    "plt.xticks(rotation=-300)\n",
    "\n",
    "#out put the plot\n",
    "plt.show()"
   ]
  },
  {
   "cell_type": "markdown",
   "metadata": {},
   "source": [
    "# conclusion  \n",
    "There's a lot of data loss or inactivity in a day, and our group is looking at week-to-week relationships, so that much zero-step data shouldn't have a big impact."
   ]
  }
 ],
 "metadata": {
  "kernelspec": {
   "display_name": "Python 3",
   "language": "python",
   "name": "python3"
  },
  "language_info": {
   "codemirror_mode": {
    "name": "ipython",
    "version": 3
   },
   "file_extension": ".py",
   "mimetype": "text/x-python",
   "name": "python",
   "nbconvert_exporter": "python",
   "pygments_lexer": "ipython3",
   "version": "3.8.5"
  }
 },
 "nbformat": 4,
 "nbformat_minor": 4
}
