{
 "cells": [
  {
   "cell_type": "markdown",
   "metadata": {},
   "source": [
    "# Introduction  \n",
    "This week I will explore the driving problem which is week to week data that our group chose, I will simply add up the steps for the week to see the number of steps for the first week.  \n",
    "(beginning date：01/10/2022, end date： 01/10/2022, author: Tiannan Chen)"
   ]
  },
  {
   "cell_type": "markdown",
   "metadata": {},
   "source": [
    "## Importing external packages  \n",
    "in this notebook, we need to import numpy, csv, pandas and matplotlib.pyplot package.  \n",
    "(beginning date：01/10/2022, end date： 01/10/2022, author: Tiannan Chen)"
   ]
  },
  {
   "cell_type": "code",
   "execution_count": 1,
   "metadata": {},
   "outputs": [],
   "source": [
    "\"(beginning date：01/10/2022, end date： 01/10/2022, author: Tiannan Chen)\"\n",
    "import csv\n",
    "import numpy as np\n",
    "import pandas as pd\n",
    "import matplotlib.pyplot as plt\n",
    "from pandas import DataFrame"
   ]
  },
  {
   "cell_type": "markdown",
   "metadata": {},
   "source": [
    "## First get the data from the Github  \n",
    "In this notebook, we still use the form of url to get the data set saved in GitHub  \n",
    "(beginning date：01/10/2022, end date： 01/10/2022, author: Tiannan Chen)"
   ]
  },
  {
   "cell_type": "code",
   "execution_count": 2,
   "metadata": {},
   "outputs": [
    {
     "data": {
      "text/html": [
       "<div>\n",
       "<style scoped>\n",
       "    .dataframe tbody tr th:only-of-type {\n",
       "        vertical-align: middle;\n",
       "    }\n",
       "\n",
       "    .dataframe tbody tr th {\n",
       "        vertical-align: top;\n",
       "    }\n",
       "\n",
       "    .dataframe thead th {\n",
       "        text-align: right;\n",
       "    }\n",
       "</style>\n",
       "<table border=\"1\" class=\"dataframe\">\n",
       "  <thead>\n",
       "    <tr style=\"text-align: right;\">\n",
       "      <th></th>\n",
       "      <th>Start</th>\n",
       "      <th>Finish</th>\n",
       "      <th>Steps (count)</th>\n",
       "    </tr>\n",
       "  </thead>\n",
       "  <tbody>\n",
       "    <tr>\n",
       "      <th>0</th>\n",
       "      <td>31/12/2021 23:00</td>\n",
       "      <td>01/01/2022 0:00</td>\n",
       "      <td>0.000000</td>\n",
       "    </tr>\n",
       "    <tr>\n",
       "      <th>1</th>\n",
       "      <td>01/01/2022 0:00</td>\n",
       "      <td>01/01/2022 1:00</td>\n",
       "      <td>14.000000</td>\n",
       "    </tr>\n",
       "    <tr>\n",
       "      <th>2</th>\n",
       "      <td>01/01/2022 1:00</td>\n",
       "      <td>01/01/2022 2:00</td>\n",
       "      <td>0.000000</td>\n",
       "    </tr>\n",
       "    <tr>\n",
       "      <th>3</th>\n",
       "      <td>01/01/2022 2:00</td>\n",
       "      <td>01/01/2022 3:00</td>\n",
       "      <td>0.000000</td>\n",
       "    </tr>\n",
       "    <tr>\n",
       "      <th>4</th>\n",
       "      <td>01/01/2022 3:00</td>\n",
       "      <td>01/01/2022 4:00</td>\n",
       "      <td>0.000000</td>\n",
       "    </tr>\n",
       "    <tr>\n",
       "      <th>...</th>\n",
       "      <td>...</td>\n",
       "      <td>...</td>\n",
       "      <td>...</td>\n",
       "    </tr>\n",
       "    <tr>\n",
       "      <th>6015</th>\n",
       "      <td>08/09/2022 13:00</td>\n",
       "      <td>08/09/2022 14:00</td>\n",
       "      <td>0.000000</td>\n",
       "    </tr>\n",
       "    <tr>\n",
       "      <th>6016</th>\n",
       "      <td>08/09/2022 14:00</td>\n",
       "      <td>08/09/2022 15:00</td>\n",
       "      <td>893.959035</td>\n",
       "    </tr>\n",
       "    <tr>\n",
       "      <th>6017</th>\n",
       "      <td>08/09/2022 15:00</td>\n",
       "      <td>08/09/2022 16:00</td>\n",
       "      <td>534.040965</td>\n",
       "    </tr>\n",
       "    <tr>\n",
       "      <th>6018</th>\n",
       "      <td>08/09/2022 16:00</td>\n",
       "      <td>08/09/2022 17:00</td>\n",
       "      <td>390.020268</td>\n",
       "    </tr>\n",
       "    <tr>\n",
       "      <th>6019</th>\n",
       "      <td>08/09/2022 17:00</td>\n",
       "      <td>08/09/2022 18:00</td>\n",
       "      <td>1191.979732</td>\n",
       "    </tr>\n",
       "  </tbody>\n",
       "</table>\n",
       "<p>6020 rows × 3 columns</p>\n",
       "</div>"
      ],
      "text/plain": [
       "                 Start            Finish  Steps (count)\n",
       "0     31/12/2021 23:00   01/01/2022 0:00       0.000000\n",
       "1      01/01/2022 0:00   01/01/2022 1:00      14.000000\n",
       "2      01/01/2022 1:00   01/01/2022 2:00       0.000000\n",
       "3      01/01/2022 2:00   01/01/2022 3:00       0.000000\n",
       "4      01/01/2022 3:00   01/01/2022 4:00       0.000000\n",
       "...                ...               ...            ...\n",
       "6015  08/09/2022 13:00  08/09/2022 14:00       0.000000\n",
       "6016  08/09/2022 14:00  08/09/2022 15:00     893.959035\n",
       "6017  08/09/2022 15:00  08/09/2022 16:00     534.040965\n",
       "6018  08/09/2022 16:00  08/09/2022 17:00     390.020268\n",
       "6019  08/09/2022 17:00  08/09/2022 18:00    1191.979732\n",
       "\n",
       "[6020 rows x 3 columns]"
      ]
     },
     "execution_count": 2,
     "metadata": {},
     "output_type": "execute_result"
    }
   ],
   "source": [
    "\"(beginning date：01/10/2022, end date： 01/10/2022, author: Tiannan Chen)\"\n",
    "#get the raw data from the github\n",
    "url = \"https://raw.github.sydney.edu.au/xguo0149/2022-DATA3406-RE06-Group04/main/src/resources/Participant-03.csv?token=GHSAT0AAAAAAAAAHGMVU2TXURUSK4J4YK2QY2BNZZA\"\n",
    "# use panda to read this csv\n",
    "data = pd.read_csv(url)\n",
    "#show the data\n",
    "data"
   ]
  },
  {
   "cell_type": "code",
   "execution_count": 3,
   "metadata": {},
   "outputs": [
    {
     "data": {
      "text/plain": [
       "13171.999999660999"
      ]
     },
     "execution_count": 3,
     "metadata": {},
     "output_type": "execute_result"
    }
   ],
   "source": [
    "\"(beginning date：01/10/2022, end date： 01/10/2022, author: Tiannan Chen)\"\n",
    "#Directly select the number of hours needed for the week\n",
    "df = data[1:175]\n",
    "#Add a column of data\n",
    "one_week = df['Steps (count)'].sum()\n",
    "#show the result\n",
    "one_week"
   ]
  },
  {
   "cell_type": "markdown",
   "metadata": {},
   "source": [
    "# conclusion \n",
    "In this way, we have a week's step count data, and we also need papers to prove whether the people who were recorded this week are sticking to exercise.  \n",
    "(beginning date：01/10/2022, end date： 01/10/2022, author: Tiannan Chen)"
   ]
  },
  {
   "cell_type": "code",
   "execution_count": null,
   "metadata": {},
   "outputs": [],
   "source": []
  }
 ],
 "metadata": {
  "kernelspec": {
   "display_name": "Python 3",
   "language": "python",
   "name": "python3"
  },
  "language_info": {
   "codemirror_mode": {
    "name": "ipython",
    "version": 3
   },
   "file_extension": ".py",
   "mimetype": "text/x-python",
   "name": "python",
   "nbconvert_exporter": "python",
   "pygments_lexer": "ipython3",
   "version": "3.8.5"
  }
 },
 "nbformat": 4,
 "nbformat_minor": 4
}
