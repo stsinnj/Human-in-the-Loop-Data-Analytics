{
 "cells": [
  {
   "cell_type": "markdown",
   "metadata": {},
   "source": [
    "# Introduction  \n",
    "This is my personal product notebook, which records the three participants I researched, and finally shows them together in the form of a chart.My sub question is \"whether a person's movement can be seen from the number of steps per week?\"  \n",
    "(beginning date：23/10/2022, end date： 31/10/2022, author: Tiannan Chen)"
   ]
  },
  {
   "cell_type": "markdown",
   "metadata": {},
   "source": [
    "## Importing external packages    \n",
    "in this notebook, we need to import numpy, csv, pandas, datetimeand matplotlib.pyplot package.  \n",
    "(beginning date：23/10/2022, end date： 31/10/2022, author: Tiannan Chen)"
   ]
  },
  {
   "cell_type": "code",
   "execution_count": 1,
   "metadata": {},
   "outputs": [],
   "source": [
    "\"(beginning date：23/10/2022, end date： 31/10/2022, author: Tiannan Chen)\"\n",
    "import csv\n",
    "import numpy as np\n",
    "import pandas as pd\n",
    "import matplotlib.pyplot as plt\n",
    "from pandas import DataFrame\n",
    "from datetime import date"
   ]
  },
  {
   "cell_type": "markdown",
   "metadata": {},
   "source": [
    "## Read the data\n",
    "All the data sets are still read by url, namely dataset1, dataset3 and dataset8.  \n",
    "(beginning date：23/10/2022, end date： 31/10/2022, author: Tiannan Chen)"
   ]
  },
  {
   "cell_type": "code",
   "execution_count": 2,
   "metadata": {},
   "outputs": [],
   "source": [
    "\"(beginning date：23/10/2022, end date： 31/10/2022, author: Tiannan Chen)\"\n",
    "#get the raw data from the github\n",
    "url1 = \"https://raw.github.sydney.edu.au/xguo0149/2022-DATA3406-RE06-Group04/main/src/resources/Participant-01.csv?token=GHSAT0AAAAAAAAAHGMUT5SQNAS3CXTTH4BGY3IQANQ\" \n",
    "url3 = \"https://raw.github.sydney.edu.au/xguo0149/2022-DATA3406-RE06-Group04/main/src/resources/Participant-03.csv?token=GHSAT0AAAAAAAAAHGMVDB4ECJFZG46C6VK2Y3IQA4A\"\n",
    "url8 = \"https://raw.github.sydney.edu.au/xguo0149/2022-DATA3406-RE06-Group04/main/src/resources/Participant-08.csv?token=GHSAT0AAAAAAAAAHGMVHS2EDNLVBDQW7LOOY3IQBFA\"\n",
    "# use panda to read these csv\n",
    "data1 = pd.read_csv(url1)\n",
    "data3 = pd.read_csv(url3)\n",
    "data8 = pd.read_csv(url8)"
   ]
  },
  {
   "cell_type": "markdown",
   "metadata": {},
   "source": [
    "## Clean the data  \n",
    "I use function to clean up the data so that I don't need three repetitive pieces of code, making the notebook look cleaner.  \n",
    "(beginning date：23/10/2022, end date： 31/10/2022, author: Tiannan Chen)"
   ]
  },
  {
   "cell_type": "code",
   "execution_count": 12,
   "metadata": {},
   "outputs": [],
   "source": [
    "\"(beginning date：23/10/2022, end date： 31/10/2022, author: Tiannan Chen)\"\n",
    "def clean_undetailed_data(df):\n",
    "    #change foramt to datetime\n",
    "    df['Start'] = pd.to_datetime(df['Start'])\n",
    "    #change the datetime format as yyyy-mm-dd\n",
    "    df['Start'] = df['Start'].dt.strftime('%Y/%m/%d')\n",
    "    #group by start time and count the steps\n",
    "    day_data1 = df.groupby(['Start']).sum()\n",
    "    # add index\n",
    "    day_data1 = day_data1.reset_index(drop=False)\n",
    "    #first change the data type to datetime\n",
    "    day_data1['Start'] = pd.to_datetime(day_data1['Start'])\n",
    "    #use resample to integrate the data into weekly\n",
    "    week_data1 = day_data1.resample('W', on=\"Start\").sum()\n",
    "    #added numbers to record each week\n",
    "    week_data1['weeks'] = range(len(week_data1))\n",
    "    return week_data1\n"
   ]
  },
  {
   "cell_type": "markdown",
   "metadata": {},
   "source": [
    "## Function to draw the graph  \n",
    "I also used the function to draw the final chart to make my code more clean and clear, bringing the cleaned raw data into the function below will generate a histogram and a horizontal red line as the standard line. The x-axis of the histogram is time, which is The number of weeks, the y-axis is the number of steps and the number of steps taken in a week. Then Tiannan Chen's sub question is \"whether a person's movement can be seen from the number of steps per week?\" It can be seen intuitively from the figure that the set red horizontal line is the standard activity level for one week, and higher than the red line indicates that this The activity level of each participant in this week has reached the standard. If it is lower than the red line, it means that the activity volume has not reached the standard. If you want to compare the activity levels of different participants, you should also look at the number of weeks that exceed the red line. The activity of each participant is high.  \n",
    "(beginning date：23/10/2022, end date： 31/10/2022, author: Tiannan Chen)"
   ]
  },
  {
   "cell_type": "code",
   "execution_count": 13,
   "metadata": {},
   "outputs": [],
   "source": [
    "\"(beginning date：23/10/2022, end date： 31/10/2022, author: Tiannan Chen)\"\n",
    "def tiannan_chen_sub(wd):\n",
    "    # the x-axis data\n",
    "    x = wd['weeks']\n",
    "    # the y-axis data\n",
    "    y = wd['Steps (count)']\n",
    "    # use bar plot\n",
    "    plt.bar(x,y)\n",
    "    # name the x-axis\n",
    "    plt.xlabel('Time (weeks)')\n",
    "    # name the y-axis\n",
    "    plt.ylabel('Steps')\n",
    "    # set the standard line and colored red\n",
    "    plt.axhline(70000, color = \"r\")\n",
    "    #show the plot\n",
    "    return"
   ]
  },
  {
   "cell_type": "markdown",
   "metadata": {},
   "source": [
    "clean all three datasets.  \n",
    "(beginning date：23/10/2022, end date： 31/10/2022, author: Tiannan Chen)"
   ]
  },
  {
   "cell_type": "code",
   "execution_count": 14,
   "metadata": {},
   "outputs": [],
   "source": [
    "\"(beginning date：23/10/2022, end date： 31/10/2022, author: Tiannan Chen)\"\n",
    "cd1 = clean_undetailed_data(data1)\n",
    "cd3 = clean_undetailed_data(data3)\n",
    "cd8 = clean_undetailed_data(data8)"
   ]
  },
  {
   "cell_type": "markdown",
   "metadata": {},
   "source": [
    "show the 3 participents in a plot.  \n",
    "(beginning date：23/10/2022, end date： 31/10/2022, author: Tiannan Chen)"
   ]
  },
  {
   "cell_type": "code",
   "execution_count": 15,
   "metadata": {},
   "outputs": [
    {
     "data": {
      "image/png": "[encoded data removed]",
      "text/plain": [
       "<Figure size 432x288 with 1 Axes>"
      ]
     },
     "metadata": {
      "needs_background": "light"
     },
     "output_type": "display_data"
    }
   ],
   "source": [
    "\"(beginning date：23/10/2022, end date： 31/10/2022, author: Tiannan Chen)\"\n",
    "tiannan_chen_sub(cd1)\n",
    "tiannan_chen_sub(cd3)\n",
    "tiannan_chen_sub(cd8)"
   ]
  },
  {
   "cell_type": "markdown",
   "metadata": {},
   "source": [
    "## conclusion  \n",
    "We can clearly see that the green and blue are participant 1 and participant 8, respectively. Their number of steps is significantly more than that of participant 3, but the number of steps recorded by participant 3 is longer.  \n",
    "(beginning date：23/10/2022, end date： 31/10/2022, author: Tiannan Chen)"
   ]
  }
 ],
 "metadata": {
  "kernelspec": {
   "display_name": "Python 3",
   "language": "python",
   "name": "python3"
  },
  "language_info": {
   "codemirror_mode": {
    "name": "ipython",
    "version": 3
   },
   "file_extension": ".py",
   "mimetype": "text/x-python",
   "name": "python",
   "nbconvert_exporter": "python",
   "pygments_lexer": "ipython3",
   "version": "3.8.5"
  }
 },
 "nbformat": 4,
 "nbformat_minor": 4
}
