{
 "cells": [
  {
   "cell_type": "markdown",
   "metadata": {},
   "source": [
    "# Introduction"
   ]
  },
  {
   "cell_type": "markdown",
   "metadata": {},
   "source": [
    "Begin date: 2022-10-09 \\\n",
    "End date: 2022-10-11 \\\n",
    "Author: Xin Guo\n",
    "\n",
    "Sub-question: Was there a significant difference in the amount of exercise participants did in summer and winter, and if so, how should we describe this difference?\n",
    "\n",
    "In TPP-10, \n",
    "- aggregated the data by day and week then visualized them in the bar plot. \n",
    "- Use the ARMA model to predict steps in a day\n",
    "- Use the decomposition of series data finding the seasonality in the given data.\n",
    "\n",
    "\n",
    "My findings show that from January to May, participants' weekly exercise increased gradually to a maximum of 80,000 steps. In June, the participant's exercise rate dropped rapidly to 40,000 steps."
   ]
  },
  {
   "cell_type": "markdown",
   "metadata": {},
   "source": [
    "Below is the modules that are required in analysing. \n",
    "pandas is for loading data from csv to jupyter; \n",
    "matplotlib is for visualizing the result; \n",
    "datetime is for processing date and time format. "
   ]
  },
  {
   "cell_type": "code",
   "execution_count": 1,
   "metadata": {},
   "outputs": [],
   "source": [
    "import pandas as pd\n",
    "import matplotlib.pyplot as plt\n",
    "import datetime\n",
    "import seaborn as sns\n",
    "from statsmodels.tsa.statespace.sarimax import SARIMAX\n",
    "import numpy as np\n",
    "from sklearn.metrics import mean_squared_error\n",
    "from statsmodels.tsa.seasonal import seasonal_decompose"
   ]
  },
  {
   "cell_type": "markdown",
   "metadata": {},
   "source": [
    "# Data clean and aggregation"
   ]
  },
  {
   "cell_type": "markdown",
   "metadata": {},
   "source": [
    "Below is the read data from folders"
   ]
  },
  {
   "cell_type": "code",
   "execution_count": 3,
   "metadata": {},
   "outputs": [],
   "source": [
    "raw_data = pd.read_csv(\"https://raw.github.sydney.edu.au/xguo0149/2022-DATA3406-RE06-Group04/main/src/resources/Participant-08.csv?token=GHSAT0AAAAAAAAAHGMSFOLE3RL4GHCVKSIAY3FABJA\")\n",
    "\n",
    "# second method\n",
    "# raw_data = pd.read_csv(\"resources/Participant-08.csv\")"
   ]
  },
  {
   "cell_type": "markdown",
   "metadata": {},
   "source": [
    "Below is converting the format: \n",
    "- convert date into standard format: YYYY-MM-DD HH:MM:SS\n",
    "- modify the variables' name which are only including lower case letters, digits and underscore "
   ]
  },
  {
   "cell_type": "code",
   "execution_count": 4,
   "metadata": {},
   "outputs": [
    {
     "data": {
      "text/html": [
       "<div>\n",
       "<style scoped>\n",
       "    .dataframe tbody tr th:only-of-type {\n",
       "        vertical-align: middle;\n",
       "    }\n",
       "\n",
       "    .dataframe tbody tr th {\n",
       "        vertical-align: top;\n",
       "    }\n",
       "\n",
       "    .dataframe thead th {\n",
       "        text-align: right;\n",
       "    }\n",
       "</style>\n",
       "<table border=\"1\" class=\"dataframe\">\n",
       "  <thead>\n",
       "    <tr style=\"text-align: right;\">\n",
       "      <th></th>\n",
       "      <th>start</th>\n",
       "      <th>finish</th>\n",
       "      <th>steps_count</th>\n",
       "    </tr>\n",
       "  </thead>\n",
       "  <tbody>\n",
       "    <tr>\n",
       "      <th>0</th>\n",
       "      <td>2022-01-01 00:00:00</td>\n",
       "      <td>2022-01-01 01:00:00</td>\n",
       "      <td>0.0</td>\n",
       "    </tr>\n",
       "    <tr>\n",
       "      <th>1</th>\n",
       "      <td>2022-01-01 01:00:00</td>\n",
       "      <td>2022-01-01 02:00:00</td>\n",
       "      <td>0.0</td>\n",
       "    </tr>\n",
       "    <tr>\n",
       "      <th>2</th>\n",
       "      <td>2022-01-01 02:00:00</td>\n",
       "      <td>2022-01-01 03:00:00</td>\n",
       "      <td>0.0</td>\n",
       "    </tr>\n",
       "    <tr>\n",
       "      <th>3</th>\n",
       "      <td>2022-01-01 03:00:00</td>\n",
       "      <td>2022-01-01 04:00:00</td>\n",
       "      <td>0.0</td>\n",
       "    </tr>\n",
       "    <tr>\n",
       "      <th>4</th>\n",
       "      <td>2022-01-01 04:00:00</td>\n",
       "      <td>2022-01-01 05:00:00</td>\n",
       "      <td>0.0</td>\n",
       "    </tr>\n",
       "    <tr>\n",
       "      <th>...</th>\n",
       "      <td>...</td>\n",
       "      <td>...</td>\n",
       "      <td>...</td>\n",
       "    </tr>\n",
       "    <tr>\n",
       "      <th>6100</th>\n",
       "      <td>2022-09-12 03:00:00</td>\n",
       "      <td>2022-09-12 04:00:00</td>\n",
       "      <td>0.0</td>\n",
       "    </tr>\n",
       "    <tr>\n",
       "      <th>6101</th>\n",
       "      <td>2022-09-12 04:00:00</td>\n",
       "      <td>2022-09-12 05:00:00</td>\n",
       "      <td>0.0</td>\n",
       "    </tr>\n",
       "    <tr>\n",
       "      <th>6102</th>\n",
       "      <td>2022-09-12 05:00:00</td>\n",
       "      <td>2022-09-12 06:00:00</td>\n",
       "      <td>25.0</td>\n",
       "    </tr>\n",
       "    <tr>\n",
       "      <th>6103</th>\n",
       "      <td>2022-09-12 06:00:00</td>\n",
       "      <td>2022-09-12 07:00:00</td>\n",
       "      <td>0.0</td>\n",
       "    </tr>\n",
       "    <tr>\n",
       "      <th>6104</th>\n",
       "      <td>2022-09-12 07:00:00</td>\n",
       "      <td>2022-09-12 08:00:00</td>\n",
       "      <td>203.0</td>\n",
       "    </tr>\n",
       "  </tbody>\n",
       "</table>\n",
       "<p>6105 rows × 3 columns</p>\n",
       "</div>"
      ],
      "text/plain": [
       "                   start              finish  steps_count\n",
       "0    2022-01-01 00:00:00 2022-01-01 01:00:00          0.0\n",
       "1    2022-01-01 01:00:00 2022-01-01 02:00:00          0.0\n",
       "2    2022-01-01 02:00:00 2022-01-01 03:00:00          0.0\n",
       "3    2022-01-01 03:00:00 2022-01-01 04:00:00          0.0\n",
       "4    2022-01-01 04:00:00 2022-01-01 05:00:00          0.0\n",
       "...                  ...                 ...          ...\n",
       "6100 2022-09-12 03:00:00 2022-09-12 04:00:00          0.0\n",
       "6101 2022-09-12 04:00:00 2022-09-12 05:00:00          0.0\n",
       "6102 2022-09-12 05:00:00 2022-09-12 06:00:00         25.0\n",
       "6103 2022-09-12 06:00:00 2022-09-12 07:00:00          0.0\n",
       "6104 2022-09-12 07:00:00 2022-09-12 08:00:00        203.0\n",
       "\n",
       "[6105 rows x 3 columns]"
      ]
     },
     "execution_count": 4,
     "metadata": {},
     "output_type": "execute_result"
    }
   ],
   "source": [
    "raw_data['Start']=pd.to_datetime(raw_data['Start'])\n",
    "raw_data['Finish']=pd.to_datetime(raw_data['Finish'])\n",
    "\n",
    "raw_data.rename(columns = {'Start': 'start', 'Finish': 'finish', 'Steps (count)':'steps_count'}, inplace = True)\n",
    "raw_data"
   ]
  },
  {
   "cell_type": "markdown",
   "metadata": {},
   "source": [
    "Result: the two columns `start` and `finish` has been converted to the standard format, the columns' names are all lower case."
   ]
  },
  {
   "cell_type": "markdown",
   "metadata": {},
   "source": [
    "Below is converting float in the variable `steps_count` into integer"
   ]
  },
  {
   "cell_type": "code",
   "execution_count": 5,
   "metadata": {},
   "outputs": [],
   "source": [
    "raw_data['steps_count'] = raw_data['steps_count'].astype(int)"
   ]
  },
  {
   "cell_type": "markdown",
   "metadata": {},
   "source": [
    "Below is aggregating data by day: I use the `groupby` funtion via the start date to aggregate all the data in one day. Variable `steps_count` is the sum of steps. "
   ]
  },
  {
   "cell_type": "code",
   "execution_count": 6,
   "metadata": {},
   "outputs": [
    {
     "data": {
      "text/html": [
       "<div>\n",
       "<style scoped>\n",
       "    .dataframe tbody tr th:only-of-type {\n",
       "        vertical-align: middle;\n",
       "    }\n",
       "\n",
       "    .dataframe tbody tr th {\n",
       "        vertical-align: top;\n",
       "    }\n",
       "\n",
       "    .dataframe thead th {\n",
       "        text-align: right;\n",
       "    }\n",
       "</style>\n",
       "<table border=\"1\" class=\"dataframe\">\n",
       "  <thead>\n",
       "    <tr style=\"text-align: right;\">\n",
       "      <th></th>\n",
       "      <th>start</th>\n",
       "      <th>steps_count</th>\n",
       "    </tr>\n",
       "  </thead>\n",
       "  <tbody>\n",
       "    <tr>\n",
       "      <th>0</th>\n",
       "      <td>2022-01-01</td>\n",
       "      <td>7311</td>\n",
       "    </tr>\n",
       "    <tr>\n",
       "      <th>1</th>\n",
       "      <td>2022-01-02</td>\n",
       "      <td>7659</td>\n",
       "    </tr>\n",
       "    <tr>\n",
       "      <th>2</th>\n",
       "      <td>2022-01-03</td>\n",
       "      <td>6461</td>\n",
       "    </tr>\n",
       "    <tr>\n",
       "      <th>3</th>\n",
       "      <td>2022-01-04</td>\n",
       "      <td>5452</td>\n",
       "    </tr>\n",
       "    <tr>\n",
       "      <th>4</th>\n",
       "      <td>2022-01-05</td>\n",
       "      <td>8657</td>\n",
       "    </tr>\n",
       "    <tr>\n",
       "      <th>...</th>\n",
       "      <td>...</td>\n",
       "      <td>...</td>\n",
       "    </tr>\n",
       "    <tr>\n",
       "      <th>250</th>\n",
       "      <td>2022-09-08</td>\n",
       "      <td>18146</td>\n",
       "    </tr>\n",
       "    <tr>\n",
       "      <th>251</th>\n",
       "      <td>2022-09-09</td>\n",
       "      <td>17785</td>\n",
       "    </tr>\n",
       "    <tr>\n",
       "      <th>252</th>\n",
       "      <td>2022-09-10</td>\n",
       "      <td>14369</td>\n",
       "    </tr>\n",
       "    <tr>\n",
       "      <th>253</th>\n",
       "      <td>2022-09-11</td>\n",
       "      <td>5634</td>\n",
       "    </tr>\n",
       "    <tr>\n",
       "      <th>254</th>\n",
       "      <td>2022-09-12</td>\n",
       "      <td>228</td>\n",
       "    </tr>\n",
       "  </tbody>\n",
       "</table>\n",
       "<p>255 rows × 2 columns</p>\n",
       "</div>"
      ],
      "text/plain": [
       "          start  steps_count\n",
       "0    2022-01-01         7311\n",
       "1    2022-01-02         7659\n",
       "2    2022-01-03         6461\n",
       "3    2022-01-04         5452\n",
       "4    2022-01-05         8657\n",
       "..          ...          ...\n",
       "250  2022-09-08        18146\n",
       "251  2022-09-09        17785\n",
       "252  2022-09-10        14369\n",
       "253  2022-09-11         5634\n",
       "254  2022-09-12          228\n",
       "\n",
       "[255 rows x 2 columns]"
      ]
     },
     "execution_count": 6,
     "metadata": {},
     "output_type": "execute_result"
    }
   ],
   "source": [
    "raw_data_by_day =  raw_data.groupby(by = raw_data['start'].dt.date).sum().reset_index()\n",
    "raw_data_by_day['steps_count'] = raw_data_by_day['steps_count'].astype(int)\n",
    "\n",
    "raw_data_by_day"
   ]
  },
  {
   "cell_type": "markdown",
   "metadata": {},
   "source": [
    "Result: the aggregated dataframe includes two columns `start` the date and `steps_count` steps in the day. "
   ]
  },
  {
   "cell_type": "markdown",
   "metadata": {},
   "source": [
    "Below is spliting winter's steps data, we use the data in January and February. "
   ]
  },
  {
   "cell_type": "code",
   "execution_count": 7,
   "metadata": {},
   "outputs": [
    {
     "data": {
      "text/html": [
       "<div>\n",
       "<style scoped>\n",
       "    .dataframe tbody tr th:only-of-type {\n",
       "        vertical-align: middle;\n",
       "    }\n",
       "\n",
       "    .dataframe tbody tr th {\n",
       "        vertical-align: top;\n",
       "    }\n",
       "\n",
       "    .dataframe thead th {\n",
       "        text-align: right;\n",
       "    }\n",
       "</style>\n",
       "<table border=\"1\" class=\"dataframe\">\n",
       "  <thead>\n",
       "    <tr style=\"text-align: right;\">\n",
       "      <th></th>\n",
       "      <th>steps_count</th>\n",
       "    </tr>\n",
       "    <tr>\n",
       "      <th>start</th>\n",
       "      <th></th>\n",
       "    </tr>\n",
       "  </thead>\n",
       "  <tbody>\n",
       "    <tr>\n",
       "      <th>2022-01-01</th>\n",
       "      <td>7311</td>\n",
       "    </tr>\n",
       "    <tr>\n",
       "      <th>2022-01-02</th>\n",
       "      <td>7659</td>\n",
       "    </tr>\n",
       "    <tr>\n",
       "      <th>2022-01-03</th>\n",
       "      <td>6461</td>\n",
       "    </tr>\n",
       "    <tr>\n",
       "      <th>2022-01-04</th>\n",
       "      <td>5452</td>\n",
       "    </tr>\n",
       "    <tr>\n",
       "      <th>2022-01-05</th>\n",
       "      <td>8657</td>\n",
       "    </tr>\n",
       "    <tr>\n",
       "      <th>...</th>\n",
       "      <td>...</td>\n",
       "    </tr>\n",
       "    <tr>\n",
       "      <th>2022-03-27</th>\n",
       "      <td>12580</td>\n",
       "    </tr>\n",
       "    <tr>\n",
       "      <th>2022-03-28</th>\n",
       "      <td>12554</td>\n",
       "    </tr>\n",
       "    <tr>\n",
       "      <th>2022-03-29</th>\n",
       "      <td>9301</td>\n",
       "    </tr>\n",
       "    <tr>\n",
       "      <th>2022-03-30</th>\n",
       "      <td>9553</td>\n",
       "    </tr>\n",
       "    <tr>\n",
       "      <th>2022-03-31</th>\n",
       "      <td>14024</td>\n",
       "    </tr>\n",
       "  </tbody>\n",
       "</table>\n",
       "<p>90 rows × 1 columns</p>\n",
       "</div>"
      ],
      "text/plain": [
       "            steps_count\n",
       "start                  \n",
       "2022-01-01         7311\n",
       "2022-01-02         7659\n",
       "2022-01-03         6461\n",
       "2022-01-04         5452\n",
       "2022-01-05         8657\n",
       "...                 ...\n",
       "2022-03-27        12580\n",
       "2022-03-28        12554\n",
       "2022-03-29         9301\n",
       "2022-03-30         9553\n",
       "2022-03-31        14024\n",
       "\n",
       "[90 rows x 1 columns]"
      ]
     },
     "execution_count": 7,
     "metadata": {},
     "output_type": "execute_result"
    }
   ],
   "source": [
    "df1 = raw_data[raw_data['start'].dt.month == 1 ].groupby(by = raw_data['start'].dt.date).sum()\n",
    "\n",
    "df2 = raw_data[raw_data['start'].dt.month == 2 ].groupby(by = raw_data['start'].dt.date).sum()\n",
    "\n",
    "df3 = raw_data[raw_data['start'].dt.month == 3 ].groupby(by = raw_data['start'].dt.date).sum()\n",
    "\n",
    "raw_data_winter = pd.concat([df1, df2, df3])\n",
    "raw_data_winter"
   ]
  },
  {
   "cell_type": "markdown",
   "metadata": {},
   "source": [
    "**Result**: Daily steps data of participant-8 in winter is stored in `raw_data_winter`"
   ]
  },
  {
   "cell_type": "markdown",
   "metadata": {},
   "source": [
    "Below is spliting summar's daily steps data, we use the data in June and July. "
   ]
  },
  {
   "cell_type": "code",
   "execution_count": 8,
   "metadata": {},
   "outputs": [
    {
     "data": {
      "text/html": [
       "<div>\n",
       "<style scoped>\n",
       "    .dataframe tbody tr th:only-of-type {\n",
       "        vertical-align: middle;\n",
       "    }\n",
       "\n",
       "    .dataframe tbody tr th {\n",
       "        vertical-align: top;\n",
       "    }\n",
       "\n",
       "    .dataframe thead th {\n",
       "        text-align: right;\n",
       "    }\n",
       "</style>\n",
       "<table border=\"1\" class=\"dataframe\">\n",
       "  <thead>\n",
       "    <tr style=\"text-align: right;\">\n",
       "      <th></th>\n",
       "      <th>steps_count</th>\n",
       "    </tr>\n",
       "    <tr>\n",
       "      <th>start</th>\n",
       "      <th></th>\n",
       "    </tr>\n",
       "  </thead>\n",
       "  <tbody>\n",
       "    <tr>\n",
       "      <th>2022-06-01</th>\n",
       "      <td>5224</td>\n",
       "    </tr>\n",
       "    <tr>\n",
       "      <th>2022-06-02</th>\n",
       "      <td>7067</td>\n",
       "    </tr>\n",
       "    <tr>\n",
       "      <th>2022-06-03</th>\n",
       "      <td>6335</td>\n",
       "    </tr>\n",
       "    <tr>\n",
       "      <th>2022-06-04</th>\n",
       "      <td>11788</td>\n",
       "    </tr>\n",
       "    <tr>\n",
       "      <th>2022-06-05</th>\n",
       "      <td>4253</td>\n",
       "    </tr>\n",
       "    <tr>\n",
       "      <th>...</th>\n",
       "      <td>...</td>\n",
       "    </tr>\n",
       "    <tr>\n",
       "      <th>2022-08-27</th>\n",
       "      <td>15261</td>\n",
       "    </tr>\n",
       "    <tr>\n",
       "      <th>2022-08-28</th>\n",
       "      <td>9162</td>\n",
       "    </tr>\n",
       "    <tr>\n",
       "      <th>2022-08-29</th>\n",
       "      <td>11641</td>\n",
       "    </tr>\n",
       "    <tr>\n",
       "      <th>2022-08-30</th>\n",
       "      <td>9626</td>\n",
       "    </tr>\n",
       "    <tr>\n",
       "      <th>2022-08-31</th>\n",
       "      <td>18724</td>\n",
       "    </tr>\n",
       "  </tbody>\n",
       "</table>\n",
       "<p>92 rows × 1 columns</p>\n",
       "</div>"
      ],
      "text/plain": [
       "            steps_count\n",
       "start                  \n",
       "2022-06-01         5224\n",
       "2022-06-02         7067\n",
       "2022-06-03         6335\n",
       "2022-06-04        11788\n",
       "2022-06-05         4253\n",
       "...                 ...\n",
       "2022-08-27        15261\n",
       "2022-08-28         9162\n",
       "2022-08-29        11641\n",
       "2022-08-30         9626\n",
       "2022-08-31        18724\n",
       "\n",
       "[92 rows x 1 columns]"
      ]
     },
     "execution_count": 8,
     "metadata": {},
     "output_type": "execute_result"
    }
   ],
   "source": [
    "df1 = raw_data[raw_data['start'].dt.month == 6 ].groupby(by = raw_data['start'].dt.date).sum()\n",
    "\n",
    "df2 = raw_data[raw_data['start'].dt.month == 7 ].groupby(by = raw_data['start'].dt.date).sum()\n",
    "\n",
    "df3 = raw_data[raw_data['start'].dt.month == 8 ].groupby(by = raw_data['start'].dt.date).sum()\n",
    "\n",
    "raw_data_summar = pd.concat([df1, df2, df3])\n",
    "raw_data_summar"
   ]
  },
  {
   "cell_type": "markdown",
   "metadata": {},
   "source": [
    "**Result**: Daily steps data of participant-8 in winter is stored in `raw_data_summar`"
   ]
  },
  {
   "cell_type": "markdown",
   "metadata": {},
   "source": [
    "Below is plot of steps in each day. x-axis is the date, y-axis is count of steps in the day. "
   ]
  },
  {
   "cell_type": "code",
   "execution_count": 9,
   "metadata": {},
   "outputs": [
    {
     "data": {
      "image/png": "[encoded data removed]",
      "text/plain": [
       "<Figure size 720x504 with 1 Axes>"
      ]
     },
     "metadata": {
      "needs_background": "light"
     },
     "output_type": "display_data"
    }
   ],
   "source": [
    "\n",
    "start = raw_data_by_day['start']\n",
    "steps = raw_data_by_day['steps_count']\n",
    " \n",
    "# Figure Size\n",
    "fig = plt.figure(figsize =(10, 7))\n",
    " \n",
    "#  line Plot\n",
    "plt.plot(start, steps)\n",
    "\n",
    "plt.xlabel(\"Date\")\n",
    "plt.ylabel(\"Steps in one day\")\n",
    "plt.title(\"Line Plot of Steps from 2022-01-01 to 2022-09-12\")\n",
    "\n",
    "plt.xticks(rotation=45)\n",
    "\n",
    "# Show Plot\n",
    "plt.show()"
   ]
  },
  {
   "cell_type": "markdown",
   "metadata": {},
   "source": [
    "Result:\n",
    "As can be seen from the graphs, the amount of daily exercise varied considerably among the participants. The maximum amount of exercise per day was over 20,000 steps and the minimum amount was around 2,000 steps. There was a significant decrease in the participant's exercise in June and July, and given that it was winter in Sydney in June and July, we suspect that the weather may have influenced the participant's exercise level.\n",
    "\n",
    "Therefore, further analysis is needed, i.e. to look at the total weekly exercise."
   ]
  },
  {
   "cell_type": "markdown",
   "metadata": {},
   "source": [
    "Below is aggregate daily data into weekly data using the `resample` function. We set Monday as the first day of a week. \n",
    "We keep the step count is an interger in each row, a float of steps does not make sense."
   ]
  },
  {
   "cell_type": "code",
   "execution_count": 10,
   "metadata": {},
   "outputs": [
    {
     "data": {
      "text/html": [
       "<div>\n",
       "<style scoped>\n",
       "    .dataframe tbody tr th:only-of-type {\n",
       "        vertical-align: middle;\n",
       "    }\n",
       "\n",
       "    .dataframe tbody tr th {\n",
       "        vertical-align: top;\n",
       "    }\n",
       "\n",
       "    .dataframe thead th {\n",
       "        text-align: right;\n",
       "    }\n",
       "</style>\n",
       "<table border=\"1\" class=\"dataframe\">\n",
       "  <thead>\n",
       "    <tr style=\"text-align: right;\">\n",
       "      <th></th>\n",
       "      <th>start</th>\n",
       "      <th>steps_count</th>\n",
       "    </tr>\n",
       "  </thead>\n",
       "  <tbody>\n",
       "    <tr>\n",
       "      <th>0</th>\n",
       "      <td>2022-01-03</td>\n",
       "      <td>21431</td>\n",
       "    </tr>\n",
       "    <tr>\n",
       "      <th>1</th>\n",
       "      <td>2022-01-10</td>\n",
       "      <td>53099</td>\n",
       "    </tr>\n",
       "    <tr>\n",
       "      <th>2</th>\n",
       "      <td>2022-01-17</td>\n",
       "      <td>45350</td>\n",
       "    </tr>\n",
       "    <tr>\n",
       "      <th>3</th>\n",
       "      <td>2022-01-24</td>\n",
       "      <td>44020</td>\n",
       "    </tr>\n",
       "    <tr>\n",
       "      <th>4</th>\n",
       "      <td>2022-01-31</td>\n",
       "      <td>49843</td>\n",
       "    </tr>\n",
       "    <tr>\n",
       "      <th>5</th>\n",
       "      <td>2022-02-07</td>\n",
       "      <td>59614</td>\n",
       "    </tr>\n",
       "    <tr>\n",
       "      <th>6</th>\n",
       "      <td>2022-02-14</td>\n",
       "      <td>65391</td>\n",
       "    </tr>\n",
       "    <tr>\n",
       "      <th>7</th>\n",
       "      <td>2022-02-21</td>\n",
       "      <td>57760</td>\n",
       "    </tr>\n",
       "    <tr>\n",
       "      <th>8</th>\n",
       "      <td>2022-02-28</td>\n",
       "      <td>62240</td>\n",
       "    </tr>\n",
       "    <tr>\n",
       "      <th>9</th>\n",
       "      <td>2022-03-07</td>\n",
       "      <td>20480</td>\n",
       "    </tr>\n",
       "    <tr>\n",
       "      <th>10</th>\n",
       "      <td>2022-03-14</td>\n",
       "      <td>60681</td>\n",
       "    </tr>\n",
       "    <tr>\n",
       "      <th>11</th>\n",
       "      <td>2022-03-21</td>\n",
       "      <td>71506</td>\n",
       "    </tr>\n",
       "    <tr>\n",
       "      <th>12</th>\n",
       "      <td>2022-03-28</td>\n",
       "      <td>78557</td>\n",
       "    </tr>\n",
       "    <tr>\n",
       "      <th>13</th>\n",
       "      <td>2022-04-04</td>\n",
       "      <td>53053</td>\n",
       "    </tr>\n",
       "    <tr>\n",
       "      <th>14</th>\n",
       "      <td>2022-04-11</td>\n",
       "      <td>37641</td>\n",
       "    </tr>\n",
       "    <tr>\n",
       "      <th>15</th>\n",
       "      <td>2022-04-18</td>\n",
       "      <td>72170</td>\n",
       "    </tr>\n",
       "    <tr>\n",
       "      <th>16</th>\n",
       "      <td>2022-04-25</td>\n",
       "      <td>83750</td>\n",
       "    </tr>\n",
       "    <tr>\n",
       "      <th>17</th>\n",
       "      <td>2022-05-02</td>\n",
       "      <td>69187</td>\n",
       "    </tr>\n",
       "    <tr>\n",
       "      <th>18</th>\n",
       "      <td>2022-05-09</td>\n",
       "      <td>75930</td>\n",
       "    </tr>\n",
       "    <tr>\n",
       "      <th>19</th>\n",
       "      <td>2022-05-16</td>\n",
       "      <td>87716</td>\n",
       "    </tr>\n",
       "    <tr>\n",
       "      <th>20</th>\n",
       "      <td>2022-05-23</td>\n",
       "      <td>64660</td>\n",
       "    </tr>\n",
       "    <tr>\n",
       "      <th>21</th>\n",
       "      <td>2022-05-30</td>\n",
       "      <td>43266</td>\n",
       "    </tr>\n",
       "    <tr>\n",
       "      <th>22</th>\n",
       "      <td>2022-06-06</td>\n",
       "      <td>50978</td>\n",
       "    </tr>\n",
       "    <tr>\n",
       "      <th>23</th>\n",
       "      <td>2022-06-13</td>\n",
       "      <td>38982</td>\n",
       "    </tr>\n",
       "    <tr>\n",
       "      <th>24</th>\n",
       "      <td>2022-06-20</td>\n",
       "      <td>69128</td>\n",
       "    </tr>\n",
       "    <tr>\n",
       "      <th>25</th>\n",
       "      <td>2022-06-27</td>\n",
       "      <td>54148</td>\n",
       "    </tr>\n",
       "    <tr>\n",
       "      <th>26</th>\n",
       "      <td>2022-07-04</td>\n",
       "      <td>56678</td>\n",
       "    </tr>\n",
       "    <tr>\n",
       "      <th>27</th>\n",
       "      <td>2022-07-11</td>\n",
       "      <td>54853</td>\n",
       "    </tr>\n",
       "    <tr>\n",
       "      <th>28</th>\n",
       "      <td>2022-07-18</td>\n",
       "      <td>49838</td>\n",
       "    </tr>\n",
       "    <tr>\n",
       "      <th>29</th>\n",
       "      <td>2022-07-25</td>\n",
       "      <td>57567</td>\n",
       "    </tr>\n",
       "    <tr>\n",
       "      <th>30</th>\n",
       "      <td>2022-08-01</td>\n",
       "      <td>80414</td>\n",
       "    </tr>\n",
       "    <tr>\n",
       "      <th>31</th>\n",
       "      <td>2022-08-08</td>\n",
       "      <td>66679</td>\n",
       "    </tr>\n",
       "    <tr>\n",
       "      <th>32</th>\n",
       "      <td>2022-08-15</td>\n",
       "      <td>64152</td>\n",
       "    </tr>\n",
       "    <tr>\n",
       "      <th>33</th>\n",
       "      <td>2022-08-22</td>\n",
       "      <td>59030</td>\n",
       "    </tr>\n",
       "    <tr>\n",
       "      <th>34</th>\n",
       "      <td>2022-08-29</td>\n",
       "      <td>65689</td>\n",
       "    </tr>\n",
       "    <tr>\n",
       "      <th>35</th>\n",
       "      <td>2022-09-05</td>\n",
       "      <td>70007</td>\n",
       "    </tr>\n",
       "    <tr>\n",
       "      <th>36</th>\n",
       "      <td>2022-09-12</td>\n",
       "      <td>91346</td>\n",
       "    </tr>\n",
       "  </tbody>\n",
       "</table>\n",
       "</div>"
      ],
      "text/plain": [
       "        start  steps_count\n",
       "0  2022-01-03        21431\n",
       "1  2022-01-10        53099\n",
       "2  2022-01-17        45350\n",
       "3  2022-01-24        44020\n",
       "4  2022-01-31        49843\n",
       "5  2022-02-07        59614\n",
       "6  2022-02-14        65391\n",
       "7  2022-02-21        57760\n",
       "8  2022-02-28        62240\n",
       "9  2022-03-07        20480\n",
       "10 2022-03-14        60681\n",
       "11 2022-03-21        71506\n",
       "12 2022-03-28        78557\n",
       "13 2022-04-04        53053\n",
       "14 2022-04-11        37641\n",
       "15 2022-04-18        72170\n",
       "16 2022-04-25        83750\n",
       "17 2022-05-02        69187\n",
       "18 2022-05-09        75930\n",
       "19 2022-05-16        87716\n",
       "20 2022-05-23        64660\n",
       "21 2022-05-30        43266\n",
       "22 2022-06-06        50978\n",
       "23 2022-06-13        38982\n",
       "24 2022-06-20        69128\n",
       "25 2022-06-27        54148\n",
       "26 2022-07-04        56678\n",
       "27 2022-07-11        54853\n",
       "28 2022-07-18        49838\n",
       "29 2022-07-25        57567\n",
       "30 2022-08-01        80414\n",
       "31 2022-08-08        66679\n",
       "32 2022-08-15        64152\n",
       "33 2022-08-22        59030\n",
       "34 2022-08-29        65689\n",
       "35 2022-09-05        70007\n",
       "36 2022-09-12        91346"
      ]
     },
     "execution_count": 10,
     "metadata": {},
     "output_type": "execute_result"
    }
   ],
   "source": [
    "raw_data_by_week = pd.DataFrame(raw_data.resample('W-MON', on='start').steps_count.sum()).reset_index()\n",
    "raw_data_by_week['steps_count'] = raw_data_by_week['steps_count'].astype(int)\n",
    "\n",
    "raw_data_by_week"
   ]
  },
  {
   "cell_type": "markdown",
   "metadata": {},
   "source": [
    "Result:\n",
    "The aggregated dataframe includes two columns: `start` date of Monday in a week and `steps_count`the steps in the week. "
   ]
  },
  {
   "cell_type": "markdown",
   "metadata": {},
   "source": [
    "Below is the bar plot of weekly total steps. X-axis is date of a week, y-axis is the steps in the week. "
   ]
  },
  {
   "cell_type": "code",
   "execution_count": 73,
   "metadata": {},
   "outputs": [
    {
     "data": {
      "image/png": "[encoded data removed]",
      "text/plain": [
       "<Figure size 720x504 with 1 Axes>"
      ]
     },
     "metadata": {
      "needs_background": "light"
     },
     "output_type": "display_data"
    }
   ],
   "source": [
    "start = raw_data_by_week['start']\n",
    "steps = raw_data_by_week['steps_count']\n",
    " \n",
    "# Figure Size\n",
    "fig = plt.figure(figsize =(10, 7))\n",
    " \n",
    "#  bar Plot\n",
    "plt.bar(start, steps)\n",
    "\n",
    "plt.title(\"Barplot of Weekly Sum of Steps of Participant-8\")\n",
    "plt.xlabel(\"Week\")\n",
    "plt.ylabel(\"Steps in A Week\")\n",
    " \n",
    "# Show Plot\n",
    "plt.show()"
   ]
  },
  {
   "cell_type": "markdown",
   "metadata": {},
   "source": [
    "The bar chart above shows a gradual increase in exercise for this participant from January to May, with a sudden decrease in June; this is consistent with the results we observed from the daily exercise. Then there was a gradual increase in exercise from June to September."
   ]
  },
  {
   "cell_type": "markdown",
   "metadata": {},
   "source": [
    "# Model Prediction: ARMA\n",
    "\n"
   ]
  },
  {
   "cell_type": "markdown",
   "metadata": {},
   "source": [
    "Autoregressive Moving Average (ARMA) is a theoretical statistical model that uses past data to predict future data. This method is mostly used to predict the future of weather, stocks, etc. It is a type of self-regression model."
   ]
  },
  {
   "cell_type": "markdown",
   "metadata": {},
   "source": [
    "The following sets the index of each row to a date instead of a number. This is done because using the ARMA model requires the data type to be an integer or floating point number."
   ]
  },
  {
   "cell_type": "code",
   "execution_count": 74,
   "metadata": {},
   "outputs": [
    {
     "data": {
      "text/html": [
       "<div>\n",
       "<style scoped>\n",
       "    .dataframe tbody tr th:only-of-type {\n",
       "        vertical-align: middle;\n",
       "    }\n",
       "\n",
       "    .dataframe tbody tr th {\n",
       "        vertical-align: top;\n",
       "    }\n",
       "\n",
       "    .dataframe thead th {\n",
       "        text-align: right;\n",
       "    }\n",
       "</style>\n",
       "<table border=\"1\" class=\"dataframe\">\n",
       "  <thead>\n",
       "    <tr style=\"text-align: right;\">\n",
       "      <th></th>\n",
       "      <th>start</th>\n",
       "      <th>steps_count</th>\n",
       "    </tr>\n",
       "    <tr>\n",
       "      <th>start</th>\n",
       "      <th></th>\n",
       "      <th></th>\n",
       "    </tr>\n",
       "  </thead>\n",
       "  <tbody>\n",
       "    <tr>\n",
       "      <th>2022-01-01</th>\n",
       "      <td>2022-01-01</td>\n",
       "      <td>7311</td>\n",
       "    </tr>\n",
       "    <tr>\n",
       "      <th>2022-01-02</th>\n",
       "      <td>2022-01-02</td>\n",
       "      <td>7659</td>\n",
       "    </tr>\n",
       "    <tr>\n",
       "      <th>2022-01-03</th>\n",
       "      <td>2022-01-03</td>\n",
       "      <td>6461</td>\n",
       "    </tr>\n",
       "    <tr>\n",
       "      <th>2022-01-04</th>\n",
       "      <td>2022-01-04</td>\n",
       "      <td>5452</td>\n",
       "    </tr>\n",
       "    <tr>\n",
       "      <th>2022-01-05</th>\n",
       "      <td>2022-01-05</td>\n",
       "      <td>8657</td>\n",
       "    </tr>\n",
       "    <tr>\n",
       "      <th>...</th>\n",
       "      <td>...</td>\n",
       "      <td>...</td>\n",
       "    </tr>\n",
       "    <tr>\n",
       "      <th>2022-09-08</th>\n",
       "      <td>2022-09-08</td>\n",
       "      <td>18146</td>\n",
       "    </tr>\n",
       "    <tr>\n",
       "      <th>2022-09-09</th>\n",
       "      <td>2022-09-09</td>\n",
       "      <td>17785</td>\n",
       "    </tr>\n",
       "    <tr>\n",
       "      <th>2022-09-10</th>\n",
       "      <td>2022-09-10</td>\n",
       "      <td>14369</td>\n",
       "    </tr>\n",
       "    <tr>\n",
       "      <th>2022-09-11</th>\n",
       "      <td>2022-09-11</td>\n",
       "      <td>5634</td>\n",
       "    </tr>\n",
       "    <tr>\n",
       "      <th>2022-09-12</th>\n",
       "      <td>2022-09-12</td>\n",
       "      <td>228</td>\n",
       "    </tr>\n",
       "  </tbody>\n",
       "</table>\n",
       "<p>255 rows × 2 columns</p>\n",
       "</div>"
      ],
      "text/plain": [
       "                 start  steps_count\n",
       "start                              \n",
       "2022-01-01  2022-01-01         7311\n",
       "2022-01-02  2022-01-02         7659\n",
       "2022-01-03  2022-01-03         6461\n",
       "2022-01-04  2022-01-04         5452\n",
       "2022-01-05  2022-01-05         8657\n",
       "...                ...          ...\n",
       "2022-09-08  2022-09-08        18146\n",
       "2022-09-09  2022-09-09        17785\n",
       "2022-09-10  2022-09-10        14369\n",
       "2022-09-11  2022-09-11         5634\n",
       "2022-09-12  2022-09-12          228\n",
       "\n",
       "[255 rows x 2 columns]"
      ]
     },
     "execution_count": 74,
     "metadata": {},
     "output_type": "execute_result"
    }
   ],
   "source": [
    "raw_data_by_day.index = raw_data_by_day[\"start\"]\n",
    "raw_data_by_day"
   ]
  },
  {
   "cell_type": "markdown",
   "metadata": {},
   "source": [
    "The variable `date` has been set as the index, and the data frame still contains two variables. \\\n",
    "So we need to remove the date column to ensure that the data frame only contains data of integer and floating point types:"
   ]
  },
  {
   "cell_type": "code",
   "execution_count": 75,
   "metadata": {},
   "outputs": [
    {
     "data": {
      "text/html": [
       "<div>\n",
       "<style scoped>\n",
       "    .dataframe tbody tr th:only-of-type {\n",
       "        vertical-align: middle;\n",
       "    }\n",
       "\n",
       "    .dataframe tbody tr th {\n",
       "        vertical-align: top;\n",
       "    }\n",
       "\n",
       "    .dataframe thead th {\n",
       "        text-align: right;\n",
       "    }\n",
       "</style>\n",
       "<table border=\"1\" class=\"dataframe\">\n",
       "  <thead>\n",
       "    <tr style=\"text-align: right;\">\n",
       "      <th></th>\n",
       "      <th>steps_count</th>\n",
       "    </tr>\n",
       "    <tr>\n",
       "      <th>start</th>\n",
       "      <th></th>\n",
       "    </tr>\n",
       "  </thead>\n",
       "  <tbody>\n",
       "    <tr>\n",
       "      <th>2022-01-01</th>\n",
       "      <td>7311</td>\n",
       "    </tr>\n",
       "    <tr>\n",
       "      <th>2022-01-02</th>\n",
       "      <td>7659</td>\n",
       "    </tr>\n",
       "    <tr>\n",
       "      <th>2022-01-03</th>\n",
       "      <td>6461</td>\n",
       "    </tr>\n",
       "    <tr>\n",
       "      <th>2022-01-04</th>\n",
       "      <td>5452</td>\n",
       "    </tr>\n",
       "    <tr>\n",
       "      <th>2022-01-05</th>\n",
       "      <td>8657</td>\n",
       "    </tr>\n",
       "    <tr>\n",
       "      <th>...</th>\n",
       "      <td>...</td>\n",
       "    </tr>\n",
       "    <tr>\n",
       "      <th>2022-09-08</th>\n",
       "      <td>18146</td>\n",
       "    </tr>\n",
       "    <tr>\n",
       "      <th>2022-09-09</th>\n",
       "      <td>17785</td>\n",
       "    </tr>\n",
       "    <tr>\n",
       "      <th>2022-09-10</th>\n",
       "      <td>14369</td>\n",
       "    </tr>\n",
       "    <tr>\n",
       "      <th>2022-09-11</th>\n",
       "      <td>5634</td>\n",
       "    </tr>\n",
       "    <tr>\n",
       "      <th>2022-09-12</th>\n",
       "      <td>228</td>\n",
       "    </tr>\n",
       "  </tbody>\n",
       "</table>\n",
       "<p>255 rows × 1 columns</p>\n",
       "</div>"
      ],
      "text/plain": [
       "            steps_count\n",
       "start                  \n",
       "2022-01-01         7311\n",
       "2022-01-02         7659\n",
       "2022-01-03         6461\n",
       "2022-01-04         5452\n",
       "2022-01-05         8657\n",
       "...                 ...\n",
       "2022-09-08        18146\n",
       "2022-09-09        17785\n",
       "2022-09-10        14369\n",
       "2022-09-11         5634\n",
       "2022-09-12          228\n",
       "\n",
       "[255 rows x 1 columns]"
      ]
     },
     "execution_count": 75,
     "metadata": {},
     "output_type": "execute_result"
    }
   ],
   "source": [
    "del raw_data_by_day[\"start\"]\n",
    "raw_data_by_day"
   ]
  },
  {
   "cell_type": "markdown",
   "metadata": {},
   "source": [
    "We have removed the date column. By now we have finished preparing the data format."
   ]
  },
  {
   "cell_type": "markdown",
   "metadata": {},
   "source": [
    "In order to train the prediction model, we need to separate the training set from the test set to avoid overfitting the model. The training set is used to generate the model and the test set is used to check the accuracy of the model. \\\n",
    "\n",
    "We choose the last 30 days of the training set as the test set"
   ]
  },
  {
   "cell_type": "code",
   "execution_count": 76,
   "metadata": {},
   "outputs": [
    {
     "data": {
      "text/html": [
       "<div>\n",
       "<style scoped>\n",
       "    .dataframe tbody tr th:only-of-type {\n",
       "        vertical-align: middle;\n",
       "    }\n",
       "\n",
       "    .dataframe tbody tr th {\n",
       "        vertical-align: top;\n",
       "    }\n",
       "\n",
       "    .dataframe thead th {\n",
       "        text-align: right;\n",
       "    }\n",
       "</style>\n",
       "<table border=\"1\" class=\"dataframe\">\n",
       "  <thead>\n",
       "    <tr style=\"text-align: right;\">\n",
       "      <th></th>\n",
       "      <th>steps_count</th>\n",
       "    </tr>\n",
       "    <tr>\n",
       "      <th>start</th>\n",
       "      <th></th>\n",
       "    </tr>\n",
       "  </thead>\n",
       "  <tbody>\n",
       "    <tr>\n",
       "      <th>2022-08-14</th>\n",
       "      <td>6538</td>\n",
       "    </tr>\n",
       "    <tr>\n",
       "      <th>2022-08-15</th>\n",
       "      <td>12945</td>\n",
       "    </tr>\n",
       "    <tr>\n",
       "      <th>2022-08-16</th>\n",
       "      <td>7161</td>\n",
       "    </tr>\n",
       "    <tr>\n",
       "      <th>2022-08-17</th>\n",
       "      <td>3885</td>\n",
       "    </tr>\n",
       "    <tr>\n",
       "      <th>2022-08-18</th>\n",
       "      <td>7510</td>\n",
       "    </tr>\n",
       "    <tr>\n",
       "      <th>2022-08-19</th>\n",
       "      <td>6922</td>\n",
       "    </tr>\n",
       "    <tr>\n",
       "      <th>2022-08-20</th>\n",
       "      <td>12169</td>\n",
       "    </tr>\n",
       "    <tr>\n",
       "      <th>2022-08-21</th>\n",
       "      <td>13488</td>\n",
       "    </tr>\n",
       "    <tr>\n",
       "      <th>2022-08-22</th>\n",
       "      <td>7895</td>\n",
       "    </tr>\n",
       "    <tr>\n",
       "      <th>2022-08-23</th>\n",
       "      <td>9115</td>\n",
       "    </tr>\n",
       "    <tr>\n",
       "      <th>2022-08-24</th>\n",
       "      <td>7625</td>\n",
       "    </tr>\n",
       "    <tr>\n",
       "      <th>2022-08-25</th>\n",
       "      <td>8310</td>\n",
       "    </tr>\n",
       "    <tr>\n",
       "      <th>2022-08-26</th>\n",
       "      <td>4575</td>\n",
       "    </tr>\n",
       "    <tr>\n",
       "      <th>2022-08-27</th>\n",
       "      <td>15261</td>\n",
       "    </tr>\n",
       "    <tr>\n",
       "      <th>2022-08-28</th>\n",
       "      <td>9162</td>\n",
       "    </tr>\n",
       "    <tr>\n",
       "      <th>2022-08-29</th>\n",
       "      <td>11641</td>\n",
       "    </tr>\n",
       "    <tr>\n",
       "      <th>2022-08-30</th>\n",
       "      <td>9626</td>\n",
       "    </tr>\n",
       "    <tr>\n",
       "      <th>2022-08-31</th>\n",
       "      <td>18724</td>\n",
       "    </tr>\n",
       "    <tr>\n",
       "      <th>2022-09-01</th>\n",
       "      <td>4981</td>\n",
       "    </tr>\n",
       "    <tr>\n",
       "      <th>2022-09-02</th>\n",
       "      <td>9651</td>\n",
       "    </tr>\n",
       "    <tr>\n",
       "      <th>2022-09-03</th>\n",
       "      <td>6411</td>\n",
       "    </tr>\n",
       "    <tr>\n",
       "      <th>2022-09-04</th>\n",
       "      <td>11673</td>\n",
       "    </tr>\n",
       "    <tr>\n",
       "      <th>2022-09-05</th>\n",
       "      <td>8941</td>\n",
       "    </tr>\n",
       "    <tr>\n",
       "      <th>2022-09-06</th>\n",
       "      <td>12421</td>\n",
       "    </tr>\n",
       "    <tr>\n",
       "      <th>2022-09-07</th>\n",
       "      <td>22763</td>\n",
       "    </tr>\n",
       "    <tr>\n",
       "      <th>2022-09-08</th>\n",
       "      <td>18146</td>\n",
       "    </tr>\n",
       "    <tr>\n",
       "      <th>2022-09-09</th>\n",
       "      <td>17785</td>\n",
       "    </tr>\n",
       "    <tr>\n",
       "      <th>2022-09-10</th>\n",
       "      <td>14369</td>\n",
       "    </tr>\n",
       "    <tr>\n",
       "      <th>2022-09-11</th>\n",
       "      <td>5634</td>\n",
       "    </tr>\n",
       "    <tr>\n",
       "      <th>2022-09-12</th>\n",
       "      <td>228</td>\n",
       "    </tr>\n",
       "  </tbody>\n",
       "</table>\n",
       "</div>"
      ],
      "text/plain": [
       "            steps_count\n",
       "start                  \n",
       "2022-08-14         6538\n",
       "2022-08-15        12945\n",
       "2022-08-16         7161\n",
       "2022-08-17         3885\n",
       "2022-08-18         7510\n",
       "2022-08-19         6922\n",
       "2022-08-20        12169\n",
       "2022-08-21        13488\n",
       "2022-08-22         7895\n",
       "2022-08-23         9115\n",
       "2022-08-24         7625\n",
       "2022-08-25         8310\n",
       "2022-08-26         4575\n",
       "2022-08-27        15261\n",
       "2022-08-28         9162\n",
       "2022-08-29        11641\n",
       "2022-08-30         9626\n",
       "2022-08-31        18724\n",
       "2022-09-01         4981\n",
       "2022-09-02         9651\n",
       "2022-09-03         6411\n",
       "2022-09-04        11673\n",
       "2022-09-05         8941\n",
       "2022-09-06        12421\n",
       "2022-09-07        22763\n",
       "2022-09-08        18146\n",
       "2022-09-09        17785\n",
       "2022-09-10        14369\n",
       "2022-09-11         5634\n",
       "2022-09-12          228"
      ]
     },
     "execution_count": 76,
     "metadata": {},
     "output_type": "execute_result"
    }
   ],
   "source": [
    "raw_data_by_day.tail(30)"
   ]
  },
  {
   "cell_type": "markdown",
   "metadata": {},
   "source": [
    "The data from August 14, 2022 to September 12, 2022 is the test set"
   ]
  },
  {
   "cell_type": "markdown",
   "metadata": {},
   "source": [
    "The following is the separation of the test set and training set, August 14 is the bound of spltting."
   ]
  },
  {
   "cell_type": "code",
   "execution_count": 77,
   "metadata": {},
   "outputs": [
    {
     "name": "stderr",
     "output_type": "stream",
     "text": [
      "D:\\anaconda3\\lib\\site-packages\\pandas\\core\\ops\\array_ops.py:73: FutureWarning: Comparison of Timestamp with datetime.date is deprecated in order to match the standard library behavior.  In a future version these will be considered non-comparable.Use 'ts == pd.Timestamp(date)' or 'ts.date() == date' instead.\n",
      "  result = libops.scalar_compare(x.ravel(), y, op)\n"
     ]
    }
   ],
   "source": [
    "train_set = raw_data_by_day[raw_data_by_day.index < pd.to_datetime(\"2022-08-14\", format='%Y-%m-%d')]\n",
    "test_set = raw_data_by_day[raw_data_by_day.index >= pd.to_datetime(\"2022-08-14\", format='%Y-%m-%d')]"
   ]
  },
  {
   "cell_type": "markdown",
   "metadata": {},
   "source": [
    "Here is the process of training the model and using it to predict the number of steps per day: "
   ]
  },
  {
   "cell_type": "code",
   "execution_count": 78,
   "metadata": {},
   "outputs": [
    {
     "name": "stderr",
     "output_type": "stream",
     "text": [
      "D:\\anaconda3\\lib\\site-packages\\statsmodels\\tsa\\base\\tsa_model.py:471: ValueWarning: No frequency information was provided, so inferred frequency D will be used.\n",
      "  self._init_dates(dates, freq)\n",
      "D:\\anaconda3\\lib\\site-packages\\statsmodels\\tsa\\base\\tsa_model.py:471: ValueWarning: No frequency information was provided, so inferred frequency D will be used.\n",
      "  self._init_dates(dates, freq)\n",
      "D:\\anaconda3\\lib\\site-packages\\statsmodels\\tsa\\statespace\\sarimax.py:966: UserWarning: Non-stationary starting autoregressive parameters found. Using zeros as starting parameters.\n",
      "  warn('Non-stationary starting autoregressive parameters'\n"
     ]
    }
   ],
   "source": [
    "# using the data in training set genrarating the ARMA model\n",
    "y = train_set['steps_count']\n",
    "ARMAmodel = SARIMAX(y, order = (1, 0, 1))\n",
    "ARMAmodel = ARMAmodel.fit()\n",
    "\n",
    "# using the ARMA model predicting the test set\n",
    "y_pred = ARMAmodel.get_forecast(len(test_set.index))\n",
    "\n",
    "# the confident level is set to 0.05\n",
    "y_pred_df = y_pred.conf_int(alpha = 0.05) \n",
    "y_pred_df[\"Predictions\"] = ARMAmodel.predict(start = y_pred_df.index[0], end = y_pred_df.index[-1])\n",
    "y_pred_df.index = test_set.index\n",
    "y_pred_out = y_pred_df[\"Predictions\"] "
   ]
  },
  {
   "cell_type": "code",
   "execution_count": 79,
   "metadata": {},
   "outputs": [
    {
     "data": {
      "text/plain": [
       "start\n",
       "2022-08-14    9423.580665\n",
       "2022-08-15    9374.664109\n",
       "2022-08-16    9326.001472\n",
       "2022-08-17    9277.591437\n",
       "2022-08-18    9229.432692\n",
       "Name: Predictions, dtype: float64"
      ]
     },
     "execution_count": 79,
     "metadata": {},
     "output_type": "execute_result"
    }
   ],
   "source": [
    "y_pred_out.head(5)"
   ]
  },
  {
   "cell_type": "markdown",
   "metadata": {},
   "source": [
    "Above is the predicted number of steps from August 14 to September 12, which shows the decreasing number of steps. \\\n",
    "\n",
    "We visualise the predicted results and the actual results and check the accuracy: "
   ]
  },
  {
   "cell_type": "code",
   "execution_count": 80,
   "metadata": {},
   "outputs": [
    {
     "data": {
      "text/plain": [
       "<matplotlib.legend.Legend at 0x1adb880a550>"
      ]
     },
     "execution_count": 80,
     "metadata": {},
     "output_type": "execute_result"
    },
    {
     "data": {
      "image/png": "[encoded data removed]",
      "text/plain": [
       "<Figure size 432x288 with 1 Axes>"
      ]
     },
     "metadata": {
      "needs_background": "light"
     },
     "output_type": "display_data"
    }
   ],
   "source": [
    "plt.plot(y_pred_out, color='green', label = 'Predictions')\n",
    "plt.plot(test_set, color='black', label = 'Actual')\n",
    "\n",
    "plt.xticks(rotation=45)\n",
    "plt.xlabel(\"Date\")\n",
    "plt.ylabel(\"Steps\")\n",
    "plt.title(\"ARMA Model for predicting steps from 2022-08-14 to 2022-09-12\")\n",
    "\n",
    "plt.legend()"
   ]
  },
  {
   "cell_type": "markdown",
   "metadata": {},
   "source": [
    "As you can see from the graph above, the trend of the ARMA model is correct, i.e. the number of steps per day for the participant decreases from August 14th. The disadvantage of the ARMA model is that it does not capture the periodicity in the data, which is the reason for the linear decrease in the predicted results. Therefore, in order to capture the periodicity of the data, we will use a time series data decomposition method to isolate the periodic variation."
   ]
  },
  {
   "cell_type": "markdown",
   "metadata": {},
   "source": [
    "The following is the RMSE of the ARMA model: "
   ]
  },
  {
   "cell_type": "code",
   "execution_count": 81,
   "metadata": {},
   "outputs": [
    {
     "name": "stdout",
     "output_type": "stream",
     "text": [
      "The root mean squared error of ARMA model is 5215.78\n"
     ]
    }
   ],
   "source": [
    "arma_rmse = np.sqrt(mean_squared_error(test_set[\"steps_count\"].values, y_pred_df[\"Predictions\"]))\n",
    "\n",
    "print(\"The root mean squared error of ARMA model is {:.2f}\".format(arma_rmse))"
   ]
  },
  {
   "cell_type": "markdown",
   "metadata": {},
   "source": [
    "# Compare steps between Summar and Winter: Decomposition of Time Series"
   ]
  },
  {
   "cell_type": "markdown",
   "metadata": {},
   "source": [
    "The decomposition of the time series data is as follows: \n",
    "\n",
    "$$\n",
    "X_k = a_k + b_k + r_k\n",
    "$$\n",
    "\n",
    "$k$: $k^{th}$ observation $\\newline$\n",
    "$X_k$ denotes observations $\\newline$\n",
    "$a_k$ denotes the trend component, it represents the long-term trend of the data, usually one of up, down or constant $\\newline$\n",
    "$b_k$ denotes the period component, it represents the cyclical behaviour in the data. For example, in the case of the ARMA model, the participant has a large fluctuation every once in a while. $\\newline$\n",
    "$r_k$ denotes the residual component, it is usually the remainder of the trend and cyclicality that is removed"
   ]
  },
  {
   "cell_type": "markdown",
   "metadata": {},
   "source": [
    "Below is the decomposition process, where we focus on the trend and seasonality components of the data: \n",
    "\n",
    "In the decomposition process above, we have chosen a periodicity of 35, as this data set contains approximately 35 weeks of steps"
   ]
  },
  {
   "cell_type": "markdown",
   "metadata": {},
   "source": [
    "Below is the analysis of data in winter, which we choose data in January, February and March. We analyse the trend and seasonality in the chosen data "
   ]
  },
  {
   "cell_type": "code",
   "execution_count": 82,
   "metadata": {},
   "outputs": [],
   "source": [
    "decomposition_add = seasonal_decompose(raw_data_winter, model='additive', period=35)\n",
    "\n",
    "\n",
    "\n",
    "trend = decomposition_add.trend\n",
    "season = decomposition_add.seasonal\n",
    "# residual = decomposition_add.resid\n"
   ]
  },
  {
   "cell_type": "markdown",
   "metadata": {},
   "source": [
    "Below is the visualisation of the components of trend and seasonality."
   ]
  },
  {
   "cell_type": "code",
   "execution_count": 17,
   "metadata": {},
   "outputs": [
    {
     "data": {
      "text/plain": [
       "Text(0, 0.5, 'Step Count')"
      ]
     },
     "execution_count": 17,
     "metadata": {},
     "output_type": "execute_result"
    },
    {
     "data": {
      "image/png": "[encoded data removed]",
      "text/plain": [
       "<Figure size 720x360 with 1 Axes>"
      ]
     },
     "metadata": {
      "needs_background": "light"
     },
     "output_type": "display_data"
    }
   ],
   "source": [
    "# Plotting the time series and it's components together\n",
    "\n",
    "fig, axes = plt.subplots(1, 1, sharex=True, sharey=False)\n",
    "fig.set_figheight(5)\n",
    "fig.set_figwidth(10)\n",
    "\n",
    "# First plot to the Original time series\n",
    "# axes[0].plot(raw_data_by_day[\"steps_count\"], label='Original', color = \"black\") \n",
    "# axes[0].legend(loc='upper left')\n",
    "\n",
    "# first plot to be for trend\n",
    "axes.plot(trend, label='Trend', color = \"blue\")\n",
    "axes.legend(loc='upper left')\n",
    "axes.title.set_text('Trend of Steps in Winter')\n",
    "axes.set_xlabel('Week Number')\n",
    "axes.set_ylabel('Step Count')\n",
    "\n",
    "\n",
    "# Second plot to be Seasonality component\n",
    "# axes[1].plot(season, label='Seasonality', color = \"green\")\n",
    "# axes[1].legend(loc='upper left')\n",
    "\n",
    "# last last plot to be Residual component\n",
    "# axes[3].plot(residual, label='Residuals')\n",
    "# axes[3].legend(loc='upper left')"
   ]
  },
  {
   "cell_type": "markdown",
   "metadata": {},
   "source": [
    "As can be seen from the images in the trend section(Red line): \n",
    "\n",
    "- The number of steps taken by the participant increases gradually from 2022-01-15 to 2022-02-10, with the total number of steps reaching a maximum on 2022-02-10. \n",
    "- From 2022-02-10 to 2022-03-01, the number of steps decreases.\n",
    "- From 2022-03-01, the number of steps increased. \\\n",
    "  \n",
    "The trend for these three time periods is the same as the trend we made above for the weekly step totals, which suggests that the trend we isolated is partially correct."
   ]
  },
  {
   "cell_type": "markdown",
   "metadata": {},
   "source": [
    "As can be seen from the cyclical component(Green line):  \n",
    "- The length of each cycle is approximately one month\n",
    "- Each cycle has 4 to 5 heavy movements, with a peak of 4000 steps"
   ]
  },
  {
   "cell_type": "code",
   "execution_count": 84,
   "metadata": {},
   "outputs": [],
   "source": [
    "decomposition_add = seasonal_decompose(raw_data_summar, model='additive', period=35)\n",
    "\n",
    "\n",
    "\n",
    "trend = decomposition_add.trend\n",
    "season = decomposition_add.seasonal\n",
    "residual = decomposition_add.resid"
   ]
  },
  {
   "cell_type": "markdown",
   "metadata": {},
   "source": [
    "Below is the visualisation of the components of trend and seasonality."
   ]
  },
  {
   "cell_type": "code",
   "execution_count": 16,
   "metadata": {},
   "outputs": [
    {
     "data": {
      "text/plain": [
       "Text(0, 0.5, 'Step Count')"
      ]
     },
     "execution_count": 16,
     "metadata": {},
     "output_type": "execute_result"
    },
    {
     "data": {
      "image/png": "[encoded data removed]",
      "text/plain": [
       "<Figure size 720x360 with 1 Axes>"
      ]
     },
     "metadata": {
      "needs_background": "light"
     },
     "output_type": "display_data"
    }
   ],
   "source": [
    "# Plotting the time series and it's components together\n",
    "\n",
    "fig, axes = plt.subplots(1, 1, sharex=True, sharey=False)\n",
    "fig.set_figheight(5)\n",
    "fig.set_figwidth(10)\n",
    "\n",
    "# First plot to the Original time series\n",
    "# axes[0].plot(raw_data_by_day[\"steps_count\"], label='Original', color = \"black\") \n",
    "# axes[0].legend(loc='upper left')\n",
    "\n",
    "# second plot to be for trend\n",
    "axes.plot(trend, label='Trend', color = \"red\")\n",
    "axes.legend(loc='upper left')\n",
    "axes.title.set_text('Trend of Steps in Summar')\n",
    "axes.set_xlabel('Week Number')\n",
    "axes.set_ylabel('Step Count')\n",
    "\n",
    "\n",
    "# third plot to be Seasonality component\n",
    "# axes[1].plot(season, label='Seasonality', color = \"green\")\n",
    "# axes[1].legend(loc='upper left')\n",
    "\n",
    "# last last plot to be Residual component\n",
    "# axes[3].plot(residual, label='Residuals')\n",
    "# axes[3].legend(loc='upper left')"
   ]
  },
  {
   "cell_type": "markdown",
   "metadata": {},
   "source": [
    "As can be seen from above trend plot(red line):\n",
    "\n",
    "- Steps increased from 7700 to 9500 from 2022-06-15 to 2022-08-15\n",
    "\n",
    "As can be seen from above seasonality plot(green line):\n",
    "\n",
    "- The length of a cycle is approximately 40 days. \n",
    "\n",
    "- Wide range of fluctuations within a cycle。 "
   ]
  },
  {
   "cell_type": "code",
   "execution_count": 13,
   "metadata": {},
   "outputs": [
    {
     "data": {
      "text/html": [
       "<div>\n",
       "<style scoped>\n",
       "    .dataframe tbody tr th:only-of-type {\n",
       "        vertical-align: middle;\n",
       "    }\n",
       "\n",
       "    .dataframe tbody tr th {\n",
       "        vertical-align: top;\n",
       "    }\n",
       "\n",
       "    .dataframe thead th {\n",
       "        text-align: right;\n",
       "    }\n",
       "</style>\n",
       "<table border=\"1\" class=\"dataframe\">\n",
       "  <thead>\n",
       "    <tr style=\"text-align: right;\">\n",
       "      <th></th>\n",
       "      <th>start</th>\n",
       "      <th>steps_count</th>\n",
       "    </tr>\n",
       "  </thead>\n",
       "  <tbody>\n",
       "    <tr>\n",
       "      <th>0</th>\n",
       "      <td>2022-01-03</td>\n",
       "      <td>21431</td>\n",
       "    </tr>\n",
       "    <tr>\n",
       "      <th>0</th>\n",
       "      <td>2022-01-03</td>\n",
       "      <td>21431</td>\n",
       "    </tr>\n",
       "    <tr>\n",
       "      <th>1</th>\n",
       "      <td>2022-01-10</td>\n",
       "      <td>53099</td>\n",
       "    </tr>\n",
       "    <tr>\n",
       "      <th>1</th>\n",
       "      <td>2022-01-10</td>\n",
       "      <td>53099</td>\n",
       "    </tr>\n",
       "    <tr>\n",
       "      <th>2</th>\n",
       "      <td>2022-01-17</td>\n",
       "      <td>45350</td>\n",
       "    </tr>\n",
       "    <tr>\n",
       "      <th>...</th>\n",
       "      <td>...</td>\n",
       "      <td>...</td>\n",
       "    </tr>\n",
       "    <tr>\n",
       "      <th>34</th>\n",
       "      <td>2022-08-29</td>\n",
       "      <td>65689</td>\n",
       "    </tr>\n",
       "    <tr>\n",
       "      <th>35</th>\n",
       "      <td>2022-09-05</td>\n",
       "      <td>70007</td>\n",
       "    </tr>\n",
       "    <tr>\n",
       "      <th>35</th>\n",
       "      <td>2022-09-05</td>\n",
       "      <td>70007</td>\n",
       "    </tr>\n",
       "    <tr>\n",
       "      <th>36</th>\n",
       "      <td>2022-09-12</td>\n",
       "      <td>91346</td>\n",
       "    </tr>\n",
       "    <tr>\n",
       "      <th>36</th>\n",
       "      <td>2022-09-12</td>\n",
       "      <td>91346</td>\n",
       "    </tr>\n",
       "  </tbody>\n",
       "</table>\n",
       "<p>74 rows × 2 columns</p>\n",
       "</div>"
      ],
      "text/plain": [
       "        start  steps_count\n",
       "0  2022-01-03        21431\n",
       "0  2022-01-03        21431\n",
       "1  2022-01-10        53099\n",
       "1  2022-01-10        53099\n",
       "2  2022-01-17        45350\n",
       "..        ...          ...\n",
       "34 2022-08-29        65689\n",
       "35 2022-09-05        70007\n",
       "35 2022-09-05        70007\n",
       "36 2022-09-12        91346\n",
       "36 2022-09-12        91346\n",
       "\n",
       "[74 rows x 2 columns]"
      ]
     },
     "execution_count": 13,
     "metadata": {},
     "output_type": "execute_result"
    }
   ],
   "source": [
    "raw_data_by_week\n",
    "\n",
    "pd.concat([raw_data_by_week, raw_data_by_week]).sort_values(\"start\")"
   ]
  },
  {
   "cell_type": "code",
   "execution_count": 18,
   "metadata": {},
   "outputs": [
    {
     "data": {
      "text/plain": [
       "Text(0, 0.5, 'Step Count')"
      ]
     },
     "execution_count": 18,
     "metadata": {},
     "output_type": "execute_result"
    },
    {
     "data": {
      "image/png": "[encoded data removed]",
      "text/plain": [
       "<Figure size 720x360 with 1 Axes>"
      ]
     },
     "metadata": {
      "needs_background": "light"
     },
     "output_type": "display_data"
    }
   ],
   "source": [
    "data1 = pd.concat([raw_data_by_week, raw_data_by_week]).sort_values(\"start\")\n",
    "\n",
    "# data1[\"Steps (count)\"] = data1[\"Steps (count)\"].astype(int)\n",
    "\n",
    "# generate seasonality decomposition additive analysis\n",
    "decomposition_add = seasonal_decompose(data1[\"steps_count\"], model='additive', period=4)\n",
    "\n",
    "# the analysis includes two part: trend and seasonality\n",
    "trend = decomposition_add.trend\n",
    "season = decomposition_add.seasonal\n",
    "\n",
    "# plot: set the legnth and width of plot\n",
    "fig, axes = plt.subplots(1, 1, sharex=True, sharey=False)\n",
    "fig.set_figheight(5)\n",
    "fig.set_figwidth(10)\n",
    "\n",
    "# plot: line plot; set legend, legend location,, x label, ylabel, title\n",
    "axes.plot(trend, label='Trend', color = \"blue\")\n",
    "axes.legend(loc='upper left')\n",
    "axes.title.set_text('Trend of Weekly Steps of Participant 8')\n",
    "axes.set_xlabel('Week Number')\n",
    "axes.set_ylabel('Step Count')"
   ]
  },
  {
   "cell_type": "markdown",
   "metadata": {},
   "source": [
    "# Reflection"
   ]
  },
  {
   "cell_type": "markdown",
   "metadata": {},
   "source": [
    "### How could we predict the steps in one day(or week)?"
   ]
  },
  {
   "cell_type": "markdown",
   "metadata": {},
   "source": [
    "- First we need to determine the baseline activity level of the participant, i.e. how many steps are normally taken in a week\n",
    "\n",
    "- Then we need to look at the trend over the predicted time period, i.e. whether it will increase or decrease over the predicted time period compared to the data already given\n",
    "\n",
    "- Finally, we need to see what day of the month (week) we are predicting, and add the corresponding period amount"
   ]
  },
  {
   "cell_type": "markdown",
   "metadata": {},
   "source": [
    "### What could be done better in the future?"
   ]
  },
  {
   "cell_type": "markdown",
   "metadata": {},
   "source": [
    "- Use cross-validation for the decompose model and calculate the accuracy of the model\n",
    "\n",
    "- The amount of data is not large enough, the aggregated data is only about two hundred days.\n",
    "\n",
    "- The ARMA model and the decomposition model are combined to produce a more accurate forecast model"
   ]
  },
  {
   "cell_type": "markdown",
   "metadata": {},
   "source": [
    "# Reference"
   ]
  },
  {
   "cell_type": "markdown",
   "metadata": {},
   "source": [
    "- A Guide to Time Series Forecasting in Python | Built In. (n.d.). Builtin.com. https://builtin.com/data-science/time-series-forecasting-python\n",
    "\n",
    "- admin. (n.d.). 10. Decomposition of Time-Series in Python: Trend and Seasonal (Periodic) Components | Fusion of Engineering, Control, Coding, Machine Learning, and Science. Retrieved October 12, 2022, from https://aleksandarhaber.com/decomposition-of-time-series-in-python-trend-and-seasonal-periodic-components/\n",
    "\n",
    "- How to decompose a time series? -. (n.d.). ProjectPro. Retrieved October 12, 2022, from https://www.projectpro.io/recipes/decompose-time-series\n",
    "\n",
    "- Getting started with Time Series Decomposition in Python. (n.d.). Engineering Education (EngEd) Program | Section. https://www.section.io/engineering-education/time-series-decomposition-in-python/"
   ]
  }
 ],
 "metadata": {
  "kernelspec": {
   "display_name": "Python 3 (ipykernel)",
   "language": "python",
   "name": "python3"
  },
  "language_info": {
   "codemirror_mode": {
    "name": "ipython",
    "version": 3
   },
   "file_extension": ".py",
   "mimetype": "text/x-python",
   "name": "python",
   "nbconvert_exporter": "python",
   "pygments_lexer": "ipython3",
   "version": "3.9.7"
  },
  "vscode": {
   "interpreter": {
    "hash": "49cb93f377a7abe7414b7b0f21fb3017538004a126cf690fb524202736b7fb92"
   }
  }
 },
 "nbformat": 4,
 "nbformat_minor": 2
}
