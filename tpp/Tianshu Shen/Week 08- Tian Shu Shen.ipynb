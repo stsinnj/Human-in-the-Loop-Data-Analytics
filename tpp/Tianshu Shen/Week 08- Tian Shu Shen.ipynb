{
 "cells": [
  {
   "cell_type": "markdown",
   "metadata": {},
   "source": [
    "# Part 1: Some Pandas tutorials to run through"
   ]
  },
  {
   "cell_type": "markdown",
   "metadata": {},
   "source": [
    "Corrected my misconception about placeholders: I used to think missing value was Null - now I realize it should be Na/NaN.  \n",
    "Matplotlib is a package that I've never used before. I know a little bit about this package now.  "
   ]
  },
  {
   "cell_type": "markdown",
   "metadata": {},
   "source": [
    "# Part 2: Hurdle Task for Assignment 2"
   ]
  },
  {
   "cell_type": "markdown",
   "metadata": {},
   "source": [
    "Link for Github Issues:    \n",
    "https://github.sydney.edu.au/xguo0149/2022-DATA3406-RE06-Group04/issues/3   \n",
    "https://github.sydney.edu.au/xguo0149/2022-DATA3406-RE06-Group04/issues/2   \n",
    "https://github.sydney.edu.au/xguo0149/2022-DATA3406-RE06-Group04/issues/1   "
   ]
  },
  {
   "cell_type": "markdown",
   "metadata": {},
   "source": [
    "Link for wiki page:   \n",
    "https://github.sydney.edu.au/xguo0149/2022-DATA3406-RE06-Group04/wiki/Group-Roles   "
   ]
  },
  {
   "cell_type": "markdown",
   "metadata": {},
   "source": [
    "Link for personal notebook:   \n",
    "https://github.sydney.edu.au/xguo0149/2022-DATA3406-RE06-Group04/blob/main/src/Tian%20Shu%20SHEN.ipynb"
   ]
  }
 ],
 "metadata": {
  "kernelspec": {
   "display_name": "Python 3",
   "language": "python",
   "name": "python3"
  },
  "language_info": {
   "codemirror_mode": {
    "name": "ipython",
    "version": 3
   },
   "file_extension": ".py",
   "mimetype": "text/x-python",
   "name": "python",
   "nbconvert_exporter": "python",
   "pygments_lexer": "ipython3",
   "version": "3.8.5"
  }
 },
 "nbformat": 4,
 "nbformat_minor": 4
}
