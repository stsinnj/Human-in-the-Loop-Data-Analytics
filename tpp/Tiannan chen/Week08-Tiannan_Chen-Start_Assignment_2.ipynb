{
 "cells": [
  {
   "cell_type": "markdown",
   "metadata": {},
   "source": [
    "## 1: All the Github Issues you created since the start of the Week 7 tutorial  \n",
    "https://github.sydney.edu.au/xguo0149/2022-DATA3406-RE06-Group04/issues/3  \n",
    "https://github.sydney.edu.au/xguo0149/2022-DATA3406-RE06-Group04/issues/2  \n",
    "https://github.sydney.edu.au/xguo0149/2022-DATA3406-RE06-Group04/issues/1  \n",
    "## 2: The wiki pages that document the discussion in your group about task allocation  \n",
    "https://github.sydney.edu.au/xguo0149/2022-DATA3406-RE06-Group04/wiki/Group-Roles\n",
    "## 3: Links to the notebook(s) you committed to Github with your code for data exploration.  \n",
    "https://github.sydney.edu.au/xguo0149/2022-DATA3406-RE06-Group04/blob/main/src/Week08-TiannanChen_personal_code.ipynb\n"
   ]
  }
 ],
 "metadata": {
  "kernelspec": {
   "display_name": "Python 3",
   "language": "python",
   "name": "python3"
  },
  "language_info": {
   "codemirror_mode": {
    "name": "ipython",
    "version": 3
   },
   "file_extension": ".py",
   "mimetype": "text/x-python",
   "name": "python",
   "nbconvert_exporter": "python",
   "pygments_lexer": "ipython3",
   "version": "3.8.5"
  }
 },
 "nbformat": 4,
 "nbformat_minor": 4
}
